{
 "cells": [
  {
   "cell_type": "markdown",
   "metadata": {},
   "source": [
    "# 정규표현식 (Regular Expression)\n",
    "\n",
    "정규표현식(Regular Expression)을 줄여서 Regex라고 표현하는데, 정규표현식을 사용하는 이유는 문자열 <font color='blue'>**검색**</font>과 <font color='blue'>**치환**</font>이 전부입니다. 정규표현식은 찾고자하는 텍스트가 가변적일때 매우 유용합니다.\n",
    "\n",
    "## 정규표현식 사용하여 문자열 찾기\n",
    "\n",
    "```python\n",
    "import re\n",
    "# ...\n",
    "result = re.findall(pattern, string)\n",
    "```\n",
    "\n",
    "일단 정규표현식을 사용하는 몇가지 상황들을 보고, 배워보도록 합시다."
   ]
  },
  {
   "cell_type": "code",
   "execution_count": 3,
   "metadata": {
    "collapsed": true
   },
   "outputs": [],
   "source": [
    "# 대문자로 시작하는 단어들 찾기\n",
    "str1 = \"\"\"\n",
    "Aha this is Python 2016 class.\n",
    "Where are you from?\n",
    "\"\"\""
   ]
  },
  {
   "cell_type": "code",
   "execution_count": 4,
   "metadata": {
    "collapsed": true
   },
   "outputs": [],
   "source": [
    "# 일단 import re를 해주세요. re(-gex, -gular expression)의 줄임말이겠죠.\n",
    "import re"
   ]
  },
  {
   "cell_type": "code",
   "execution_count": 5,
   "metadata": {
    "collapsed": false
   },
   "outputs": [
    {
     "data": {
      "text/plain": [
       "['Aha', 'Python', 'Where']"
      ]
     },
     "execution_count": 5,
     "metadata": {},
     "output_type": "execute_result"
    }
   ],
   "source": [
    "# A부타 Z까지 문자중 하나가 앞에 오고, 그 다음 아무 문자(\\w+, 공백 제외) 오는 패턴을 만들어서 찾는겁니다.\n",
    "re.findall(\"[A-Z]\\w+\", str1)"
   ]
  },
  {
   "cell_type": "code",
   "execution_count": 6,
   "metadata": {
    "collapsed": true
   },
   "outputs": [],
   "source": [
    "# 특정 파일 포맷을 찾고 싶다!\n",
    "string = \"\"\"\n",
    "sales1.xls\n",
    "orders3.xls\n",
    "sale2.xls\n",
    "sam.xls\n",
    "na1.xls\n",
    "na2.xls\n",
    "sa1.xls\n",
    "\"\"\""
   ]
  },
  {
   "cell_type": "code",
   "execution_count": 7,
   "metadata": {
    "collapsed": false
   },
   "outputs": [
    {
     "data": {
      "text/plain": [
       "['na1.xls', 'na2.xls', 'sa1.xls']"
      ]
     },
     "execution_count": 7,
     "metadata": {},
     "output_type": "execute_result"
    }
   ],
   "source": [
    "# n,s로 시작하고, 그 다음 바로 a가 오고, 그 다음 바로 숫자가 오는 엑셀(.xls) 파일 포맷을 찾고 싶습니다.\n",
    "re.findall(\"[ns]a[0-9]\\.xls\", string)"
   ]
  },
  {
   "cell_type": "code",
   "execution_count": 8,
   "metadata": {
    "collapsed": false
   },
   "outputs": [
    {
     "data": {
      "text/plain": [
       "['sam.xls']"
      ]
     },
     "execution_count": 8,
     "metadata": {},
     "output_type": "execute_result"
    }
   ],
   "source": [
    "# ^을 사용하면 숫자를 제외할 수도 있습니다.\n",
    "re.findall(\"[ns]a[^0-9]\\.xls\", string)"
   ]
  },
  {
   "cell_type": "markdown",
   "metadata": {},
   "source": [
    "## 일단 http://regexr.com 에 들어가서 연습을 해봅시다!\n",
    "\n",
    "우리는 찾고자하는 문자열의 '패턴'(Pattern)을 만드는데 집중하면 됩니다.\n",
    "\n",
    "### 1. 모든 문자 찾기 => 마침표(.) \n",
    "ab, ap, ma, za 이런 것을 찾으려면?\n",
    "\n",
    "- a.\n",
    "- .a\n",
    "- a..\n",
    "\n",
    "### 2. 메타 문자 찾기 => 역슬래시(\\\\)\n",
    "진짜 마침표(.)를 찾고 싶으면 역슬래시(\\\\)로 escape를 해야합니다. 메타 문자란 정규표현식에서 특별한 의미를 가지고 있는 문자들을 말합니다. 계속해서 배우겠지만, 마침표(.), 물음표(?), 별표(*) 등이 있습니다. 다른 메타 문자에 대한 것들도 마찬가지로 역슬래시(\\\\)를 사용해 모두 escape하면 됩니다.\n",
    "\n",
    "- \\\\.\n",
    "- \\\\[ \n",
    "- \\\\*"
   ]
  },
  {
   "cell_type": "code",
   "execution_count": 9,
   "metadata": {
    "collapsed": true
   },
   "outputs": [],
   "source": [
    "sample_str = \"\"\"\n",
    "Welcome to RegExr v2.0 by gskinner.com!\n",
    "\n",
    "Edit the Expression & Text to see matches. Roll over matches or the expression for details. Undo mistakes with cmd-z. Save & Share expressions with friends or the Community. A full Reference & Help is available in the Library, or watch the video Tutorial.\n",
    "\n",
    "Sample text for testing:\n",
    "abcdefghijklmnopqrstuvwxyz ABCDEFGHIJKLMNOPQRSTUVWXYZ\n",
    "0123456789 _+-.,!@#$%^&*();\\/|<>\"'\n",
    "12345 -98.7 3.141 .6180 9,000 +42\n",
    "555.123.4567\t+1-(800)-555-2468\n",
    "foo@demo.net\tbar.ba@test.co.uk\n",
    "www.demo.com\thttp://foo.co.uk/\n",
    "http://regexr.com/foo.html?q=bar\n",
    "\"\"\""
   ]
  },
  {
   "cell_type": "code",
   "execution_count": 10,
   "metadata": {
    "collapsed": false
   },
   "outputs": [
    {
     "name": "stdout",
     "output_type": "stream",
     "text": [
      "['at', 'at', 'ai', 'ak', 'av', 'ar', 'av', 'ai', 'ab', 'ar', 'at', 'al', 'am', 'ab', 'ar', 'a@', 'ar']\n"
     ]
    }
   ],
   "source": [
    "print re.findall(\"a.\", sample_str)"
   ]
  },
  {
   "cell_type": "code",
   "execution_count": 11,
   "metadata": {
    "collapsed": false
   },
   "outputs": [
    {
     "name": "stdout",
     "output_type": "stream",
     "text": [
      "['sk', 'ss', 'se', 's.', 's ', 'ss', 's.', 'st', 's ', 'ss', 's ', 's ', 's ', 'st', 'st', 'st']\n"
     ]
    }
   ],
   "source": [
    "print re.findall(\"s.\", sample_str)"
   ]
  },
  {
   "cell_type": "code",
   "execution_count": 12,
   "metadata": {
    "collapsed": false
   },
   "outputs": [
    {
     "name": "stdout",
     "output_type": "stream",
     "text": [
      "['s.', 's.']\n"
     ]
    }
   ],
   "source": [
    "print re.findall(\"s\\.\", sample_str)"
   ]
  },
  {
   "cell_type": "markdown",
   "metadata": {},
   "source": [
    "### 3. 문자 집합으로 찾기\n",
    "'a OR b OR f 중에 찾고 싶다.'할땐 문자 집합 (대괄호, [ ])를 사용합니다. 대시(-)를 사용해 범위를 지정할 수도 있습니다. [ascii 코드](http://www.asciitable.com/) 순서로 들어가므로, [Z-A]와 같은 패턴은 무효한 패턴입니다. \n",
    "\n",
    "- [abf]\n",
    "- [a-f]\n",
    "- [a-z]\n",
    "- [a-zA-Z]\n",
    "- [0-9]\n",
    "- [A-Za-z0-9]|"
   ]
  },
  {
   "cell_type": "code",
   "execution_count": 13,
   "metadata": {
    "collapsed": false
   },
   "outputs": [
    {
     "name": "stdout",
     "output_type": "stream",
     "text": [
      "['We', 'Re', 'Ex', 'Ed', 'Ex', 'Te', 'Ro', 'Un', 'Sa', 'Sh', 'Co', 'Re', 'He', 'Li', 'Tu', 'Sa']\n"
     ]
    }
   ],
   "source": [
    "# 대문자, 소문자\n",
    "print re.findall(\"[A-Z][a-z]\", sample_str)"
   ]
  },
  {
   "cell_type": "code",
   "execution_count": 14,
   "metadata": {
    "collapsed": false
   },
   "outputs": [
    {
     "name": "stdout",
     "output_type": "stream",
     "text": [
      "['v2.0']\n"
     ]
    }
   ],
   "source": [
    "# 버젼 찾기\n",
    "print re.findall(\"[a-z][0-9]\\.[0-9]\", sample_str)"
   ]
  },
  {
   "cell_type": "markdown",
   "metadata": {},
   "source": [
    "### 4. 제외하고 찾기 => 캐럿(^)\n",
    "이건 제외하고 찾고 싶을 땐, 캐럿(^)을 사용합니다. 캐럿은 문자 집합 안에 넣어 사용해주세요.\n",
    "\n",
    "- [^0-9]\n",
    "\n",
    "위의 특정 패턴 파일명 찾기 예제를 참고해주세요.\n",
    "\n",
    "### 5. 메타 문자\n",
    "., ^, [, ( 등 이렇게 정규표현식에서 특별한 의미를 가지는 문자들을 메타 문자라고 합니다.\n",
    "\n",
    "- \\d => [0-9]\n",
    "- \\D => [^0-9]\n",
    "- \\w => [a-zA-Z0-9_]  밑줄(\\_)이 있는 이유는 대개 파일이나 디렉터리 이름, 애플리케이션 변수명, 데이터베이스 객체 이름 등에 사용되기 때문이다.\n",
    "- \\W => [^a-zA-Z0-9_]    \n",
    "- \\s => 모든 공백 문자. ([^\\f\\n\\r\\t\\v])\n",
    "- \\S => 공백 문자가 아닌 모든 문자. ([^\\f\\n\\r\\t\\v])\n",
    "\n",
    "<!--\n",
    "- \\r, \\n, \\t\n",
    "- \\x => 16진수 값 표시. \\x0A(아스키문자 10)은 줄바꿈 문자가 되며, \\n과 기능이 같다. \n",
    "- \\0 => 8진수 값 표시. \\011(아스키 문자 9)는 탭 문자이며, \\t와 기능이 같다.\n",
    "-->\n",
    "\n",
    "실제로 되는지 http://regexr.com 에서 확인해봅시다!"
   ]
  },
  {
   "cell_type": "code",
   "execution_count": 15,
   "metadata": {
    "collapsed": false
   },
   "outputs": [
    {
     "name": "stdout",
     "output_type": "stream",
     "text": [
      "13\n"
     ]
    }
   ],
   "source": [
    "# 파이썬 문자열에서는 몇 줄인지 알고 싶을 때, \\n을 사용할 수 있습니다.\n",
    "print len(re.findall(\"\\n\", sample_str))"
   ]
  },
  {
   "cell_type": "code",
   "execution_count": 16,
   "metadata": {
    "collapsed": true
   },
   "outputs": [],
   "source": [
    "string = \"\"\"\n",
    "11231\n",
    "A1C2E3\n",
    "4930\n",
    "F3a3\n",
    "wef(32)\n",
    "FILE_NAME_123\n",
    "9430FQ\n",
    "!@#123\n",
    "\"\"\""
   ]
  },
  {
   "cell_type": "code",
   "execution_count": 17,
   "metadata": {
    "collapsed": false
   },
   "outputs": [
    {
     "name": "stdout",
     "output_type": "stream",
     "text": [
      "['A1C2E3']\n"
     ]
    }
   ],
   "source": [
    "print re.findall(\"\\w\\d\\w\\d\\w\\d\", string)"
   ]
  },
  {
   "cell_type": "markdown",
   "metadata": {},
   "source": [
    "### 6. 하나 이상 찾기 => 더하기(+)\n",
    "문자 하나 이상 찾을때는 더하기(+)를 붙이면 됩니다. a가 a를 찾으면, a+는 하나 이상 연속된 a를 찾습니다. [0-9]가 하나의 숫자를 찾으면, [0-9]+는 연속된 숫자를 찾습니다. \n",
    "\n",
    "### 7. 0개 이상 찾기 => 별표(*)\n",
    "0개 이상 찾을때는 별표(*)를 사용합니다.\n",
    "\n",
    "### 8. 0개 이상 1개 이하 찾기 => 물음표(?)\n",
    "0개 이상 1개 이하 찾을땐 물음표(?)를 사용합니다."
   ]
  },
  {
   "cell_type": "code",
   "execution_count": 18,
   "metadata": {
    "collapsed": true
   },
   "outputs": [],
   "source": [
    "# 제대로 된 email 찾기\n",
    "emails = \"\"\"\n",
    "hunjae@ab180.co\n",
    "hunjae@@hunjae.com\n",
    "hun@jae.jung.com\n",
    "kevin-hello@gmailcom\n",
    "_hello_@hunjae.com\n",
    "h.j_jung@ab180.co\n",
    ".hun@ab180.co\n",
    "\"\"\""
   ]
  },
  {
   "cell_type": "code",
   "execution_count": 19,
   "metadata": {
    "collapsed": false
   },
   "outputs": [
    {
     "name": "stdout",
     "output_type": "stream",
     "text": [
      "['hunjae@ab180.co', 'hun@jae.jung', '_hello_@hunjae.com', 'j_jung@ab180.co', 'hun@ab180.co']\n"
     ]
    }
   ],
   "source": [
    "# \\w+ @ \\w+ \\. \\w+\n",
    "print re.findall(\"\\w+@\\w+\\.\\w+\", emails)"
   ]
  },
  {
   "cell_type": "code",
   "execution_count": 20,
   "metadata": {
    "collapsed": false
   },
   "outputs": [
    {
     "name": "stdout",
     "output_type": "stream",
     "text": [
      "['hunjae@ab180.co', 'hun@jae.jung.com', '_hello_@hunjae.com', 'h.j_jung@ab180.co', '.hun@ab180.co']\n"
     ]
    }
   ],
   "source": [
    "# h.j_jung에서 h가 짤렸네요. 마침표(.)를 포함시켜줘야 합니다. 참고로 문자 집합(대괄호)안에서는 escape할 필요가 없습니다.\n",
    "print re.findall(\"[\\w.]+@[\\w.]+\\.[\\w.]+\", emails)"
   ]
  },
  {
   "cell_type": "code",
   "execution_count": 21,
   "metadata": {
    "collapsed": false
   },
   "outputs": [
    {
     "name": "stdout",
     "output_type": "stream",
     "text": [
      "['hunjae@ab180.co', 'hun@jae.jung.com', '_hello_@hunjae.com', 'h.j_jung@ab180.co', 'hun@ab180.co']\n"
     ]
    }
   ],
   "source": [
    "# 보통 이메일 처음에는 .을 찍지 않아요\n",
    "print re.findall(\"\\w+[\\w.]*@[\\w.]+\\.[\\w.]+\", emails)"
   ]
  },
  {
   "cell_type": "code",
   "execution_count": 22,
   "metadata": {
    "collapsed": true
   },
   "outputs": [],
   "source": [
    "https = \"\"\"\n",
    "The URL is http://www.naver.com/, to connect securely \n",
    "use https://www.naver.com instead.\n",
    "\n",
    "how about httpssss://www.naver.com\n",
    "\"\"\""
   ]
  },
  {
   "cell_type": "code",
   "execution_count": 23,
   "metadata": {
    "collapsed": false
   },
   "outputs": [
    {
     "name": "stdout",
     "output_type": "stream",
     "text": [
      "['http://www.naver.com/']\n"
     ]
    }
   ],
   "source": [
    "print re.findall(\"http://[\\w./]+\", https)"
   ]
  },
  {
   "cell_type": "code",
   "execution_count": 24,
   "metadata": {
    "collapsed": false
   },
   "outputs": [
    {
     "name": "stdout",
     "output_type": "stream",
     "text": [
      "['http://www.naver.com/', 'https://www.naver.com', 'httpssss://www.naver.com']\n"
     ]
    }
   ],
   "source": [
    "print re.findall(\"http[s]*://[\\w./]+\", https)"
   ]
  },
  {
   "cell_type": "code",
   "execution_count": 25,
   "metadata": {
    "collapsed": false
   },
   "outputs": [
    {
     "name": "stdout",
     "output_type": "stream",
     "text": [
      "['http://www.naver.com/', 'https://www.naver.com']\n"
     ]
    }
   ],
   "source": [
    "# re.findall(\"https?://[\\w./]+\", https) 도 가능하지만, 혼란을 방지하고자 문자집합[] 사용을 권장합니다.\n",
    "print re.findall(\"http[s]?://[\\w./]+\", https)"
   ]
  },
  {
   "cell_type": "markdown",
   "metadata": {},
   "source": [
    "### 구간 정하기 => 중괄호({})\n",
    "\n",
    "몇번 이상 몇번이하 반복되는 것들을 지정하기 위해서는 중괄호({})를 사용합니다."
   ]
  },
  {
   "cell_type": "code",
   "execution_count": 26,
   "metadata": {
    "collapsed": true
   },
   "outputs": [],
   "source": [
    "interval_str = \"\"\"\n",
    ".css_class {\n",
    "    background-color: \"#336633\";\n",
    "}\n",
    "\n",
    ".css_class {\n",
    "    font-color: \"#0075ff\";\n",
    "}\n",
    "\n",
    "#0075fa123\n",
    "#0075\n",
    "#0075f\n",
    "\"\"\""
   ]
  },
  {
   "cell_type": "code",
   "execution_count": 27,
   "metadata": {
    "collapsed": false
   },
   "outputs": [
    {
     "data": {
      "text/plain": [
       "['#336633', '#0075ff', '#0075fa']"
      ]
     },
     "execution_count": 27,
     "metadata": {},
     "output_type": "execute_result"
    }
   ],
   "source": [
    "# #0075fa123이 나와버렸네요. 이 안에서도 6개가 매칭이 되긴 되었기 때문입니다.\n",
    "re.findall(\"#[0-9a-zA-Z]{6}\", interval_str)"
   ]
  },
  {
   "cell_type": "code",
   "execution_count": 28,
   "metadata": {
    "collapsed": false
   },
   "outputs": [
    {
     "data": {
      "text/plain": [
       "['#336633\"', '#0075ff\"']"
      ]
     },
     "execution_count": 28,
     "metadata": {},
     "output_type": "execute_result"
    }
   ],
   "source": [
    "# 캐럿(^)을 사용해 뒤에 문자가 더 나오는 것들은 제외합니다.\n",
    "re.findall(\"#[0-9a-zA-Z]{6}[^\\w]\", interval_str)"
   ]
  },
  {
   "cell_type": "code",
   "execution_count": 29,
   "metadata": {
    "collapsed": true
   },
   "outputs": [],
   "source": [
    "# 날짜 패턴을 찾아봅시다.\n",
    "interval_str_2 = \"\"\"\n",
    "4/08/15\n",
    "10-6-2004\n",
    "10-31-2015\n",
    "02/2/2\n",
    "01-01-01\n",
    "\"\"\""
   ]
  },
  {
   "cell_type": "code",
   "execution_count": 30,
   "metadata": {
    "collapsed": false
   },
   "outputs": [
    {
     "data": {
      "text/plain": [
       "['10-6-2004', '10-31-2015']"
      ]
     },
     "execution_count": 30,
     "metadata": {},
     "output_type": "execute_result"
    }
   ],
   "source": [
    "# 실제 유효한 날짜인지 체크는 불가능하므로, 유효한지 검사하기 전에 패턴 검사로 실시하는 경우가 많습니다.\n",
    "re.findall(\"\\d{1,2}[-\\/]\\d{1,2}[-\\/]\\d{4}\", interval_str_2)"
   ]
  },
  {
   "cell_type": "code",
   "execution_count": 31,
   "metadata": {
    "collapsed": false
   },
   "outputs": [
    {
     "data": {
      "text/plain": [
       "['4/08/15', '10-6-2004', '10-31-2015', '01-01-01']"
      ]
     },
     "execution_count": 31,
     "metadata": {},
     "output_type": "execute_result"
    }
   ],
   "source": [
    "# {3,}로 '3개 이상'일치하는 것을 찾을 수도 있습니다. 더하기(+)는 {1,}와 같습니다.\n",
    "re.findall(\"\\d{1,2}[-\\/]\\d{1,2}[-\\/]\\d{2,}\", interval_str_2)"
   ]
  },
  {
   "cell_type": "markdown",
   "metadata": {},
   "source": [
    "### Greedy quantifier, Lazy quantifier\n",
    "\n",
    "Matching 개수에 따라 다르게 사용하는 *,?,+ 들을 수량자(quantifier)라고 합니다. 수량자는 기본적으로 가능한한 큰 덩어리를 찾으려고 하는데, 이는 애초에 수량자가 greedy(탐욕적)하게 설계되었기 때문입니다."
   ]
  },
  {
   "cell_type": "code",
   "execution_count": 32,
   "metadata": {
    "collapsed": true
   },
   "outputs": [],
   "source": [
    "quantifier_str = \"\"\"\n",
    "<b>python</b> Hello <b>2016</b>\n",
    "\"\"\""
   ]
  },
  {
   "cell_type": "code",
   "execution_count": 33,
   "metadata": {
    "collapsed": false
   },
   "outputs": [
    {
     "data": {
      "text/plain": [
       "['<b>python</b> Hello <b>2016</b>']"
      ]
     },
     "execution_count": 33,
     "metadata": {},
     "output_type": "execute_result"
    }
   ],
   "source": [
    "# b 태그 두개를 찾고 싶었는데, 결과 값이 아래와 같이 나왔네요. 욕심부려서 한꺼번에 많이 가져왔다고 해서 greedy(탐욕적)하다고 말합니다. \n",
    "# 수량자는 찾으려는 텍스트를 앞에서부터 찾는 것이 아니라, 텍스트 마지막에서 시작해서 거꾸로 찾기 떄문입니다.\n",
    "re.findall(\"<[bB]>.*</[bB]>\", quantifier_str)"
   ]
  },
  {
   "cell_type": "code",
   "execution_count": 34,
   "metadata": {
    "collapsed": false
   },
   "outputs": [
    {
     "data": {
      "text/plain": [
       "['<b>python</b>', '<b>2016</b>']"
      ]
     },
     "execution_count": 34,
     "metadata": {},
     "output_type": "execute_result"
    }
   ],
   "source": [
    "# 수량자(quantifier)뒤에 ?를 붙이면 게으른(Lazy) 수량자가 됩니다.\n",
    "re.findall(\"<[bB]>.*?</[bB]>\", quantifier_str)"
   ]
  },
  {
   "cell_type": "markdown",
   "metadata": {},
   "source": [
    "---"
   ]
  },
  {
   "cell_type": "code",
   "execution_count": 35,
   "metadata": {
    "collapsed": false
   },
   "outputs": [],
   "source": [
    "import pandas as pd\n",
    "dframe_list = pd.io.html.read_html(\"https://msdn.microsoft.com/en-us/library/3206d374(v=vs.110).aspx\") # pd.read_clipboard()"
   ]
  },
  {
   "cell_type": "code",
   "execution_count": 36,
   "metadata": {
    "collapsed": false
   },
   "outputs": [
    {
     "data": {
      "text/html": [
       "<div>\n",
       "<table border=\"1\" class=\"dataframe\">\n",
       "  <thead>\n",
       "    <tr style=\"text-align: right;\">\n",
       "      <th></th>\n",
       "      <th>0</th>\n",
       "      <th>1</th>\n",
       "      <th>2</th>\n",
       "    </tr>\n",
       "  </thead>\n",
       "  <tbody>\n",
       "    <tr>\n",
       "      <th>0</th>\n",
       "      <td>Greedy quantifier</td>\n",
       "      <td>Lazy quantifier</td>\n",
       "      <td>Description</td>\n",
       "    </tr>\n",
       "    <tr>\n",
       "      <th>1</th>\n",
       "      <td>*</td>\n",
       "      <td>*?</td>\n",
       "      <td>Match zero or more times.</td>\n",
       "    </tr>\n",
       "    <tr>\n",
       "      <th>2</th>\n",
       "      <td>+</td>\n",
       "      <td>+?</td>\n",
       "      <td>Match one or more times.</td>\n",
       "    </tr>\n",
       "    <tr>\n",
       "      <th>3</th>\n",
       "      <td>?</td>\n",
       "      <td>??</td>\n",
       "      <td>Match zero or one time.</td>\n",
       "    </tr>\n",
       "    <tr>\n",
       "      <th>4</th>\n",
       "      <td>{n}</td>\n",
       "      <td>{n}?</td>\n",
       "      <td>Match exactly n times.</td>\n",
       "    </tr>\n",
       "    <tr>\n",
       "      <th>5</th>\n",
       "      <td>{n,}</td>\n",
       "      <td>{n,}?</td>\n",
       "      <td>Match at least n times.</td>\n",
       "    </tr>\n",
       "    <tr>\n",
       "      <th>6</th>\n",
       "      <td>{n,m}</td>\n",
       "      <td>{n,m}?</td>\n",
       "      <td>Match from n to m times.</td>\n",
       "    </tr>\n",
       "  </tbody>\n",
       "</table>\n",
       "</div>"
      ],
      "text/plain": [
       "                   0                1                          2\n",
       "0  Greedy quantifier  Lazy quantifier                Description\n",
       "1                  *               *?  Match zero or more times.\n",
       "2                  +               +?   Match one or more times.\n",
       "3                  ?               ??    Match zero or one time.\n",
       "4                {n}             {n}?     Match exactly n times.\n",
       "5               {n,}            {n,}?    Match at least n times.\n",
       "6              {n,m}           {n,m}?   Match from n to m times."
      ]
     },
     "execution_count": 36,
     "metadata": {},
     "output_type": "execute_result"
    }
   ],
   "source": [
    "qf_df = dframe_list[0]\n",
    "qf_df"
   ]
  },
  {
   "cell_type": "code",
   "execution_count": 37,
   "metadata": {
    "collapsed": false
   },
   "outputs": [
    {
     "data": {
      "text/html": [
       "<div>\n",
       "<table border=\"1\" class=\"dataframe\">\n",
       "  <thead>\n",
       "    <tr style=\"text-align: right;\">\n",
       "      <th></th>\n",
       "      <th>Greedy quantifier</th>\n",
       "      <th>Lazy quantifier</th>\n",
       "      <th>Description</th>\n",
       "    </tr>\n",
       "  </thead>\n",
       "  <tbody>\n",
       "    <tr>\n",
       "      <th>1</th>\n",
       "      <td>*</td>\n",
       "      <td>*?</td>\n",
       "      <td>Match zero or more times.</td>\n",
       "    </tr>\n",
       "    <tr>\n",
       "      <th>2</th>\n",
       "      <td>+</td>\n",
       "      <td>+?</td>\n",
       "      <td>Match one or more times.</td>\n",
       "    </tr>\n",
       "    <tr>\n",
       "      <th>3</th>\n",
       "      <td>?</td>\n",
       "      <td>??</td>\n",
       "      <td>Match zero or one time.</td>\n",
       "    </tr>\n",
       "    <tr>\n",
       "      <th>4</th>\n",
       "      <td>{n}</td>\n",
       "      <td>{n}?</td>\n",
       "      <td>Match exactly n times.</td>\n",
       "    </tr>\n",
       "    <tr>\n",
       "      <th>5</th>\n",
       "      <td>{n,}</td>\n",
       "      <td>{n,}?</td>\n",
       "      <td>Match at least n times.</td>\n",
       "    </tr>\n",
       "    <tr>\n",
       "      <th>6</th>\n",
       "      <td>{n,m}</td>\n",
       "      <td>{n,m}?</td>\n",
       "      <td>Match from n to m times.</td>\n",
       "    </tr>\n",
       "  </tbody>\n",
       "</table>\n",
       "</div>"
      ],
      "text/plain": [
       "0 Greedy quantifier Lazy quantifier                Description\n",
       "1                 *              *?  Match zero or more times.\n",
       "2                 +              +?   Match one or more times.\n",
       "3                 ?              ??    Match zero or one time.\n",
       "4               {n}            {n}?     Match exactly n times.\n",
       "5              {n,}           {n,}?    Match at least n times.\n",
       "6             {n,m}          {n,m}?   Match from n to m times."
      ]
     },
     "execution_count": 37,
     "metadata": {},
     "output_type": "execute_result"
    }
   ],
   "source": [
    "qf_df.columns = qf_df.iloc[0]\n",
    "qf_df.reindex(qf_df.index.drop(0))"
   ]
  },
  {
   "cell_type": "markdown",
   "metadata": {},
   "source": [
    "\n",
    "## 참고\n",
    "- http://regexr.com\n",
    "- https://msdn.microsoft.com/en-us/library/3206d374(v=vs.110).aspx\n",
    "- http://blog.vinceliu.com/2008/02/non-greedy-regular-expression-matching.html\n",
    "- http://www.softpanorama.org/Editors/Vimorama/vim_regular_expressions.shtml"
   ]
  }
 ],
 "metadata": {
  "kernelspec": {
   "display_name": "Python 2",
   "language": "python",
   "name": "python2"
  },
  "language_info": {
   "codemirror_mode": {
    "name": "ipython",
    "version": 2
   },
   "file_extension": ".py",
   "mimetype": "text/x-python",
   "name": "python",
   "nbconvert_exporter": "python",
   "pygments_lexer": "ipython2",
   "version": "2.7.9"
  }
 },
 "nbformat": 4,
 "nbformat_minor": 0
}

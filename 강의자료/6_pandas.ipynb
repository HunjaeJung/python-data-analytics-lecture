{
 "cells": [
  {
   "cell_type": "markdown",
   "metadata": {},
   "source": [
    "# CSV 파일 읽고 쓰기"
   ]
  },
  {
   "cell_type": "code",
   "execution_count": 29,
   "metadata": {
    "collapsed": true
   },
   "outputs": [],
   "source": [
    "# csv 파일로 바꿔봅시다. \n",
    "import csv\n",
    "\n",
    "# https://docs.python.org/2/library/csv.html#csv.reader\n",
    "# delimiter, qoutechar, qouting 옵션이 뭔지 직접 해봅시다.\n",
    "with open('sample.csv', 'w') as csvfile:\n",
    "    # default delimiter는 , quotechar는 \"입니다.\n",
    "    writer = csv.writer(csvfile, delimiter=',',\n",
    "                            quotechar='|', quoting=csv.QUOTE_MINIMAL)\n",
    "    \n",
    "    writer.writerow(['검사외전', '범죄', '126분'])\n",
    "    # 아래와 같이 제목에 콤마(,)가 들어가면 delimiter인 콤마(,)와 헷갈리게 됩니다.\n",
    "    # 그래서 quotechar(|)로 제목을 감싸주게 됩니다.\n",
    "    # 직접 확인해보죠.\n",
    "    writer.writerow(['쿵푸팬더3 (Kung Fu Panda 3, 2016)', '애니메이션', '95분'])"
   ]
  },
  {
   "cell_type": "code",
   "execution_count": 30,
   "metadata": {
    "collapsed": false
   },
   "outputs": [
    {
     "name": "stdout",
     "output_type": "stream",
     "text": [
      "['\\xea\\xb2\\x80\\xec\\x82\\xac\\xec\\x99\\xb8\\xec\\xa0\\x84', '\\xeb\\xb2\\x94\\xec\\xa3\\x84', '126\\xeb\\xb6\\x84']\n",
      "['\\xec\\xbf\\xb5\\xed\\x91\\xb8\\xed\\x8c\\xac\\xeb\\x8d\\x943 (Kung Fu Panda 3, 2016)', '\\xec\\x95\\xa0\\xeb\\x8b\\x88\\xeb\\xa9\\x94\\xec\\x9d\\xb4\\xec\\x85\\x98', '95\\xeb\\xb6\\x84']\n"
     ]
    }
   ],
   "source": [
    "# 저장된 csv 파일을 읽고, print 찍어봅시다.\n",
    "with open('sample.csv', 'r') as csvfile:\n",
    "    movie_reader = csv.reader(csvfile, delimiter=',', quotechar='|')\n",
    "    for row in movie_reader:\n",
    "        print row"
   ]
  },
  {
   "cell_type": "code",
   "execution_count": 31,
   "metadata": {
    "collapsed": true
   },
   "outputs": [],
   "source": [
    "# 지난주에 배운 movie_total을 csv로 저장해봅시다."
   ]
  },
  {
   "cell_type": "code",
   "execution_count": 32,
   "metadata": {
    "collapsed": false
   },
   "outputs": [
    {
     "name": "stdout",
     "output_type": "stream",
     "text": [
      "[u'The Woman in Black 2: Angel of Death (2014)', 'http://ia.media-imdb.com/images/M/MV5BMTgxMjUyNTAxNF5BMl5BanBnXkFtZTgwNTk4MDUyMzE@._V1_UY209_CR0,0,140,209_AL_.jpg', u'98 min', u'42', u'Drama/Horror/Thriller', u'Tom Harper', u'Helen McCrory/Jeremy Irvine/Phoebe Fox/Leanne Best']\n"
     ]
    }
   ],
   "source": [
    "from bs4 import BeautifulSoup as bs\n",
    "import requests\n",
    "\n",
    "# 2015-01 ~ 2015-12까지 순회하며 크롤링을 할 것이므로, url 파라미터를 받는 함수를 만듭니다.\n",
    "def movie_crawler(url):\n",
    "    res = requests.get(url)\n",
    "\n",
    "    # 예상치 못하게 404나 500을 받았는데, html을 파싱하려고 하면\n",
    "    # 에러가 발생하므로, 200(성공)일때만 코드가 실행되도록 합니다.\n",
    "    if res.status_code == 200:\n",
    "        soup = bs(res.text)\n",
    "\n",
    "        # titles = soup.select('#main > div > div.list.detail\\\n",
    "        # > div > table > tbody > tr > td.overview-top > h4 > a')\n",
    "        # images = soup.select('#img_primary > div > a > div > img')\n",
    "        #\n",
    "        # 이렇게 전체 html에서 titles(제목들), images(포스터 이미지들)를 가져오는 대신\n",
    "        # 하나의 movie 정보를 감싸고 있는 div 태그를 가져온 다음\n",
    "        # 그 안에 있는 포스터 이미지, 영화 제목, 평점 등을 가져오면\n",
    "        # for문을 한번만 돌아도됩니다!\n",
    "\n",
    "        # 이렇게 css selector를 가지고 받아올 수도 있고\n",
    "        movies = soup.select('#main > div > div.list.detail > div')\n",
    "        # 이렇게 속성을 가지고 받아올 수도 있습니다.\n",
    "        movies = soup.findAll('div', {'itemtype': 'http://schema.org/Movie'})\n",
    "\n",
    "        # title, image, running_time, score, genre, directors, actors 순으로 넣겠습니다.\n",
    "        table = []\n",
    "        for movie in movies:\n",
    "            row = []\n",
    "\n",
    "            title = movie.findAll('h4', {'itemprop': 'name'})\n",
    "            image = movie.findAll('img', {'itemprop': 'image'})\n",
    "            running_time = movie.findAll('time', {'itemprop': 'duration'})\n",
    "            score = movie.select('div.rating_txt > div > strong')\n",
    "            genres = movie.findAll('span', {'itemprop': 'genre'})\n",
    "            directors = movie.findAll('span', {'itemprop': 'director'})\n",
    "            actors = movie.findAll('span', {'itemprop': 'actors'})\n",
    "\n",
    "            # strip()은 앞뒤 공백을 지워줍니다.\n",
    "            # title가 빈 리스트([])인데, title[0]를 하면 index out of range 에러가 납니다.\n",
    "            # 에러가 나는 것을 방지해주기 위해서 뒤에 len(title)이 0보다 클때만 title[0]를 하게 하고\n",
    "            # 아니면 \"\" 빈 스트링을 row에 append 합니다.\n",
    "            row.append(title[0].text.strip() if len(title)>0 else \"\")\n",
    "            row.append(image[0]['src'].strip() if len(image)>0 else \"\")\n",
    "            row.append(running_time[0].text.strip() if len(running_time)>0 else \"\")\n",
    "            row.append(score[0].text.strip() if len(score)>0 else \"\")\n",
    "            # genre, director, actor는 여러명인 경우가 있기 때문에 list로 받아와서 join으로 연결시켜줍니다.\n",
    "            row.append(\"/\".join([genre.text.strip() for genre in genres]))\n",
    "            row.append(\"/\".join([director.text.strip() for director in directors]))\n",
    "            row.append(\"/\".join([actor.text.strip() for actor in actors]))\n",
    "\n",
    "            # 예상대로라면\n",
    "            # row <= [u'The Woman in Black 2: Angel of Death (2014)', \\\n",
    "            # 'http://ia.media-imdb.com/images/M/...@._V1_UY209_CR0,0,140,209_AL_.jpg', \\\n",
    "            # u'98 min', \\\n",
    "            # u'42', \\\n",
    "            # Drama/Horror/Thriller, \\\n",
    "            # Tom Harper, \\\n",
    "            # Helen McCrory/Jeremy Irvine/Phoebe Fox/Leanne Best\n",
    "    \n",
    "            table.append(row)\n",
    "\n",
    "        return table\n",
    "\n",
    "jan_2015 = movie_crawler('http://www.imdb.com/movies-coming-soon/2015-01')\n",
    "print jan_2015[0]"
   ]
  },
  {
   "cell_type": "code",
   "execution_count": 33,
   "metadata": {
    "collapsed": false
   },
   "outputs": [
    {
     "name": "stdout",
     "output_type": "stream",
     "text": [
      "http://www.imdb.com/movies-coming-soon/2015-01 crawling..\n",
      "http://www.imdb.com/movies-coming-soon/2015-02 crawling..\n",
      "http://www.imdb.com/movies-coming-soon/2015-03 crawling..\n",
      "http://www.imdb.com/movies-coming-soon/2015-04 crawling..\n",
      "http://www.imdb.com/movies-coming-soon/2015-05 crawling..\n",
      "http://www.imdb.com/movies-coming-soon/2015-06 crawling..\n",
      "http://www.imdb.com/movies-coming-soon/2015-07 crawling..\n",
      "http://www.imdb.com/movies-coming-soon/2015-08 crawling..\n",
      "http://www.imdb.com/movies-coming-soon/2015-09 crawling..\n",
      "http://www.imdb.com/movies-coming-soon/2015-10 crawling..\n",
      "http://www.imdb.com/movies-coming-soon/2015-11 crawling..\n",
      "http://www.imdb.com/movies-coming-soon/2015-12 crawling..\n"
     ]
    }
   ],
   "source": [
    "# 그러면 이제 2015-01부터 2015-12까지 영화정보를 긁어봅시다.\n",
    "target_url = 'http://www.imdb.com/movies-coming-soon/{0}'\n",
    "movie_total = []\n",
    "for i in range(1,13):\n",
    "    # string.zfill(2)을 사용해보세요. zero padding이 생깁니다.\n",
    "    date = \"2015-\" + str(i).zfill(2)\n",
    "    print target_url.format(date) + \" crawling..\"\n",
    "    movie_total += movie_crawler(target_url.format(date))"
   ]
  },
  {
   "cell_type": "code",
   "execution_count": 34,
   "metadata": {
    "collapsed": true
   },
   "outputs": [],
   "source": [
    "with open('movie.csv', 'w') as csvfile:\n",
    "    writer = csv.writer(csvfile, delimiter=',',\n",
    "                            quotechar='|', quoting=csv.QUOTE_MINIMAL)\n",
    "    \n",
    "    # utf-8로 인코딩해줍니다.\n",
    "    writer.writerows([[item.encode('utf-8') for item in row] for row in movie_total])"
   ]
  },
  {
   "cell_type": "code",
   "execution_count": 35,
   "metadata": {
    "collapsed": true
   },
   "outputs": [],
   "source": [
    "# 자, 이제 파이썬 데이터 분석툴 pandas 소개합니다.\n",
    "from pandas import DataFrame"
   ]
  },
  {
   "cell_type": "code",
   "execution_count": 36,
   "metadata": {
    "collapsed": true
   },
   "outputs": [],
   "source": [
    "movie_df = DataFrame(movie_total, columns=['title', 'image', 'running time', 'score', 'genre', 'directors', 'actors'])"
   ]
  },
  {
   "cell_type": "code",
   "execution_count": 38,
   "metadata": {
    "collapsed": false
   },
   "outputs": [
    {
     "data": {
      "text/plain": [
       "389"
      ]
     },
     "execution_count": 38,
     "metadata": {},
     "output_type": "execute_result"
    }
   ],
   "source": [
    "len(movie_df)"
   ]
  },
  {
   "cell_type": "code",
   "execution_count": 39,
   "metadata": {
    "collapsed": true
   },
   "outputs": [],
   "source": [
    "# csv format으로 저장하기 (encoding utf-8)\n",
    "movie_df.to_csv('./movie_from_df.csv', encoding='utf-8', index=False, header=False)"
   ]
  },
  {
   "cell_type": "markdown",
   "metadata": {},
   "source": [
    "# iPython notebook 설치하기\n",
    "\n",
    "[iPython 설치 가이드](./ipython_notebook.pdf)\n",
    "\n",
    "iPython notebook은 현재 보고 있는 이 노트북 인터페이스를 지원하고, numpy와 pandas는 파이썬 데이터 분석에 가장 많이 활용되는 패키지입니다. 앞으로 raw 데이터를 다루고 분석하는데 Pandas를 주로 사용하겠지만, Pandas는 numpy 자료구조에 dependency가 있습니다. numpy는 수치 연산에 강력한 ndarray 자료구조와 각종 메소드들을 지원합니다.\n",
    "\n",
    "- [pandas](http://pandas.pydata.org/pandas-docs/stable/generated/pandas.DataFrame.html)"
   ]
  },
  {
   "cell_type": "code",
   "execution_count": 233,
   "metadata": {
    "collapsed": true
   },
   "outputs": [],
   "source": [
    "import numpy as np\n",
    "import pandas as pd\n",
    "from pandas import Series, DataFrame"
   ]
  },
  {
   "cell_type": "code",
   "execution_count": 234,
   "metadata": {
    "collapsed": false
   },
   "outputs": [
    {
     "data": {
      "text/html": [
       "<div>\n",
       "<table border=\"1\" class=\"dataframe\">\n",
       "  <thead>\n",
       "    <tr style=\"text-align: right;\">\n",
       "      <th></th>\n",
       "      <th>chinese zodiac</th>\n",
       "      <th>name</th>\n",
       "      <th>year</th>\n",
       "    </tr>\n",
       "  </thead>\n",
       "  <tbody>\n",
       "    <tr>\n",
       "      <th>0</th>\n",
       "      <td>Rat</td>\n",
       "      <td>똘기</td>\n",
       "      <td>1984</td>\n",
       "    </tr>\n",
       "    <tr>\n",
       "      <th>1</th>\n",
       "      <td>Pig</td>\n",
       "      <td>떵이</td>\n",
       "      <td>1985</td>\n",
       "    </tr>\n",
       "    <tr>\n",
       "      <th>2</th>\n",
       "      <td>Tiger</td>\n",
       "      <td>호치</td>\n",
       "      <td>1986</td>\n",
       "    </tr>\n",
       "    <tr>\n",
       "      <th>3</th>\n",
       "      <td>Rabbit</td>\n",
       "      <td>새촘</td>\n",
       "      <td>1987</td>\n",
       "    </tr>\n",
       "  </tbody>\n",
       "</table>\n",
       "</div>"
      ],
      "text/plain": [
       "  chinese zodiac name  year\n",
       "0            Rat   똘기  1984\n",
       "1            Pig   떵이  1985\n",
       "2          Tiger   호치  1986\n",
       "3         Rabbit   새촘  1987"
      ]
     },
     "execution_count": 234,
     "metadata": {},
     "output_type": "execute_result"
    }
   ],
   "source": [
    "# 일단은 Numpy, Series, DataFrame 관계부터 배워봅시다.\n",
    "# DataFrame은 Pandas에 구현되어 있는 기본 자료구조로, \n",
    "# 2차원(row, column) 데이터를 표현할 수 있습니다.\n",
    "\n",
    "# key가 column명, value 하나 하나가 row에 들어갑니다.\n",
    "data = {\n",
    "    'name': ['똘기', '떵이', '호치', '새촘'],\n",
    "    'chinese zodiac': ['Rat', 'Pig', 'Tiger', 'Rabbit'],\n",
    "    'year': ['1984','1985','1986','1987']\n",
    "}\n",
    "\n",
    "df = DataFrame(data)\n",
    "df"
   ]
  },
  {
   "cell_type": "code",
   "execution_count": 163,
   "metadata": {
    "collapsed": false
   },
   "outputs": [
    {
     "data": {
      "text/html": [
       "<div>\n",
       "<table border=\"1\" class=\"dataframe\">\n",
       "  <thead>\n",
       "    <tr style=\"text-align: right;\">\n",
       "      <th></th>\n",
       "      <th>name</th>\n",
       "      <th>year</th>\n",
       "      <th>chinese zodiac</th>\n",
       "    </tr>\n",
       "  </thead>\n",
       "  <tbody>\n",
       "    <tr>\n",
       "      <th>0</th>\n",
       "      <td>똘기</td>\n",
       "      <td>1984</td>\n",
       "      <td>Rat</td>\n",
       "    </tr>\n",
       "    <tr>\n",
       "      <th>1</th>\n",
       "      <td>떵이</td>\n",
       "      <td>1985</td>\n",
       "      <td>Pig</td>\n",
       "    </tr>\n",
       "    <tr>\n",
       "      <th>2</th>\n",
       "      <td>호치</td>\n",
       "      <td>1986</td>\n",
       "      <td>Tiger</td>\n",
       "    </tr>\n",
       "    <tr>\n",
       "      <th>3</th>\n",
       "      <td>새촘</td>\n",
       "      <td>1987</td>\n",
       "      <td>Rabbit</td>\n",
       "    </tr>\n",
       "  </tbody>\n",
       "</table>\n",
       "</div>"
      ],
      "text/plain": [
       "  name  year chinese zodiac\n",
       "0   똘기  1984            Rat\n",
       "1   떵이  1985            Pig\n",
       "2   호치  1986          Tiger\n",
       "3   새촘  1987         Rabbit"
      ]
     },
     "execution_count": 163,
     "metadata": {},
     "output_type": "execute_result"
    }
   ],
   "source": [
    "# column 순서 바꾸기\n",
    "df = DataFrame(data, columns=['name', 'year', 'chinese zodiac'])\n",
    "df"
   ]
  },
  {
   "cell_type": "code",
   "execution_count": 164,
   "metadata": {
    "collapsed": false
   },
   "outputs": [
    {
     "data": {
      "text/html": [
       "<div>\n",
       "<table border=\"1\" class=\"dataframe\">\n",
       "  <thead>\n",
       "    <tr style=\"text-align: right;\">\n",
       "      <th></th>\n",
       "      <th>name</th>\n",
       "      <th>year</th>\n",
       "      <th>chinese zodiac</th>\n",
       "    </tr>\n",
       "  </thead>\n",
       "  <tbody>\n",
       "    <tr>\n",
       "      <th>1</th>\n",
       "      <td>똘기</td>\n",
       "      <td>1984</td>\n",
       "      <td>Rat</td>\n",
       "    </tr>\n",
       "    <tr>\n",
       "      <th>2</th>\n",
       "      <td>떵이</td>\n",
       "      <td>1985</td>\n",
       "      <td>Pig</td>\n",
       "    </tr>\n",
       "    <tr>\n",
       "      <th>3</th>\n",
       "      <td>호치</td>\n",
       "      <td>1986</td>\n",
       "      <td>Tiger</td>\n",
       "    </tr>\n",
       "    <tr>\n",
       "      <th>4</th>\n",
       "      <td>새촘</td>\n",
       "      <td>1987</td>\n",
       "      <td>Rabbit</td>\n",
       "    </tr>\n",
       "  </tbody>\n",
       "</table>\n",
       "</div>"
      ],
      "text/plain": [
       "  name  year chinese zodiac\n",
       "1   똘기  1984            Rat\n",
       "2   떵이  1985            Pig\n",
       "3   호치  1986          Tiger\n",
       "4   새촘  1987         Rabbit"
      ]
     },
     "execution_count": 164,
     "metadata": {},
     "output_type": "execute_result"
    }
   ],
   "source": [
    "# index(row 명)도 따로 정해줄 수 있습니다.\n",
    "df = DataFrame(data, \\\n",
    "               columns=['name', 'year', 'chinese zodiac'], \\\n",
    "               index=[1,2,3,4])\n",
    "df"
   ]
  },
  {
   "cell_type": "code",
   "execution_count": 166,
   "metadata": {
    "collapsed": false
   },
   "outputs": [
    {
     "data": {
      "text/html": [
       "<div>\n",
       "<table border=\"1\" class=\"dataframe\">\n",
       "  <thead>\n",
       "    <tr style=\"text-align: right;\">\n",
       "      <th></th>\n",
       "      <th>이름</th>\n",
       "      <th>년도</th>\n",
       "      <th>띠</th>\n",
       "    </tr>\n",
       "  </thead>\n",
       "  <tbody>\n",
       "    <tr>\n",
       "      <th>1</th>\n",
       "      <td>똘기</td>\n",
       "      <td>1984</td>\n",
       "      <td>Rat</td>\n",
       "    </tr>\n",
       "    <tr>\n",
       "      <th>2</th>\n",
       "      <td>떵이</td>\n",
       "      <td>1985</td>\n",
       "      <td>Pig</td>\n",
       "    </tr>\n",
       "    <tr>\n",
       "      <th>3</th>\n",
       "      <td>호치</td>\n",
       "      <td>1986</td>\n",
       "      <td>Tiger</td>\n",
       "    </tr>\n",
       "    <tr>\n",
       "      <th>4</th>\n",
       "      <td>새촘</td>\n",
       "      <td>1987</td>\n",
       "      <td>Rabbit</td>\n",
       "    </tr>\n",
       "  </tbody>\n",
       "</table>\n",
       "</div>"
      ],
      "text/plain": [
       "   이름    년도       띠\n",
       "1  똘기  1984     Rat\n",
       "2  떵이  1985     Pig\n",
       "3  호치  1986   Tiger\n",
       "4  새촘  1987  Rabbit"
      ]
     },
     "execution_count": 166,
     "metadata": {},
     "output_type": "execute_result"
    }
   ],
   "source": [
    "# column명을 바꾸기 위해서는 \n",
    "df.columns = ['이름', '년도', '띠']\n",
    "df"
   ]
  },
  {
   "cell_type": "code",
   "execution_count": 204,
   "metadata": {
    "collapsed": false
   },
   "outputs": [
    {
     "data": {
      "text/plain": [
       "12-1    똘기\n",
       "2       떵이\n",
       "3       호치\n",
       "4       새촘\n",
       "Name: 이름, dtype: object"
      ]
     },
     "execution_count": 204,
     "metadata": {},
     "output_type": "execute_result"
    }
   ],
   "source": [
    "# column을 선택하려면 아래와 같이 합니다.\n",
    "df['이름']"
   ]
  },
  {
   "cell_type": "code",
   "execution_count": 208,
   "metadata": {
    "collapsed": false
   },
   "outputs": [
    {
     "data": {
      "text/plain": [
       "pandas.core.series.Series"
      ]
     },
     "execution_count": 208,
     "metadata": {},
     "output_type": "execute_result"
    }
   ],
   "source": [
    "# Series type 입니다. Series의 정체는 뭘까요?\n",
    "type(df['이름'])"
   ]
  },
  {
   "cell_type": "code",
   "execution_count": 206,
   "metadata": {
    "collapsed": false
   },
   "outputs": [
    {
     "data": {
      "text/plain": [
       "이름        떵이\n",
       "출생년도    1985\n",
       "띠        Pig\n",
       "Name: 2, dtype: object"
      ]
     },
     "execution_count": 206,
     "metadata": {},
     "output_type": "execute_result"
    }
   ],
   "source": [
    "# row를 선택하려면 ix 메소드를 통해서 고릅니다. \n",
    "# 주의: df.ix[0]은 0이 index로 지정되어있지 않기 때문에 에러가 납니다! \n",
    "df.ix[1]"
   ]
  },
  {
   "cell_type": "code",
   "execution_count": 209,
   "metadata": {
    "collapsed": false
   },
   "outputs": [
    {
     "data": {
      "text/plain": [
       "pandas.core.series.Series"
      ]
     },
     "execution_count": 209,
     "metadata": {},
     "output_type": "execute_result"
    }
   ],
   "source": [
    "# 이 녀석도 Series type 입니다.\n",
    "type(df.ix[1])"
   ]
  },
  {
   "cell_type": "code",
   "execution_count": 177,
   "metadata": {
    "collapsed": false
   },
   "outputs": [
    {
     "data": {
      "text/plain": [
       "Index([u'이름', u'년도', u'띠'], dtype='object')"
      ]
     },
     "execution_count": 177,
     "metadata": {},
     "output_type": "execute_result"
    }
   ],
   "source": [
    "# column을 확인합니다.\n",
    "df.columns"
   ]
  },
  {
   "cell_type": "code",
   "execution_count": 183,
   "metadata": {
    "collapsed": false
   },
   "outputs": [
    {
     "data": {
      "text/plain": [
       "Int64Index([1, 2, 3, 4], dtype='int64')"
      ]
     },
     "execution_count": 183,
     "metadata": {},
     "output_type": "execute_result"
    }
   ],
   "source": [
    "# index를 확인합니다. data type이 integer네요.\n",
    "df.index"
   ]
  },
  {
   "cell_type": "code",
   "execution_count": 185,
   "metadata": {
    "collapsed": false
   },
   "outputs": [
    {
     "data": {
      "text/plain": [
       "dtype('int64')"
      ]
     },
     "execution_count": 185,
     "metadata": {},
     "output_type": "execute_result"
    }
   ],
   "source": [
    "df.index.dtype"
   ]
  },
  {
   "cell_type": "code",
   "execution_count": 186,
   "metadata": {
    "collapsed": false
   },
   "outputs": [
    {
     "data": {
      "text/plain": [
       "numpy.dtype"
      ]
     },
     "execution_count": 186,
     "metadata": {},
     "output_type": "execute_result"
    }
   ],
   "source": [
    "type(df.index.dtype)"
   ]
  },
  {
   "cell_type": "code",
   "execution_count": 187,
   "metadata": {
    "collapsed": false
   },
   "outputs": [
    {
     "data": {
      "text/html": [
       "<div>\n",
       "<table border=\"1\" class=\"dataframe\">\n",
       "  <thead>\n",
       "    <tr style=\"text-align: right;\">\n",
       "      <th></th>\n",
       "      <th>이름</th>\n",
       "      <th>출생년도</th>\n",
       "      <th>띠</th>\n",
       "    </tr>\n",
       "  </thead>\n",
       "  <tbody>\n",
       "    <tr>\n",
       "      <th>12-1</th>\n",
       "      <td>똘기</td>\n",
       "      <td>1984</td>\n",
       "      <td>Rat</td>\n",
       "    </tr>\n",
       "    <tr>\n",
       "      <th>2</th>\n",
       "      <td>떵이</td>\n",
       "      <td>1985</td>\n",
       "      <td>Pig</td>\n",
       "    </tr>\n",
       "    <tr>\n",
       "      <th>3</th>\n",
       "      <td>호치</td>\n",
       "      <td>1986</td>\n",
       "      <td>Tiger</td>\n",
       "    </tr>\n",
       "    <tr>\n",
       "      <th>4</th>\n",
       "      <td>새촘</td>\n",
       "      <td>1987</td>\n",
       "      <td>Rabbit</td>\n",
       "    </tr>\n",
       "  </tbody>\n",
       "</table>\n",
       "</div>"
      ],
      "text/plain": [
       "      이름  출생년도       띠\n",
       "12-1  똘기  1984     Rat\n",
       "2     떵이  1985     Pig\n",
       "3     호치  1986   Tiger\n",
       "4     새촘  1987  Rabbit"
      ]
     },
     "execution_count": 187,
     "metadata": {},
     "output_type": "execute_result"
    }
   ],
   "source": [
    "# 컬럼명 지정해서 바꾸려면 rename을 합니다.\n",
    "df.rename(columns = {'년도': '출생년도'}, index = {1:'12-1'})"
   ]
  },
  {
   "cell_type": "code",
   "execution_count": 188,
   "metadata": {
    "collapsed": false
   },
   "outputs": [
    {
     "data": {
      "text/html": [
       "<div>\n",
       "<table border=\"1\" class=\"dataframe\">\n",
       "  <thead>\n",
       "    <tr style=\"text-align: right;\">\n",
       "      <th></th>\n",
       "      <th>이름</th>\n",
       "      <th>년도</th>\n",
       "      <th>띠</th>\n",
       "    </tr>\n",
       "  </thead>\n",
       "  <tbody>\n",
       "    <tr>\n",
       "      <th>1</th>\n",
       "      <td>똘기</td>\n",
       "      <td>1984</td>\n",
       "      <td>Rat</td>\n",
       "    </tr>\n",
       "    <tr>\n",
       "      <th>2</th>\n",
       "      <td>떵이</td>\n",
       "      <td>1985</td>\n",
       "      <td>Pig</td>\n",
       "    </tr>\n",
       "    <tr>\n",
       "      <th>3</th>\n",
       "      <td>호치</td>\n",
       "      <td>1986</td>\n",
       "      <td>Tiger</td>\n",
       "    </tr>\n",
       "    <tr>\n",
       "      <th>4</th>\n",
       "      <td>새촘</td>\n",
       "      <td>1987</td>\n",
       "      <td>Rabbit</td>\n",
       "    </tr>\n",
       "  </tbody>\n",
       "</table>\n",
       "</div>"
      ],
      "text/plain": [
       "   이름    년도       띠\n",
       "1  똘기  1984     Rat\n",
       "2  떵이  1985     Pig\n",
       "3  호치  1986   Tiger\n",
       "4  새촘  1987  Rabbit"
      ]
     },
     "execution_count": 188,
     "metadata": {},
     "output_type": "execute_result"
    }
   ],
   "source": [
    "# 실제로는 바뀌지 않았습니다. 바꿔주려면 inplace=True 옵션을 줍니다.\n",
    "df"
   ]
  },
  {
   "cell_type": "code",
   "execution_count": 190,
   "metadata": {
    "collapsed": false
   },
   "outputs": [
    {
     "data": {
      "text/plain": [
       "Int64Index([1, 2, 3, 4], dtype='int64')"
      ]
     },
     "execution_count": 190,
     "metadata": {},
     "output_type": "execute_result"
    }
   ],
   "source": [
    "# index도 아직 integer 타입이죠?\n",
    "df.index"
   ]
  },
  {
   "cell_type": "code",
   "execution_count": 210,
   "metadata": {
    "collapsed": false
   },
   "outputs": [],
   "source": [
    "# 컬럼명 지정해서 바꾸려면 rename을 합니다.\n",
    "df.rename(columns = {'년도': '출생년도'}, index = {1:'12-1'}, inplace=True)"
   ]
  },
  {
   "cell_type": "code",
   "execution_count": 211,
   "metadata": {
    "collapsed": false,
    "scrolled": true
   },
   "outputs": [
    {
     "data": {
      "text/html": [
       "<div>\n",
       "<table border=\"1\" class=\"dataframe\">\n",
       "  <thead>\n",
       "    <tr style=\"text-align: right;\">\n",
       "      <th></th>\n",
       "      <th>이름</th>\n",
       "      <th>출생년도</th>\n",
       "      <th>띠</th>\n",
       "    </tr>\n",
       "  </thead>\n",
       "  <tbody>\n",
       "    <tr>\n",
       "      <th>12-1</th>\n",
       "      <td>똘기</td>\n",
       "      <td>1984</td>\n",
       "      <td>Rat</td>\n",
       "    </tr>\n",
       "    <tr>\n",
       "      <th>2</th>\n",
       "      <td>떵이</td>\n",
       "      <td>1985</td>\n",
       "      <td>Pig</td>\n",
       "    </tr>\n",
       "    <tr>\n",
       "      <th>3</th>\n",
       "      <td>호치</td>\n",
       "      <td>1986</td>\n",
       "      <td>Tiger</td>\n",
       "    </tr>\n",
       "    <tr>\n",
       "      <th>4</th>\n",
       "      <td>새촘</td>\n",
       "      <td>1987</td>\n",
       "      <td>Rabbit</td>\n",
       "    </tr>\n",
       "  </tbody>\n",
       "</table>\n",
       "</div>"
      ],
      "text/plain": [
       "      이름  출생년도       띠\n",
       "12-1  똘기  1984     Rat\n",
       "2     떵이  1985     Pig\n",
       "3     호치  1986   Tiger\n",
       "4     새촘  1987  Rabbit"
      ]
     },
     "execution_count": 211,
     "metadata": {},
     "output_type": "execute_result"
    }
   ],
   "source": [
    "df"
   ]
  },
  {
   "cell_type": "code",
   "execution_count": 213,
   "metadata": {
    "collapsed": false
   },
   "outputs": [
    {
     "data": {
      "text/plain": [
       "Index([u'12-1', 2, 3, 4], dtype='object')"
      ]
     },
     "execution_count": 213,
     "metadata": {},
     "output_type": "execute_result"
    }
   ],
   "source": [
    "# type이 int64에서 object로 바뀌었네요\n",
    "df.index"
   ]
  },
  {
   "cell_type": "code",
   "execution_count": 214,
   "metadata": {
    "collapsed": false
   },
   "outputs": [
    {
     "data": {
      "text/plain": [
       "dtype('O')"
      ]
     },
     "execution_count": 214,
     "metadata": {},
     "output_type": "execute_result"
    }
   ],
   "source": [
    "df.index.dtype"
   ]
  },
  {
   "cell_type": "code",
   "execution_count": 215,
   "metadata": {
    "collapsed": false
   },
   "outputs": [
    {
     "data": {
      "text/plain": [
       "이름        똘기\n",
       "출생년도    1984\n",
       "띠        Rat\n",
       "Name: 12-1, dtype: object"
      ]
     },
     "execution_count": 215,
     "metadata": {},
     "output_type": "execute_result"
    }
   ],
   "source": [
    "# row를 선택하려면 ix 메소드를 통해서 고릅니다. \n",
    "df.ix['12-1']"
   ]
  },
  {
   "cell_type": "code",
   "execution_count": 232,
   "metadata": {
    "collapsed": false
   },
   "outputs": [
    {
     "data": {
      "text/plain": [
       "이름        똘기\n",
       "출생년도    1984\n",
       "띠        Rat\n",
       "Name: 12-1, dtype: object"
      ]
     },
     "execution_count": 232,
     "metadata": {},
     "output_type": "execute_result"
    }
   ],
   "source": [
    "# index의 type이 object로 바뀌니 index 0에 접근이 가능하네요!\n",
    "df.ix[0]"
   ]
  },
  {
   "cell_type": "code",
   "execution_count": null,
   "metadata": {
    "collapsed": true
   },
   "outputs": [],
   "source": []
  },
  {
   "cell_type": "markdown",
   "metadata": {},
   "source": [
    "# 읽을거리 \n",
    "\n",
    "### dtype\n",
    "여기 나오는 dtype(데이터 타입)들은 모두 numpy에 구현된 자료형들입니다. 위 index의 type을 찍어봤을때 정수는 int64로, 문자열의 경우 object로 나온 것을 확인 할 수 있었습니다. index64의 경우 8 byte로 64bit = 2^64개의 bit(2**64)의 메모리를 차지합니다. 문자열의 경우 메모리를 얼마나 차지할 지 모르기 때문에, 메모리를 참조하는 방식으로 이루어집니다.\n",
    "\n",
    "![](http://i.stack.imgur.com/pFF44.png)\n",
    "\n",
    "### 참고\n",
    "- http://stackoverflow.com/questions/21018654/strings-in-a-dataframe-but-dtype-is-object\n",
    "- http://docs.scipy.org/doc/numpy-1.10.1/user/basics.types.html"
   ]
  },
  {
   "cell_type": "code",
   "execution_count": 230,
   "metadata": {
    "collapsed": true
   },
   "outputs": [],
   "source": [
    "# 보통 이렇게 numpy를 np로 줄여서 사용합니다. 사실 위에서 사용한 pandas도 편하게 pd로 줄여씁니다.\n",
    "# numpy 패키지는 ndarray라는 파워풀한 자료구조를 지원하며, 각종 수치 컴퓨팅 관련 메소드를 지원합니다.\n",
    "import numpy as np"
   ]
  },
  {
   "cell_type": "code",
   "execution_count": 231,
   "metadata": {
    "collapsed": false
   },
   "outputs": [
    {
     "name": "stdout",
     "output_type": "stream",
     "text": [
      "[1 2 3 4]\n",
      "<type 'numpy.ndarray'>\n"
     ]
    }
   ],
   "source": [
    "arr = np.array([1,2,3,4])\n",
    "print arr\n",
    "print type(arr)"
   ]
  },
  {
   "cell_type": "code",
   "execution_count": 219,
   "metadata": {
    "collapsed": false
   },
   "outputs": [
    {
     "data": {
      "text/plain": [
       "array(['1', '2', '3'], \n",
       "      dtype='|S21')"
      ]
     },
     "execution_count": 219,
     "metadata": {},
     "output_type": "execute_result"
    }
   ],
   "source": [
    "# list와 \n",
    "np.array([1,2,'3'])"
   ]
  },
  {
   "cell_type": "code",
   "execution_count": 111,
   "metadata": {
    "collapsed": false
   },
   "outputs": [
    {
     "data": {
      "text/html": [
       "<div>\n",
       "<table border=\"1\" class=\"dataframe\">\n",
       "  <thead>\n",
       "    <tr style=\"text-align: right;\">\n",
       "      <th></th>\n",
       "      <th>0</th>\n",
       "      <th>1</th>\n",
       "      <th>2</th>\n",
       "    </tr>\n",
       "  </thead>\n",
       "  <tbody>\n",
       "    <tr>\n",
       "      <th>0</th>\n",
       "      <td>1</td>\n",
       "      <td>2</td>\n",
       "      <td>3</td>\n",
       "    </tr>\n",
       "    <tr>\n",
       "      <th>1</th>\n",
       "      <td>4</td>\n",
       "      <td>5</td>\n",
       "      <td>6</td>\n",
       "    </tr>\n",
       "    <tr>\n",
       "      <th>2</th>\n",
       "      <td>7</td>\n",
       "      <td>8</td>\n",
       "      <td>9</td>\n",
       "    </tr>\n",
       "    <tr>\n",
       "      <th>3</th>\n",
       "      <td>1</td>\n",
       "      <td>2</td>\n",
       "      <td>3</td>\n",
       "    </tr>\n",
       "  </tbody>\n",
       "</table>\n",
       "</div>"
      ],
      "text/plain": [
       "   0  1  2\n",
       "0  1  2  3\n",
       "1  4  5  6\n",
       "2  7  8  9\n",
       "3  1  2  3"
      ]
     },
     "execution_count": 111,
     "metadata": {},
     "output_type": "execute_result"
    }
   ],
   "source": [
    "# list를 활용하여 2차원 행렬을 만들어, DataFrame을 만들 수도 있습니다.\n",
    "data_list = [[1,2,3],[4,5,6],[7,8,9],[1,2,3]]\n",
    "df_2 = DataFrame(data_list)\n",
    "df_2"
   ]
  }
 ],
 "metadata": {
  "kernelspec": {
   "display_name": "Python 2",
   "language": "python",
   "name": "python2"
  },
  "language_info": {
   "codemirror_mode": {
    "name": "ipython",
    "version": 2
   },
   "file_extension": ".py",
   "mimetype": "text/x-python",
   "name": "python",
   "nbconvert_exporter": "python",
   "pygments_lexer": "ipython2",
   "version": "2.7.9"
  }
 },
 "nbformat": 4,
 "nbformat_minor": 0
}

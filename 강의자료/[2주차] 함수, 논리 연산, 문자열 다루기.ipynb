{
 "cells": [
  {
   "cell_type": "markdown",
   "metadata": {},
   "source": [
    "# 2주차: 함수, 논리 연산, 문자열 다루기"
   ]
  },
  {
   "cell_type": "markdown",
   "metadata": {},
   "source": [
    "## 저번 주 도전 과제의 해답"
   ]
  },
  {
   "cell_type": "code",
   "execution_count": 1,
   "metadata": {
    "collapsed": false
   },
   "outputs": [
    {
     "name": "stdout",
     "output_type": "stream",
     "text": [
      "2중 for문 방법:  10000\n",
      "if에서 in을 사용하는 방법:  10000\n"
     ]
    }
   ],
   "source": [
    "coffee_menu = [\n",
    "    {\n",
    "        \"name\": \"아메리카노\",\n",
    "        \"price\": 4000\n",
    "    },\n",
    "    {\n",
    "        \"name\": \"카페라떼\",\n",
    "        \"price\": 5000\n",
    "    },\n",
    "    {\n",
    "        \"name\": \"카페모카\",\n",
    "        \"price\": 6000\n",
    "    }\n",
    "]\n",
    "\n",
    "# for 문을 두 번 사용하는 방법.\n",
    "def calculate_total_price(coffees):\n",
    "    total_price = 0\n",
    "    \n",
    "    for menu in coffee_menu:\n",
    "        for target in coffees:\n",
    "            if menu['name'] == target:\n",
    "                total_price = total_price + menu['price']  # 이 부분운 += 단항 연산자로 고쳐쓸 수 있습니다.\n",
    "    \n",
    "    return total_price\n",
    "\n",
    "# Python 좀 하는 사람들이 사용하는 방법.\n",
    "# if 문에도 'in'을 사용할 수 있습니다.\n",
    "def calculate_total_price_using_in(coffees):\n",
    "    total_price = 0\n",
    "    \n",
    "    for menu in coffee_menu:\n",
    "        if menu['name'] in coffees:\n",
    "            total_price += menu['price']\n",
    "    \n",
    "    return total_price\n",
    "\n",
    "# 호출\n",
    "# 아메리카노가 4000원, 카페모카가 6000원이니 10000이 찍혀야 합니다.\n",
    "print \"2중 for문 방법: \", calculate_total_price([\"아메리카노\", \"카페모카\"]) \n",
    "print \"if에서 in을 사용하는 방법: \", calculate_total_price_using_in([\"아메리카노\", \"카페모카\"]) \n"
   ]
  },
  {
   "cell_type": "markdown",
   "metadata": {},
   "source": [
    "## 함수와 return"
   ]
  },
  {
   "cell_type": "code",
   "execution_count": 2,
   "metadata": {
    "collapsed": false
   },
   "outputs": [
    {
     "name": "stdout",
     "output_type": "stream",
     "text": [
      "15\n",
      "-1\n"
     ]
    }
   ],
   "source": [
    "# 함수는 말그대로 '매개변수(x)'를 받아서 특정 작업을 거친 '출력값(y)'을 내놓는 것입니다.\n",
    "# 따라서 특정 출력값을 내놓기 위해 사용하는 키워드가 바로 'return' 입니다.\n",
    "\n",
    "def sum_func(a, b):\n",
    "    return a+b\n",
    "\n",
    "result = sum_func(sum_func(1, 2), sum_func(3, sum_func(4, 5)))\n",
    "print result\n",
    "\n",
    "# 형태를 막론하고 return 할 수 있습니다.\n",
    "def calc(a, b):\n",
    "    return [a+b, a-b]\n",
    "\n",
    "print calc(1, 2)[1]"
   ]
  },
  {
   "cell_type": "markdown",
   "metadata": {},
   "source": [
    "## 함수도 하나의 자료형이다"
   ]
  },
  {
   "cell_type": "code",
   "execution_count": 3,
   "metadata": {
    "collapsed": false
   },
   "outputs": [
    {
     "name": "stdout",
     "output_type": "stream",
     "text": [
      "1\n",
      "<function sum_func at 0x10c7d5668>\n",
      "<type 'int'>\n",
      "<type 'function'>\n",
      "30\n",
      "-10\n",
      "<type 'function'>\n",
      "300\n",
      "200\n"
     ]
    }
   ],
   "source": [
    "# 함수도 일반 변수로 취급할 수 있답니다.\n",
    "\n",
    "some_value = 1\n",
    "\n",
    "def sum_func(a, b):\n",
    "    return a+b\n",
    "\n",
    "def minus_func(a, b):\n",
    "    return a-b\n",
    "\n",
    "\n",
    "print some_value\n",
    "print sum_func  # 실제 해당 함수가 가르키고 있는 메모리의 주소 값을 보여줍니다.\n",
    "print type(some_value)  # type() 내장 함수를 이용하면, 해당 변수의 형태를 볼 수 있습니다.\n",
    "print type(sum_func)\n",
    "\n",
    "# 따라서 함수를 매개변수로 넣을 수도 있습니다.\n",
    "def calc(input_1, input_2, what_to_do):\n",
    "    return what_to_do(input_1, input_2)\n",
    "\n",
    "print calc(10, 20, sum_func)\n",
    "print calc(10, 20, minus_func)\n",
    "\n",
    "# 함수를 리턴하는 것도 가능합니다.\n",
    "# 함수 안에 함수를 선언하는 것도 역시 가능합니다.\n",
    "def get_calc_module(module_name):\n",
    "    \n",
    "    def inner_sum_func(a, b):\n",
    "        return a+b\n",
    "    \n",
    "    def inner_minus_func(a, b):\n",
    "        return a-b\n",
    "    \n",
    "    if module_name == 'sum':\n",
    "        return inner_sum_func\n",
    "    elif module_name == 'minus':\n",
    "        return inner_minus_func\n",
    "\n",
    "# 리턴 받은 함수를 변수에 할당할 수 있습니다.\n",
    "guess_what = get_calc_module('sum')\n",
    "print type(guess_what)\n",
    "\n",
    "# 이렇게 실행도 가능합니다.\n",
    "print guess_what(100, 200)\n",
    "\n",
    "# 좀 더 머리를 쓰면, 따로 변수에 할당하지 않고 한 줄로 쓸 수도 있겠죠.\n",
    "print get_calc_module('minus')(500, 300)\n"
   ]
  },
  {
   "cell_type": "markdown",
   "metadata": {},
   "source": [
    "## 반복문을 대신하는 함수의 재귀 호출 (Recursive)"
   ]
  },
  {
   "cell_type": "code",
   "execution_count": 4,
   "metadata": {
    "collapsed": false
   },
   "outputs": [
    {
     "name": "stdout",
     "output_type": "stream",
     "text": [
      "120\n",
      "120\n"
     ]
    }
   ],
   "source": [
    "# 함수는 자기 스스로를 부를수도 있답니다.\n",
    "\n",
    "# for 문을 이용해 팩토리얼을 구하는 함수를 만들어봅시다.\n",
    "def factorial_for(n):\n",
    "    result = 1\n",
    "    for i in range(1, n+1):\n",
    "        result = result * i\n",
    "    return result\n",
    "\n",
    "print factorial_for(5)\n",
    "\n",
    "# 재귀호출을 이용해 함수를 만들어봅시다.\n",
    "def factorial(n):\n",
    "    if(n == 1):\n",
    "        return 1\n",
    "    else:\n",
    "        return n * factorial(n-1)\n",
    "        \n",
    "print factorial(5)\n",
    "\n",
    "# 개념을 이해하기 어렵기 때문에, 직접 해보는게 좋습니다."
   ]
  },
  {
   "cell_type": "markdown",
   "metadata": {},
   "source": [
    "## 재귀호출을 이용한 알고리즘 설계 (문제 해결)"
   ]
  },
  {
   "cell_type": "code",
   "execution_count": 8,
   "metadata": {
    "collapsed": false
   },
   "outputs": [],
   "source": [
    "# 직접 해봅시다: 피보나치 수열 구하기\n",
    "\n",
    "# 피보나치 수열: 0,1,1,2,3,5,8,13,21,34,55,89, ... \n",
    "# 수학적 정의: Fn = Fn-1 + Fn-2 (단, F0 = 0 and F1 = 1)\n",
    "\n",
    "# n번째는 얼마일까? (0부터 시작함을 유념)\n",
    "\n",
    "# 예상 결과\n",
    "# print fib(1)  # 1\n",
    "# print fib(6)  # 8\n",
    "\n",
    "# 샘플\n",
    "def fib(n):\n",
    "    # ...\n",
    "    return"
   ]
  },
  {
   "cell_type": "markdown",
   "metadata": {},
   "source": [
    "## args, kwargs: 가변길이 매개변수"
   ]
  },
  {
   "cell_type": "code",
   "execution_count": 6,
   "metadata": {
    "collapsed": false
   },
   "outputs": [
    {
     "name": "stdout",
     "output_type": "stream",
     "text": [
      "43\n",
      "3\n",
      "lemon 5000\n",
      "grape 3000\n",
      "apple 1000\n"
     ]
    }
   ],
   "source": [
    "# 우리는 항상 함수에서 미리 정의된 매개 변수만을 사용했습니다.\n",
    "\n",
    "def var_sum(*args):  # 가변기리 매개변수를 이용하기위해 *를 붙여줍니다. (args)\n",
    "    \n",
    "    sum = 0\n",
    "    for i in args:\n",
    "        sum += i\n",
    "        \n",
    "    return sum\n",
    "\n",
    "print var_sum(10, 20, 1, 5, 7)  # 무한히 쓸 수 있습니다.\n",
    "print var_sum(1, 2)\n",
    "\n",
    "\n",
    "# 키워드 가변길이 매개변수도 사용 가능합니다. (kwargs)\n",
    "\n",
    "def fruits(**kwargs):\n",
    "    \n",
    "    for key, val in kwargs.items():  # 딕셔너리를 for 문으로 순회할 때에는 .items() 라는 내장 변수를 사용합니다.\n",
    "        print key, val\n",
    "    \n",
    "fruits(grape=3000, lemon=5000, apple=1000)\n"
   ]
  },
  {
   "cell_type": "markdown",
   "metadata": {},
   "source": [
    "## List comprehension"
   ]
  },
  {
   "cell_type": "code",
   "execution_count": 17,
   "metadata": {
    "collapsed": false
   },
   "outputs": [
    {
     "name": "stdout",
     "output_type": "stream",
     "text": [
      "10000\n",
      "[]\n"
     ]
    }
   ],
   "source": [
    "# 저번 주 도전과제 중 파이썬 초 고수들이 쓰는 방법: List comprehension\n",
    "# 위의 for 문과 비교해보세요.\n",
    "print sum([menu['price'] if menu['name'] in [\"아메리카노\", \"카페모카\"] else 0 for menu in coffee_menu])\n",
    "\n",
    "# 파이썬의 강점 중 하나인 List comprehension: 여러 줄의 for 문과 if 문을 한 줄로 줄여줍니다.\n",
    "# 어려운 로직에서는 가독성이 조금 떨어지는 단점이 있지만(안티패턴), 단순한 로직에서는 대체로 선호하는 편\n",
    "\n",
    "# result = []\n",
    "# for value in list:\n",
    "#     result.append(value)\n",
    "# ==> result = [value for value in list] 형식임.\n",
    "\n",
    "\n",
    "# 직접 해봅시다: 주어진 숫자 리스트를 무조껀 2배로 곱해 다시 저장하기.\n",
    "input = [1, 3, 5, 7, 9, 3, 4, 5]\n",
    "output = []  # 여기에 구현\n",
    "print output\n",
    "\n",
    "# if 문이 들어가는 경우\n",
    "# ==> [참일때값 if 조건식 else 거짓일때값 for value in list] 형식\n",
    "# 직접 해봅시다: 위의 문제에서, 원래 값이 홀수 일 때만 2배로 곱해 저장. 짝수면 그냥 바로 저장.\n",
    "# 힌트: 홀수인지 알아내는 법은 2로 나눠서 나머지가 1이면 되겠지요. 나머지 연산자(%)를 사용하면 됩니다. e.g. 9 % 2 ==> 1\n"
   ]
  },
  {
   "cell_type": "markdown",
   "metadata": {},
   "source": [
    "## 연산자와 그 우선순위\n",
    "\n",
    "Python에는 다양한 연산자들이 존재하며, 이 연산자들 사이에도 누가 먼저 계산이 될지 연산자 우선순위(Operators Precedence)를 가지고 있습니다.\n",
    "\n",
    "| 우선순위 | 연산자 | 설명 |\n",
    "|----------|--------|------|\n",
    "| 1        | **       |  지수    |\n",
    "| 2        | *, /, %, //     |   곱하기, 나누기, 나머지, 몫   |\n",
    "| 3        |   +, -     |  덧셈, 뻴셈    |\n",
    "| 4        |    <=, <, >, >=    |  비교 연산자    |\n",
    "| 5         |   ==, !=  | 평등 연산자     |\n",
    "| 6         |  =, %=, /=, //=, -=, +=, *=, **=  |  할당 연산자    |\n",
    "| 7         |   in, not in   | 멤버 연산자  |\n",
    "| 8         |   not, or, and     |  논리 연산자    |"
   ]
  },
  {
   "cell_type": "code",
   "execution_count": 43,
   "metadata": {
    "collapsed": false
   },
   "outputs": [
    {
     "name": "stdout",
     "output_type": "stream",
     "text": [
      "9\n",
      "가장 먼저 우항의 곱셈 연산이 이루어지고, 좌항의 평등 연산이 이루어진 이후에 가운데 논리 연산이 이루어졌습니다.\n"
     ]
    }
   ],
   "source": [
    "print 1 + 2 ** 3  # 2**3 이 먼저 시행됩니다.\n",
    "a = 1 + 3  # 우리는 당연하게 생각했지만, = (할당)연산이 + 연산보다 뒤에 이루어진 것입니다.\n",
    "if a == 4 and a >= 1*2:\n",
    "    print \"가장 먼저 우항의 곱셈 연산이 이루어지고, 좌항의 평등 연산이 이루어진 이후에 가운데 논리 연산이 이루어졌습니다.\"\n"
   ]
  },
  {
   "cell_type": "markdown",
   "metadata": {},
   "source": [
    "## 파이참에서 디버깅 하는 방법\n",
    "\n",
    "### 프로그래밍에서 버그란?\n",
    "\n",
    "- 프로그램을 실행하는 과정에서 발생하는 '오류'\n",
    "- 실제 1945년에 MarkII 컴퓨터의 회로에 나방이 들어가 합선을 일으켜 비정상적으로 동작한 것이 인류 최초의 컴퓨터 버그. (그래서 오류가 버그라고 불리게 됨.)\n",
    "- 오류의 종류\n",
    " - Syntax Error: 말 그대로 프로그래밍 문법이 틀려서 나는 문제. Python 인터프리터에서 문법 오류가 발생했다고 알려줌. *인터프리터: Python 소스 코드를 실행시 분석해 실제 컴퓨터가 알아들을 수 있는 2진수 코드로 바꿔주는 장치\n",
    " - Semantic Error: 문법은 잘 맞았지만, 개발자가 의도하는대로 작동하지 않은 경우. 대부분의 버그라고 생각하면 쉬움.\n"
   ]
  },
  {
   "cell_type": "code",
   "execution_count": 46,
   "metadata": {
    "collapsed": false
   },
   "outputs": [
    {
     "name": "stdout",
     "output_type": "stream",
     "text": [
      "0\n"
     ]
    }
   ],
   "source": [
    "# Semantic Error의 예\n",
    "result = 0\n",
    "for i in range(1, 11):\n",
    "    result *= i\n",
    "print result   # 개발자는 1부터 10까지의 곱을 구하려고 의도하였으나, 초기값이 0인 관계로 정상 작동하지 않음."
   ]
  },
  {
   "cell_type": "markdown",
   "metadata": {},
   "source": [
    "### 디버깅이란\n",
    "\n",
    "- 프로그램 개발에서 버그 발생은 필수불가결함. 즉, '작성하자 마자 바로 돌아가는 프로그램은 없다'라는 것. 가령 위에서 진행했던 재귀 호출 알고리즘 문제같은 아주 간단한 프로그램도 처음 작성한 버전은 제대로 작성했을 가능성이 매우 낮음. 여러번 고쳐가며 돌려봐야 제대로 된 해답을 찾을 수 있게 된다는 것.\n",
    "- 따라서 개발자에게 버그를 찾아내고 수정하는 '디버깅' 능력은 매우 중요하게 여겨짐.\n",
    "\n",
    "### 실제 파이참에서 디버깅하는 방법\n",
    "\n",
    "1. 순차적으로 실행되는 소스코드 중, 중간에 멈추었으면 하는 부분에서 '중단점(Break point)'을 만든다.\n",
    "2. 'Run' 대신에 'Debug'를 눌러 프로그램을 실행.\n",
    "3. 실행 도중 (1)에서 지정한 중단점에서 프로그램이 중지하면, 하단 Debugger의 Watches를 통해 변수들의 값을 확인 할 수 있음. ('+' 버튼을 눌러 감시하고자 하는 변수를 추가할 수 있음.)\n",
    "4. 중단점 이후에 소스 코드를 한 줄씩 실행하고 싶은 경우에는 F8을 누르고,\n",
    "5. 다음 중단점, 혹은 다음 중단점이 없는 상태에서 프로그램 끝까지 실행하고 싶다면 Resume을 누르면 됨.\n",
    "\n",
    "\n",
    "- 실제 파이참 환경에서 같이 해봅시다."
   ]
  },
  {
   "cell_type": "markdown",
   "metadata": {},
   "source": [
    "## 참과 거짓, 논리 연산"
   ]
  },
  {
   "cell_type": "code",
   "execution_count": 47,
   "metadata": {
    "collapsed": false
   },
   "outputs": [
    {
     "name": "stdout",
     "output_type": "stream",
     "text": [
      "True\n",
      "False\n",
      "참이다!\n",
      "거짓이다!\n"
     ]
    }
   ],
   "source": [
    "# 참과 거짓\n",
    "\n",
    "print 1 == 1\n",
    "print 1 == 2\n",
    "\n",
    "# if 문 안의 수식은 최종적으로 True 혹은 False로 바뀌어 평가되는 것이랍니다.\n",
    "if True:\n",
    "    print \"참이다!\"\n",
    "\n",
    "if False:\n",
    "    pass\n",
    "else:\n",
    "    print \"거짓이다!\""
   ]
  },
  {
   "cell_type": "code",
   "execution_count": 48,
   "metadata": {
    "collapsed": false
   },
   "outputs": [
    {
     "name": "stdout",
     "output_type": "stream",
     "text": [
      "False\n",
      "True\n",
      "거짓이 아닙니다.\n"
     ]
    }
   ],
   "source": [
    "# 'not'을 붙여 강제로 뒤집을 수도 있습니다.\n",
    "\n",
    "print not True\n",
    "print not False\n",
    "\n",
    "if not False:\n",
    "    print \"거짓이 아닙니다.\""
   ]
  },
  {
   "cell_type": "code",
   "execution_count": 49,
   "metadata": {
    "collapsed": false
   },
   "outputs": [
    {
     "name": "stdout",
     "output_type": "stream",
     "text": [
      "True\n",
      "False\n",
      "False\n",
      "False\n",
      "True\n",
      "True\n",
      "True\n",
      "False\n"
     ]
    }
   ],
   "source": [
    "# Python에서는 and(그리고), or(또는) 논리 연산이 가능합니다.\n",
    "# and는 말 그대로 '둘 다 참'이어야 최종적으로 '참'이 되는 연산\n",
    "# or는 말 그대로 '둘 중 하나만 참'이어도 최종적으로 '참'이 되는 연산\n",
    "\n",
    "print True and True\n",
    "print True and False\n",
    "print False and True\n",
    "print False and False\n",
    "\n",
    "print True or True\n",
    "print True or False\n",
    "print False or True\n",
    "print False or False"
   ]
  },
  {
   "cell_type": "code",
   "execution_count": 50,
   "metadata": {
    "collapsed": false
   },
   "outputs": [
    {
     "name": "stdout",
     "output_type": "stream",
     "text": [
      "B등급입니다.\n",
      "B등급입니다.\n"
     ]
    }
   ],
   "source": [
    "# 2중 if문은 'and'연산으로 대체할 수 있습니다.\n",
    "\n",
    "# 80~90점은 B등급.\n",
    "score = 85\n",
    "\n",
    "if score >= 80:\n",
    "    if score < 90:\n",
    "        print \"B등급입니다.\"\n",
    "        \n",
    "# and 연산으로 대체\n",
    "\n",
    "if score >= 80 and score < 90:\n",
    "    print \"B등급입니다.\""
   ]
  },
  {
   "cell_type": "code",
   "execution_count": 51,
   "metadata": {
    "collapsed": false
   },
   "outputs": [],
   "source": [
    "# 연습해봅시다: '오늘 여행을 갈 수 있는지 알아보는' 함수를 만들어봅시다.\n",
    "\n",
    "# is_weekday: 주중인지 아닌지\n",
    "# is_vacation: 휴가 기간인지 아닌지\n",
    "def can_travel(is_weekday, is_vacation):\n",
    "    # ...\n",
    "    return\n",
    "\n",
    "# 조건1. 주중과 주말 중, 우리는 주말에만 여행을 갈 수 있습니다.\n",
    "# 조건2. 주중이더라도 휴가 기간이면 우리는 여행을 갈 수 있습니다.\n",
    "\n",
    "# 예상 결과\n",
    "# can_travel(False, True) -> True\n",
    "# can_travel(True, False) -> False\n",
    "# can_travel(False, True) -> True\n"
   ]
  },
  {
   "cell_type": "markdown",
   "metadata": {},
   "source": [
    "## 문자열을 만드는 네 가지 방법"
   ]
  },
  {
   "cell_type": "code",
   "execution_count": 52,
   "metadata": {
    "collapsed": false
   },
   "outputs": [
    {
     "name": "stdout",
     "output_type": "stream",
     "text": [
      "\"사느냐 죽느냐\" 그것이 문제로다!\n",
      "'사느냐 죽느냐' 그것이 문제로다!\n",
      "\n",
      "사느냐 죽느냐\n",
      "그것이 문제로다!\n",
      "\n",
      "\n",
      "사느냐 죽느냐\n",
      "그것이 문제로다!\n",
      "\n"
     ]
    }
   ],
   "source": [
    "# 문자열은 '(홑따옴표), \"(쌍따옴표), ''' , \"\"\"를 이용해 선언할 수 있습니다.\n",
    "\n",
    "shakespeare = '\"사느냐 죽느냐\" 그것이 문제로다!'\n",
    "print shakespeare\n",
    "\n",
    "shakespeare = \"'사느냐 죽느냐' 그것이 문제로다!\"\n",
    "print shakespeare\n",
    "\n",
    "# 여러줄로 선언하기\n",
    "shakespeare = '''\n",
    "사느냐 죽느냐\n",
    "그것이 문제로다!\n",
    "'''\n",
    "print shakespeare\n",
    "\n",
    "shakespeare = \"\"\"\n",
    "사느냐 죽느냐\n",
    "그것이 문제로다!\n",
    "\"\"\"\n",
    "print shakespeare"
   ]
  },
  {
   "cell_type": "markdown",
   "metadata": {},
   "source": [
    "## 문자열은 리스트와 형제다!"
   ]
  },
  {
   "cell_type": "code",
   "execution_count": 53,
   "metadata": {
    "collapsed": false
   },
   "outputs": [
    {
     "name": "stdout",
     "output_type": "stream",
     "text": [
      "P\n",
      "P\n",
      "a\n",
      "p\n",
      "a\n",
      " \n",
      "J\n",
      "o\n",
      "n\n",
      "e\n",
      "s\n",
      "s\n",
      "Pap\n",
      "Jones\n",
      "10\n"
     ]
    }
   ],
   "source": [
    "# 문자열은 리스트와 형제라고합니다! 무슨말인고 하니..\n",
    "\n",
    "favorite_pizza = \"Papa Jones\"\n",
    "print favorite_pizza[0]\n",
    "\n",
    "# 리스트이기 때문에, 이렇게 for 문 안에 넣을수도 있죠.\n",
    "for c in favorite_pizza:\n",
    "    print c\n",
    "    \n",
    "# 리스트는 이렇게 뒤에서부터 셀 수도, 중간값을 가져올 수도 있습니다.\n",
    "print favorite_pizza[-1]\n",
    "print favorite_pizza[0:3]  # [시작:끝]\n",
    "print favorite_pizza[5:10]\n",
    "\n",
    "# 총 갯수는 이렇게 센답니다..\n",
    "print len(favorite_pizza)  # 리스트와 문자열은 형제니까, 리스트의 갯수도 이렇게 셀 수 있겠죠!"
   ]
  },
  {
   "cell_type": "code",
   "execution_count": 54,
   "metadata": {
    "collapsed": false
   },
   "outputs": [],
   "source": [
    "# 연습해봅시다!\n",
    "\n",
    "# 주어진 문자열에서, 알파벳 'e'가 얼마나 들어가 있는지 세는 함수를 만들어보세요!\n",
    "\n",
    "def count_alphabet():\n",
    "    count = 0\n",
    "    Lyrics = \"Yesterday, all my troubles seem so far away\"\n",
    "    # ...\n",
    "    return count "
   ]
  },
  {
   "cell_type": "code",
   "execution_count": 55,
   "metadata": {
    "collapsed": false
   },
   "outputs": [],
   "source": [
    "# 연습해봅시다2!\n",
    "\n",
    "# 어떠한 문자열이 주어지던지, 그걸 두번씩 쓰는 함수를 만들어보세요!\n",
    "\n",
    "def double_alphabet(input):\n",
    "    result = \"\"\n",
    "    # ...\n",
    "    return result\n",
    "\n",
    "# 예상 결과\n",
    "# double_alphabet(\"hello!\") -> \"hheelllloo!!\""
   ]
  },
  {
   "cell_type": "markdown",
   "metadata": {},
   "source": [
    "## 문자열 포매팅(formatting) 하기"
   ]
  },
  {
   "cell_type": "code",
   "execution_count": 56,
   "metadata": {
    "collapsed": false
   },
   "outputs": [
    {
     "name": "stdout",
     "output_type": "stream",
     "text": [
      "나는 1개의 사과를 먹었습니다.\n",
      "나는 10개의 사과를 먹었습니다.\n",
      "나는 2개의 사과와, 1개의 수박과, 5개의 딸기를 먹었습니다. 귤도 먹었습니다.\n"
     ]
    }
   ],
   "source": [
    "# 문자열 중간에 다른 내용(숫자, 문자열..)을 넣고 싶다면?\n",
    "\n",
    "apple_mania = \"나는 {0}개의 사과를 먹었습니다.\"\n",
    "print apple_mania.format(1)\n",
    "print apple_mania.format(10)\n",
    "\n",
    "fruits_mania = \"나는 {0}개의 사과와, {1}개의 수박과, {2}개의 딸기를 먹었습니다. {3}도 먹었습니다.\"\n",
    "print fruits_mania.format(2, 1, 5, \"귤\")"
   ]
  },
  {
   "cell_type": "code",
   "execution_count": 57,
   "metadata": {
    "collapsed": false
   },
   "outputs": [],
   "source": [
    "# 연습해봅시다!\n",
    "\n",
    "# 1마리의 돼지가 꿀하고 웁니다.\n",
    "# 2마리의 돼지가 꿀꿀하고 웁니다.\n",
    "# 3마리의 돼지가 꿀꿀꿀하고 웁니다.\n",
    "# 4마리의 돼지가 꿀꿀꿀꿀하고 웁니다.\n",
    "# 5마리의 돼지가 꿀꿀꿀꿀꿀하고 웁니다.\n",
    "# 6마리의 돼지가 꿀꿀꿀꿀꿀꿀하고 웁니다.\n",
    "# 7마리의 돼지가 꿀꿀꿀꿀꿀꿀꿀하고 웁니다.\n",
    "# 8마리의 돼지가 꿀꿀꿀꿀꿀꿀꿀꿀하고 웁니다.\n",
    "# 9마리의 돼지가 꿀꿀꿀꿀꿀꿀꿀꿀꿀하고 웁니다.\n",
    "# 10마리의 돼지가 꿀꿀꿀꿀꿀꿀꿀꿀꿀꿀하고 웁니다.\n",
    "\n",
    "# format()과 for문을 이용해 위의 결과를 만들어보세요.\n",
    "\n"
   ]
  },
  {
   "cell_type": "markdown",
   "metadata": {},
   "source": [
    "## 문자열 관련 함수들"
   ]
  },
  {
   "cell_type": "code",
   "execution_count": null,
   "metadata": {
    "collapsed": true
   },
   "outputs": [],
   "source": []
  },
  {
   "cell_type": "markdown",
   "metadata": {},
   "source": [
    "## 입출력 (I/O)"
   ]
  },
  {
   "cell_type": "code",
   "execution_count": null,
   "metadata": {
    "collapsed": true
   },
   "outputs": [],
   "source": []
  }
 ],
 "metadata": {
  "kernelspec": {
   "display_name": "Python 2",
   "language": "python",
   "name": "python2"
  },
  "language_info": {
   "codemirror_mode": {
    "name": "ipython",
    "version": 2
   },
   "file_extension": ".py",
   "mimetype": "text/x-python",
   "name": "python",
   "nbconvert_exporter": "python",
   "pygments_lexer": "ipython2",
   "version": "2.7.10"
  }
 },
 "nbformat": 4,
 "nbformat_minor": 0
}

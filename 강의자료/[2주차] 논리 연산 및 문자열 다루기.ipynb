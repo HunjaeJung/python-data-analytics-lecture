{
 "cells": [
  {
   "cell_type": "markdown",
   "metadata": {},
   "source": [
    "# 2주차: 논리 연산 및 문자열 다루기"
   ]
  },
  {
   "cell_type": "markdown",
   "metadata": {},
   "source": [
    "## 저번 주 도전 과제의 해답"
   ]
  },
  {
   "cell_type": "code",
   "execution_count": 32,
   "metadata": {
    "collapsed": false
   },
   "outputs": [
    {
     "name": "stdout",
     "output_type": "stream",
     "text": [
      "2중 for문 방법:  10000\n",
      "if에서 in을 사용하는 방법:  10000\n"
     ]
    }
   ],
   "source": [
    "coffee_menu = [\n",
    "    {\n",
    "        \"name\": \"아메리카노\",\n",
    "        \"price\": 4000\n",
    "    },\n",
    "    {\n",
    "        \"name\": \"카페라떼\",\n",
    "        \"price\": 5000\n",
    "    },\n",
    "    {\n",
    "        \"name\": \"카페모카\",\n",
    "        \"price\": 6000\n",
    "    }\n",
    "]\n",
    "\n",
    "# for 문을 두 번 사용하는 방법.\n",
    "def calculate_total_price(coffees):\n",
    "    total_price = 0\n",
    "    \n",
    "    for menu in coffee_menu:\n",
    "        for target in coffees:\n",
    "            if menu['name'] == target:\n",
    "                total_price = total_price + menu['price']  # 이 부분운 += 단항 연산자로 고쳐쓸 수 있습니다.\n",
    "    \n",
    "    return total_price\n",
    "\n",
    "# Python 좀 하는 사람들이 사용하는 방법.\n",
    "# if 문에도 'in'을 사용할 수 있습니다.\n",
    "def calculate_total_price_using_in(coffees):\n",
    "    total_price = 0\n",
    "    \n",
    "    for menu in coffee_menu:\n",
    "        if menu['name'] in coffees:\n",
    "            total_price += menu['price']\n",
    "    \n",
    "    return total_price\n",
    "\n",
    "# 호출\n",
    "# 아메리카노가 4000원, 카페모카가 6000원이니 10000이 찍혀야 합니다.\n",
    "print \"2중 for문 방법: \", calculate_total_price([\"아메리카노\", \"카페모카\"]) \n",
    "print \"if에서 in을 사용하는 방법: \", calculate_total_price_using_in([\"아메리카노\", \"카페모카\"]) \n"
   ]
  },
  {
   "cell_type": "markdown",
   "metadata": {},
   "source": [
    "## 함수와 return"
   ]
  },
  {
   "cell_type": "markdown",
   "metadata": {},
   "source": [
    "## 반복문을 대신하는 함수의 재귀 호출"
   ]
  },
  {
   "cell_type": "markdown",
   "metadata": {},
   "source": [
    "## 재귀호출을 이용한 알고리즘 설계 (문제 해결)"
   ]
  },
  {
   "cell_type": "markdown",
   "metadata": {},
   "source": [
    "## 다항, 단항 연산자와 그 우선순위"
   ]
  },
  {
   "cell_type": "markdown",
   "metadata": {},
   "source": [
    "## List comprehesion"
   ]
  },
  {
   "cell_type": "code",
   "execution_count": 31,
   "metadata": {
    "collapsed": false
   },
   "outputs": [
    {
     "name": "stdout",
     "output_type": "stream",
     "text": [
      "10000\n"
     ]
    }
   ],
   "source": [
    "# 파이썬 초 고수들이 쓰는 방법: List comprehension\n",
    "print sum([menu['price'] if menu['name'] in [\"아메리카노\", \"카페모카\"] else 0 for menu in coffee_menu])"
   ]
  },
  {
   "cell_type": "markdown",
   "metadata": {},
   "source": [
    "## 파이참에서 디버깅 하는 방법"
   ]
  },
  {
   "cell_type": "markdown",
   "metadata": {},
   "source": [
    "### 디버깅이란?\n",
    "\n",
    "### 인터프리터?\n",
    "\n"
   ]
  },
  {
   "cell_type": "markdown",
   "metadata": {},
   "source": [
    "## 참과 거짓, 논리 연산"
   ]
  },
  {
   "cell_type": "code",
   "execution_count": 27,
   "metadata": {
    "collapsed": false
   },
   "outputs": [
    {
     "name": "stdout",
     "output_type": "stream",
     "text": [
      "True\n",
      "False\n",
      "참이다!\n",
      "거짓이다!\n"
     ]
    }
   ],
   "source": [
    "# 참과 거짓\n",
    "\n",
    "print 1 == 1\n",
    "print 1 == 2\n",
    "\n",
    "# if 문 안의 수식은 최종적으로 True 혹은 False로 바뀌어 평가되는 것이랍니다.\n",
    "if True:\n",
    "    print \"참이다!\"\n",
    "\n",
    "if False:\n",
    "    pass\n",
    "else:\n",
    "    print \"거짓이다!\""
   ]
  },
  {
   "cell_type": "code",
   "execution_count": 33,
   "metadata": {
    "collapsed": false
   },
   "outputs": [
    {
     "name": "stdout",
     "output_type": "stream",
     "text": [
      "False\n",
      "True\n",
      "거짓이 아닙니다.\n"
     ]
    }
   ],
   "source": [
    "# 'not'을 붙여 강제로 뒤집을 수도 있습니다.\n",
    "\n",
    "print not True\n",
    "print not False\n",
    "\n",
    "if not False:\n",
    "    print \"거짓이 아닙니다.\""
   ]
  },
  {
   "cell_type": "code",
   "execution_count": 54,
   "metadata": {
    "collapsed": false
   },
   "outputs": [
    {
     "name": "stdout",
     "output_type": "stream",
     "text": [
      "True\n",
      "False\n",
      "False\n",
      "False\n",
      "True\n",
      "True\n",
      "True\n",
      "False\n"
     ]
    }
   ],
   "source": [
    "# Python에서는 and(그리고), or(또는) 논리 연산이 가능합니다.\n",
    "# and는 말 그대로 '둘 다 참'이어야 최종적으로 '참'이 되는 연산\n",
    "# or는 말 그대로 '둘 중 하나만 참'이어도 최종적으로 '참'이 되는 연산\n",
    "\n",
    "print True and True\n",
    "print True and False\n",
    "print False and True\n",
    "print False and False\n",
    "\n",
    "print True or True\n",
    "print True or False\n",
    "print False or True\n",
    "print False or False"
   ]
  },
  {
   "cell_type": "code",
   "execution_count": 115,
   "metadata": {
    "collapsed": false
   },
   "outputs": [
    {
     "name": "stdout",
     "output_type": "stream",
     "text": [
      "B등급입니다.\n",
      "B등급입니다.\n"
     ]
    }
   ],
   "source": [
    "# 2중 if문은 'and'연산으로 대체할 수 있습니다.\n",
    "\n",
    "# 80~90점은 B등급.\n",
    "score = 85\n",
    "\n",
    "if score >= 80:\n",
    "    if score < 90:\n",
    "        print \"B등급입니다.\"\n",
    "        \n",
    "# and 연산으로 대체\n",
    "\n",
    "if score >= 80 and score < 90:\n",
    "    print \"B등급입니다.\""
   ]
  },
  {
   "cell_type": "code",
   "execution_count": 93,
   "metadata": {
    "collapsed": false
   },
   "outputs": [],
   "source": [
    "# 연습해봅시다: '오늘 여행을 갈 수 있는지 알아보는' 함수를 만들어봅시다.\n",
    "\n",
    "# is_weekday: 주중인지 아닌지\n",
    "# is_vacation: 휴가 기간인지 아닌지\n",
    "def can_travel(is_weekday, is_vacation):\n",
    "    # ...\n",
    "    return\n",
    "\n",
    "# 조건1. 주중과 주말 중, 우리는 주말에만 여행을 갈 수 있습니다.\n",
    "# 조건2. 주중이더라도 휴가 기간이면 우리는 여행을 갈 수 있습니다.\n",
    "\n",
    "# 예상 결과\n",
    "# can_travel(False, True) -> True\n",
    "# can_travel(True, False) -> False\n",
    "# can_travel(False, True) -> True\n"
   ]
  },
  {
   "cell_type": "markdown",
   "metadata": {},
   "source": [
    "## 문자열을 만드는 네 가지 방법"
   ]
  },
  {
   "cell_type": "code",
   "execution_count": 11,
   "metadata": {
    "collapsed": false
   },
   "outputs": [
    {
     "name": "stdout",
     "output_type": "stream",
     "text": [
      "\"사느냐 죽느냐\" 그것이 문제로다!\n",
      "'사느냐 죽느냐' 그것이 문제로다!\n",
      "\n",
      "사느냐 죽느냐\n",
      "그것이 문제로다!\n",
      "\n",
      "\n",
      "사느냐 죽느냐\n",
      "그것이 문제로다!\n",
      "\n"
     ]
    }
   ],
   "source": [
    "# 문자열은 '(홑따옴표), \"(쌍따옴표), ''' , \"\"\"를 이용해 선언할 수 있습니다.\n",
    "\n",
    "shakespeare = '\"사느냐 죽느냐\" 그것이 문제로다!'\n",
    "print shakespeare\n",
    "\n",
    "shakespeare = \"'사느냐 죽느냐' 그것이 문제로다!\"\n",
    "print shakespeare\n",
    "\n",
    "# 여러줄로 선언하기\n",
    "shakespeare = '''\n",
    "사느냐 죽느냐\n",
    "그것이 문제로다!\n",
    "'''\n",
    "print shakespeare\n",
    "\n",
    "shakespeare = \"\"\"\n",
    "사느냐 죽느냐\n",
    "그것이 문제로다!\n",
    "\"\"\"\n",
    "print shakespeare"
   ]
  },
  {
   "cell_type": "markdown",
   "metadata": {},
   "source": [
    "## 문자열은 리스트와 형제다!"
   ]
  },
  {
   "cell_type": "code",
   "execution_count": 104,
   "metadata": {
    "collapsed": false
   },
   "outputs": [
    {
     "name": "stdout",
     "output_type": "stream",
     "text": [
      "P\n",
      "P\n",
      "a\n",
      "p\n",
      "a\n",
      " \n",
      "J\n",
      "o\n",
      "n\n",
      "e\n",
      "s\n",
      "s\n",
      "Pap\n",
      "Jones\n",
      "10\n"
     ]
    }
   ],
   "source": [
    "# 문자열은 리스트와 형제라고합니다! 무슨말인고 하니..\n",
    "\n",
    "favorite_pizza = \"Papa Jones\"\n",
    "print favorite_pizza[0]\n",
    "\n",
    "# 리스트이기 때문에, 이렇게 for 문 안에 넣을수도 있죠.\n",
    "for c in favorite_pizza:\n",
    "    print c\n",
    "    \n",
    "# 리스트는 이렇게 뒤에서부터 셀 수도, 중간값을 가져올 수도 있습니다.\n",
    "print favorite_pizza[-1]\n",
    "print favorite_pizza[0:3]  # [시작:끝]\n",
    "print favorite_pizza[5:10]\n",
    "\n",
    "# 총 갯수는 이렇게 센답니다..\n",
    "print len(favorite_pizza)  # 리스트와 문자열은 형제니까, 리스트의 갯수도 이렇게 셀 수 있겠죠!"
   ]
  },
  {
   "cell_type": "code",
   "execution_count": 89,
   "metadata": {
    "collapsed": false
   },
   "outputs": [],
   "source": [
    "# 연습해봅시다!\n",
    "\n",
    "# 주어진 문자열에서, 알파벳 'e'가 얼마나 들어가 있는지 세는 함수를 만들어보세요!\n",
    "\n",
    "def count_alphabet():\n",
    "    count = 0\n",
    "    Lyrics = \"Yesterday, all my troubles seem so far away\"\n",
    "    # ...\n",
    "    return count "
   ]
  },
  {
   "cell_type": "code",
   "execution_count": 91,
   "metadata": {
    "collapsed": false
   },
   "outputs": [],
   "source": [
    "# 연습해봅시다2!\n",
    "\n",
    "# 어떠한 문자열이 주어지던지, 그걸 두번씩 쓰는 함수를 만들어보세요!\n",
    "\n",
    "def double_alphabet(input):\n",
    "    result = \"\"\n",
    "    # ...\n",
    "    return result\n",
    "\n",
    "# 예상 결과\n",
    "# double_alphabet(\"hello!\") -> \"hheelllloo!!\""
   ]
  },
  {
   "cell_type": "markdown",
   "metadata": {},
   "source": [
    "## 문자열 포매팅(formatting) 하기"
   ]
  },
  {
   "cell_type": "code",
   "execution_count": 101,
   "metadata": {
    "collapsed": false
   },
   "outputs": [
    {
     "name": "stdout",
     "output_type": "stream",
     "text": [
      "나는 1개의 사과를 먹었습니다.\n",
      "나는 10개의 사과를 먹었습니다.\n",
      "나는 2개의 사과와, 1개의 수박과, 5개의 딸기를 먹었습니다. 귤도 먹었습니다.\n"
     ]
    }
   ],
   "source": [
    "# 문자열 중간에 다른 내용(숫자, 문자열..)을 넣고 싶다면?\n",
    "\n",
    "apple_mania = \"나는 {0}개의 사과를 먹었습니다.\"\n",
    "print apple_mania.format(1)\n",
    "print apple_mania.format(10)\n",
    "\n",
    "fruits_mania = \"나는 {0}개의 사과와, {1}개의 수박과, {2}개의 딸기를 먹었습니다. {3}도 먹었습니다.\"\n",
    "print fruits_mania.format(2, 1, 5, \"귤\")"
   ]
  },
  {
   "cell_type": "code",
   "execution_count": 100,
   "metadata": {
    "collapsed": false
   },
   "outputs": [],
   "source": [
    "# 연습해봅시다!\n",
    "\n",
    "# 1마리의 돼지가 꿀하고 웁니다.\n",
    "# 2마리의 돼지가 꿀꿀하고 웁니다.\n",
    "# 3마리의 돼지가 꿀꿀꿀하고 웁니다.\n",
    "# 4마리의 돼지가 꿀꿀꿀꿀하고 웁니다.\n",
    "# 5마리의 돼지가 꿀꿀꿀꿀꿀하고 웁니다.\n",
    "# 6마리의 돼지가 꿀꿀꿀꿀꿀꿀하고 웁니다.\n",
    "# 7마리의 돼지가 꿀꿀꿀꿀꿀꿀꿀하고 웁니다.\n",
    "# 8마리의 돼지가 꿀꿀꿀꿀꿀꿀꿀꿀하고 웁니다.\n",
    "# 9마리의 돼지가 꿀꿀꿀꿀꿀꿀꿀꿀꿀하고 웁니다.\n",
    "# 10마리의 돼지가 꿀꿀꿀꿀꿀꿀꿀꿀꿀꿀하고 웁니다.\n",
    "\n",
    "# format()과 for문을 이용해 위의 결과를 만들어보세요.\n",
    "\n"
   ]
  },
  {
   "cell_type": "markdown",
   "metadata": {},
   "source": [
    "## 문자열 관련 함수들"
   ]
  },
  {
   "cell_type": "code",
   "execution_count": null,
   "metadata": {
    "collapsed": true
   },
   "outputs": [],
   "source": []
  },
  {
   "cell_type": "markdown",
   "metadata": {},
   "source": [
    "## 입출력 (I/O)"
   ]
  },
  {
   "cell_type": "code",
   "execution_count": null,
   "metadata": {
    "collapsed": true
   },
   "outputs": [],
   "source": []
  }
 ],
 "metadata": {
  "kernelspec": {
   "display_name": "Python 2",
   "language": "python",
   "name": "python2"
  },
  "language_info": {
   "codemirror_mode": {
    "name": "ipython",
    "version": 2
   },
   "file_extension": ".py",
   "mimetype": "text/x-python",
   "name": "python",
   "nbconvert_exporter": "python",
   "pygments_lexer": "ipython2",
   "version": "2.7.10"
  }
 },
 "nbformat": 4,
 "nbformat_minor": 0
}

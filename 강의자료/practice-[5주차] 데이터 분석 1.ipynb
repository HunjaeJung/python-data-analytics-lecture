{
 "cells": [
  {
   "cell_type": "markdown",
   "metadata": {},
   "source": [
    "# 5주차 데이터 분석 1\n",
    "---\n",
    "\n",
    "오늘부터는 파이썬을 활용한 데이터 분석을 시작합니다. 파이썬 데이터 분석에 가장 많이 활용되는 패키지 numpy와 pandas부터 배워봅시다.\n",
    "\n",
    "- numpy\n",
    "- pandas\n",
    "\n",
    "---"
   ]
  },
  {
   "cell_type": "markdown",
   "metadata": {},
   "source": [
    "## Numpy"
   ]
  },
  {
   "cell_type": "code",
   "execution_count": 91,
   "metadata": {
    "collapsed": true
   },
   "outputs": [],
   "source": [
    "import numpy as np"
   ]
  },
  {
   "cell_type": "code",
   "execution_count": 4,
   "metadata": {
    "collapsed": true
   },
   "outputs": [],
   "source": [
    "value = 'Test' if 1 == 1 else 'NoTest'"
   ]
  },
  {
   "cell_type": "code",
   "execution_count": 3,
   "metadata": {
    "collapsed": false
   },
   "outputs": [
    {
     "data": {
      "text/plain": [
       "'Test'"
      ]
     },
     "execution_count": 3,
     "metadata": {},
     "output_type": "execute_result"
    }
   ],
   "source": [
    "value"
   ]
  },
  {
   "cell_type": "code",
   "execution_count": 94,
   "metadata": {
    "collapsed": false
   },
   "outputs": [
    {
     "name": "stdout",
     "output_type": "stream",
     "text": [
      "[ -9.42048417e-01   1.36143832e+00   6.96927567e-02   4.70423926e-01\n",
      "  -1.07702346e+00   1.59274225e+00  -1.72486601e+00   6.00622300e-01\n",
      "   1.19527984e+00  -2.71875118e-01   7.72945915e-01   5.93349268e-01\n",
      "  -3.55120700e-01   1.09375021e-01  -7.09211986e-01   9.20964517e-01\n",
      "   8.08406065e-01   4.84378143e-01  -9.26712057e-01   2.88923356e-01\n",
      "   1.45903583e+00  -8.40510706e-01  -1.01619683e+00  -8.21289227e-01\n",
      "  -1.05696576e-03   9.11060962e-01  -9.19282364e-02   1.89958678e-01\n",
      "   6.70217542e-01   1.63270518e+00  -3.47183270e-01   4.31404206e-01\n",
      "  -1.74550101e+00   3.34539245e-02   5.46837523e-01  -7.92802702e-01\n",
      "  -1.49170935e+00  -1.50523146e+00  -7.81356926e-01   9.57462819e-01\n",
      "   1.01816412e+00   2.26623651e-01   7.88460203e-01   3.56342382e-01\n",
      "   4.34785565e-01  -3.57338269e-01   1.15419166e+00  -2.55845850e+00\n",
      "  -1.70644556e+00   2.83585071e-01  -6.15776351e-02  -1.64388236e+00\n",
      "   2.37600383e-01   1.89893289e+00   4.30627857e-01  -3.87886133e-01\n",
      "   1.92599910e+00   9.76533587e-01  -2.41022982e-01  -2.70461570e-01\n",
      "  -4.97076805e-01   4.69408734e-01  -4.28602740e-03  -2.97867526e-01\n",
      "   9.32399912e-02  -9.79306874e-01   8.44060924e-01  -1.75644999e+00\n",
      "  -9.67828170e-01   3.58304216e-01   4.67642823e-01  -6.97166123e-01\n",
      "   1.31779455e+00   8.48467260e-01   9.57638664e-01   1.93658607e+00\n",
      "  -2.68621794e-01   1.44818135e+00   3.01210639e-01   8.66421305e-01\n",
      "  -4.70112716e-01   8.22679838e-03  -2.54478863e-01   6.57153325e-01\n",
      "   1.17799025e+00  -2.04302576e+00  -8.81918897e-01  -1.31119154e+00\n",
      "  -1.54283514e+00   3.51096421e-01  -7.82844693e-01   1.01139061e+00\n",
      "  -2.27464732e+00  -1.09912784e+00  -2.22823541e-01  -2.14332570e+00\n",
      "  -6.66245790e-01  -2.92969289e-01   6.00161478e-01   3.51364064e-01]\n"
     ]
    }
   ],
   "source": [
    "# “standard normal” distribution\n",
    "from numpy.random import randn\n",
    "dataset1 = randn(100)\n",
    "print dataset1"
   ]
  },
  {
   "cell_type": "code",
   "execution_count": null,
   "metadata": {
    "collapsed": true
   },
   "outputs": [],
   "source": []
  },
  {
   "cell_type": "markdown",
   "metadata": {},
   "source": [
    "# Pandas\n",
    "\n",
    "- pandas란?\n",
    "    - .read_csv\n",
    "- Series\n",
    "- DataFrame\n",
    "    - .head()\n",
    "    - .tail()\n",
    "    - len(df)\n",
    "    - .info()\n",
    "    - .apply()\n",
    "    - .map({0: \"no\", 1:\"yes\"})"
   ]
  },
  {
   "cell_type": "markdown",
   "metadata": {},
   "source": [
    "## Series"
   ]
  },
  {
   "cell_type": "markdown",
   "metadata": {},
   "source": [
    "## DataFrame"
   ]
  },
  {
   "cell_type": "code",
   "execution_count": 37,
   "metadata": {
    "collapsed": true
   },
   "outputs": [],
   "source": [
    "import pandas\n",
    "from pandas import Series, DataFrame"
   ]
  },
  {
   "cell_type": "markdown",
   "metadata": {},
   "source": [
    "# axis\n",
    "\n",
    "- axis=0: down, apply a method down each colomn, or to the row labels (this index).\n",
    "- axis=1: across, apply a method down each row, or to the column labels."
   ]
  },
  {
   "cell_type": "code",
   "execution_count": 64,
   "metadata": {
    "collapsed": false
   },
   "outputs": [
    {
     "data": {
      "text/html": [
       "<div>\n",
       "<table border=\"1\" class=\"dataframe\">\n",
       "  <thead>\n",
       "    <tr style=\"text-align: right;\">\n",
       "      <th></th>\n",
       "      <th>col1</th>\n",
       "      <th>col2</th>\n",
       "      <th>col3</th>\n",
       "      <th>col4</th>\n",
       "    </tr>\n",
       "  </thead>\n",
       "  <tbody>\n",
       "    <tr>\n",
       "      <th>a</th>\n",
       "      <td>1</td>\n",
       "      <td>1</td>\n",
       "      <td>1</td>\n",
       "      <td>1</td>\n",
       "    </tr>\n",
       "    <tr>\n",
       "      <th>b</th>\n",
       "      <td>2</td>\n",
       "      <td>2</td>\n",
       "      <td>2</td>\n",
       "      <td>2</td>\n",
       "    </tr>\n",
       "    <tr>\n",
       "      <th>c</th>\n",
       "      <td>3</td>\n",
       "      <td>3</td>\n",
       "      <td>3</td>\n",
       "      <td>3</td>\n",
       "    </tr>\n",
       "  </tbody>\n",
       "</table>\n",
       "</div>"
      ],
      "text/plain": [
       "   col1  col2  col3  col4\n",
       "a     1     1     1     1\n",
       "b     2     2     2     2\n",
       "c     3     3     3     3"
      ]
     },
     "execution_count": 64,
     "metadata": {},
     "output_type": "execute_result"
    }
   ],
   "source": [
    "df = DataFrame([[1, 1, 1, 1], [2, 2, 2, 2], [3, 3, 3, 3]], columns=[\"col1\", \"col2\", \"col3\", \"col4\"], index=['a','b','c'])\n",
    "df"
   ]
  },
  {
   "cell_type": "code",
   "execution_count": 49,
   "metadata": {
    "collapsed": false
   },
   "outputs": [
    {
     "data": {
      "text/plain": [
       "0    1\n",
       "1    2\n",
       "2    3\n",
       "dtype: float64"
      ]
     },
     "execution_count": 49,
     "metadata": {},
     "output_type": "execute_result"
    }
   ],
   "source": [
    "# column 기준. axis=1\n",
    "df.mean(axis=1)"
   ]
  },
  {
   "cell_type": "code",
   "execution_count": 52,
   "metadata": {
    "collapsed": false
   },
   "outputs": [
    {
     "data": {
      "text/plain": [
       "col1    2\n",
       "col2    2\n",
       "col3    2\n",
       "col4    2\n",
       "dtype: float64"
      ]
     },
     "execution_count": 52,
     "metadata": {},
     "output_type": "execute_result"
    }
   ],
   "source": [
    "# 기본적으로 row(axis=0) 기준으로 설정되어 있습니다.\n",
    "df.mean()"
   ]
  },
  {
   "cell_type": "code",
   "execution_count": 72,
   "metadata": {
    "collapsed": false
   },
   "outputs": [
    {
     "data": {
      "text/html": [
       "<div>\n",
       "<table border=\"1\" class=\"dataframe\">\n",
       "  <thead>\n",
       "    <tr style=\"text-align: right;\">\n",
       "      <th></th>\n",
       "      <th>col1</th>\n",
       "      <th>col2</th>\n",
       "      <th>col3</th>\n",
       "    </tr>\n",
       "  </thead>\n",
       "  <tbody>\n",
       "    <tr>\n",
       "      <th>a</th>\n",
       "      <td>1</td>\n",
       "      <td>1</td>\n",
       "      <td>1</td>\n",
       "    </tr>\n",
       "    <tr>\n",
       "      <th>b</th>\n",
       "      <td>2</td>\n",
       "      <td>2</td>\n",
       "      <td>2</td>\n",
       "    </tr>\n",
       "    <tr>\n",
       "      <th>c</th>\n",
       "      <td>3</td>\n",
       "      <td>3</td>\n",
       "      <td>3</td>\n",
       "    </tr>\n",
       "  </tbody>\n",
       "</table>\n",
       "</div>"
      ],
      "text/plain": [
       "   col1  col2  col3\n",
       "a     1     1     1\n",
       "b     2     2     2\n",
       "c     3     3     3"
      ]
     },
     "execution_count": 72,
     "metadata": {},
     "output_type": "execute_result"
    }
   ],
   "source": [
    "# column 기준. axis=1\n",
    "df.drop(\"col4\", axis=1)"
   ]
  },
  {
   "cell_type": "code",
   "execution_count": 81,
   "metadata": {
    "collapsed": false
   },
   "outputs": [
    {
     "data": {
      "text/html": [
       "<div>\n",
       "<table border=\"1\" class=\"dataframe\">\n",
       "  <thead>\n",
       "    <tr style=\"text-align: right;\">\n",
       "      <th></th>\n",
       "      <th>col1</th>\n",
       "      <th>col2</th>\n",
       "      <th>col3</th>\n",
       "      <th>col4</th>\n",
       "    </tr>\n",
       "  </thead>\n",
       "  <tbody>\n",
       "    <tr>\n",
       "      <th>a</th>\n",
       "      <td>1</td>\n",
       "      <td>1</td>\n",
       "      <td>1</td>\n",
       "      <td>1</td>\n",
       "    </tr>\n",
       "  </tbody>\n",
       "</table>\n",
       "</div>"
      ],
      "text/plain": [
       "   col1  col2  col3  col4\n",
       "a     1     1     1     1"
      ]
     },
     "execution_count": 81,
     "metadata": {},
     "output_type": "execute_result"
    }
   ],
   "source": [
    "df.drop(df.index[[1,2]])"
   ]
  },
  {
   "cell_type": "markdown",
   "metadata": {},
   "source": [
    "## apply"
   ]
  },
  {
   "cell_type": "code",
   "execution_count": 5,
   "metadata": {
    "collapsed": true
   },
   "outputs": [],
   "source": [
    "def create_person(name, age, blood_type, skill):\n",
    "    person = {\n",
    "        'name': name,\n",
    "        'age': age,\n",
    "        'blood_type': blood_type,\n",
    "        'skill': skill\n",
    "    }\n",
    "    return person"
   ]
  },
  {
   "cell_type": "code",
   "execution_count": 8,
   "metadata": {
    "collapsed": false
   },
   "outputs": [
    {
     "name": "stdout",
     "output_type": "stream",
     "text": [
      "[{'skill': 'python', 'age': 15, 'name': 'hj', 'blood_type': 'A'}, {'skill': 'C', 'age': 25, 'name': 'hj1', 'blood_type': 'AB'}, {'skill': 'C', 'age': 35, 'name': 'hj2', 'blood_type': 'B'}, {'skill': 'python', 'age': 45, 'name': 'hj3', 'blood_type': 'A'}, {'skill': 'javascript', 'age': 55, 'name': 'hj4', 'blood_type': 'O'}]\n"
     ]
    }
   ],
   "source": [
    "people = []\n",
    "people.append(create_person(\"hj\", 15, 'A', 'python'))\n",
    "people.append(create_person(\"hj1\", 25, 'AB', 'C'))\n",
    "people.append(create_person(\"hj2\", 35, 'B', 'C'))\n",
    "people.append(create_person(\"hj3\", 45, 'A', 'python'))\n",
    "people.append(create_person(\"hj4\", 55, 'O', 'javascript'))\n",
    "print people"
   ]
  },
  {
   "cell_type": "code",
   "execution_count": 17,
   "metadata": {
    "collapsed": false
   },
   "outputs": [
    {
     "name": "stdout",
     "output_type": "stream",
     "text": [
      "  name  age blood_type       skill\n",
      "0   hj   15          A      python\n",
      "1  hj1   25         AB           C\n",
      "2  hj2   35          B           C\n",
      "3  hj3   45          A      python\n",
      "4  hj4   55          O  javascript\n"
     ]
    }
   ],
   "source": [
    "data = DataFrame(people, columns=['name', 'age', 'blood_type', 'skill'])\n",
    "print data"
   ]
  },
  {
   "cell_type": "code",
   "execution_count": 19,
   "metadata": {
    "collapsed": false
   },
   "outputs": [
    {
     "data": {
      "text/html": [
       "<div>\n",
       "<table border=\"1\" class=\"dataframe\">\n",
       "  <thead>\n",
       "    <tr style=\"text-align: right;\">\n",
       "      <th></th>\n",
       "      <th>age</th>\n",
       "      <th>skill</th>\n",
       "    </tr>\n",
       "  </thead>\n",
       "  <tbody>\n",
       "    <tr>\n",
       "      <th>0</th>\n",
       "      <td>15</td>\n",
       "      <td>python</td>\n",
       "    </tr>\n",
       "    <tr>\n",
       "      <th>1</th>\n",
       "      <td>25</td>\n",
       "      <td>C</td>\n",
       "    </tr>\n",
       "    <tr>\n",
       "      <th>2</th>\n",
       "      <td>35</td>\n",
       "      <td>C</td>\n",
       "    </tr>\n",
       "    <tr>\n",
       "      <th>3</th>\n",
       "      <td>45</td>\n",
       "      <td>python</td>\n",
       "    </tr>\n",
       "    <tr>\n",
       "      <th>4</th>\n",
       "      <td>55</td>\n",
       "      <td>javascript</td>\n",
       "    </tr>\n",
       "  </tbody>\n",
       "</table>\n",
       "</div>"
      ],
      "text/plain": [
       "   age       skill\n",
       "0   15      python\n",
       "1   25           C\n",
       "2   35           C\n",
       "3   45      python\n",
       "4   55  javascript"
      ]
     },
     "execution_count": 19,
     "metadata": {},
     "output_type": "execute_result"
    }
   ],
   "source": [
    "data[['age','skill']]"
   ]
  },
  {
   "cell_type": "code",
   "execution_count": 22,
   "metadata": {
    "collapsed": false
   },
   "outputs": [],
   "source": [
    "def set_position(characters):\n",
    "    age, skill = characters\n",
    "    if age > 30:\n",
    "        return 'manager'\n",
    "    else:\n",
    "        return skill + \" engineer\"\n",
    "    \n",
    "\n",
    "data['position'] = data[['age', 'skill']].apply(set_position, axis=1)"
   ]
  },
  {
   "cell_type": "code",
   "execution_count": 23,
   "metadata": {
    "collapsed": false
   },
   "outputs": [
    {
     "data": {
      "text/html": [
       "<div>\n",
       "<table border=\"1\" class=\"dataframe\">\n",
       "  <thead>\n",
       "    <tr style=\"text-align: right;\">\n",
       "      <th></th>\n",
       "      <th>name</th>\n",
       "      <th>age</th>\n",
       "      <th>blood_type</th>\n",
       "      <th>skill</th>\n",
       "      <th>position</th>\n",
       "    </tr>\n",
       "  </thead>\n",
       "  <tbody>\n",
       "    <tr>\n",
       "      <th>0</th>\n",
       "      <td>hj</td>\n",
       "      <td>15</td>\n",
       "      <td>A</td>\n",
       "      <td>python</td>\n",
       "      <td>python engineer</td>\n",
       "    </tr>\n",
       "    <tr>\n",
       "      <th>1</th>\n",
       "      <td>hj1</td>\n",
       "      <td>25</td>\n",
       "      <td>AB</td>\n",
       "      <td>C</td>\n",
       "      <td>C engineer</td>\n",
       "    </tr>\n",
       "    <tr>\n",
       "      <th>2</th>\n",
       "      <td>hj2</td>\n",
       "      <td>35</td>\n",
       "      <td>B</td>\n",
       "      <td>C</td>\n",
       "      <td>manager</td>\n",
       "    </tr>\n",
       "    <tr>\n",
       "      <th>3</th>\n",
       "      <td>hj3</td>\n",
       "      <td>45</td>\n",
       "      <td>A</td>\n",
       "      <td>python</td>\n",
       "      <td>manager</td>\n",
       "    </tr>\n",
       "    <tr>\n",
       "      <th>4</th>\n",
       "      <td>hj4</td>\n",
       "      <td>55</td>\n",
       "      <td>O</td>\n",
       "      <td>javascript</td>\n",
       "      <td>manager</td>\n",
       "    </tr>\n",
       "  </tbody>\n",
       "</table>\n",
       "</div>"
      ],
      "text/plain": [
       "  name  age blood_type       skill         position\n",
       "0   hj   15          A      python  python engineer\n",
       "1  hj1   25         AB           C       C engineer\n",
       "2  hj2   35          B           C          manager\n",
       "3  hj3   45          A      python          manager\n",
       "4  hj4   55          O  javascript          manager"
      ]
     },
     "execution_count": 23,
     "metadata": {},
     "output_type": "execute_result"
    }
   ],
   "source": [
    "data"
   ]
  },
  {
   "cell_type": "code",
   "execution_count": 89,
   "metadata": {
    "collapsed": false
   },
   "outputs": [
    {
     "data": {
      "text/plain": [
       "age                           175\n",
       "skill    pythonCCpythonjavascript\n",
       "dtype: object"
      ]
     },
     "execution_count": 89,
     "metadata": {},
     "output_type": "execute_result"
    }
   ],
   "source": [
    "# row에 apply\n",
    "data[['age', 'skill']].apply(np.sum)"
   ]
  }
 ],
 "metadata": {
  "kernelspec": {
   "display_name": "Python 2",
   "language": "python",
   "name": "python2"
  },
  "language_info": {
   "codemirror_mode": {
    "name": "ipython",
    "version": 2
   },
   "file_extension": ".py",
   "mimetype": "text/x-python",
   "name": "python",
   "nbconvert_exporter": "python",
   "pygments_lexer": "ipython2",
   "version": "2.7.9"
  }
 },
 "nbformat": 4,
 "nbformat_minor": 0
}

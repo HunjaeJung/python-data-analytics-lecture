{
 "cells": [
  {
   "cell_type": "markdown",
   "metadata": {},
   "source": [
    "# 1주차 배운 내용\n",
    "\n",
    "### 파이썬\n",
    " - print 'Hello, world!'\n",
    " - 변수와 자료형\n",
    " - if, for, def(함수)\n",
    " - 커피 메뉴 만들기\n",
    "     \n",
    "### 개발 환경\n",
    " - Python 2.7 설치\n",
    " - 파이참(PyCharm) 설치"
   ]
  },
  {
   "cell_type": "markdown",
   "metadata": {},
   "source": [
    "## Print 'Hello, world!'"
   ]
  },
  {
   "cell_type": "code",
   "execution_count": 7,
   "metadata": {
    "collapsed": false
   },
   "outputs": [
    {
     "name": "stdout",
     "output_type": "stream",
     "text": [
      "Hello, world!\n"
     ]
    }
   ],
   "source": [
    "print 'Hello, world!'"
   ]
  },
  {
   "cell_type": "code",
   "execution_count": 18,
   "metadata": {
    "collapsed": false
   },
   "outputs": [
    {
     "name": "stdout",
     "output_type": "stream",
     "text": [
      "Hello World!\n"
     ]
    }
   ],
   "source": [
    "# +로 문자열을 붙일 수도 있습니다. 영어로는 'concatenate'한다고 하죠.\n",
    "print 'Hello' + ' World!'"
   ]
  },
  {
   "cell_type": "code",
   "execution_count": 11,
   "metadata": {
    "collapsed": false
   },
   "outputs": [
    {
     "name": "stdout",
     "output_type": "stream",
     "text": [
      "Hello Korea!\n"
     ]
    }
   ],
   "source": [
    "# 이렇게 변수에 넣어 문자열을 붙일 수도 있습니다.\n",
    "country = \"Korea\"\n",
    "print 'Hello ' + country + '!'"
   ]
  },
  {
   "cell_type": "code",
   "execution_count": 3,
   "metadata": {
    "collapsed": false
   },
   "outputs": [
    {
     "name": "stdout",
     "output_type": "stream",
     "text": [
      "HelloHelloHello\n"
     ]
    }
   ],
   "source": [
    "# 문자열에 정수를 곱하면 문자열이 여러번 반복됩니다.\n",
    "print 'Hello' * 3"
   ]
  },
  {
   "cell_type": "code",
   "execution_count": 50,
   "metadata": {
    "collapsed": false
   },
   "outputs": [
    {
     "name": "stdout",
     "output_type": "stream",
     "text": [
      "Hello 3\n"
     ]
    }
   ],
   "source": [
    "# 문자열과 integer를 함께 쓰고 싶으면, str() 함수로 3을 '문자열 자료형'으로 바꿔주어야 합니다.\n",
    "print 'Hello ' + str(3)"
   ]
  },
  {
   "cell_type": "code",
   "execution_count": 6,
   "metadata": {
    "collapsed": false
   },
   "outputs": [
    {
     "ename": "TypeError",
     "evalue": "cannot concatenate 'str' and 'int' objects",
     "output_type": "error",
     "traceback": [
      "\u001b[0;31m---------------------------------------------------------------------------\u001b[0m",
      "\u001b[0;31mTypeError\u001b[0m                                 Traceback (most recent call last)",
      "\u001b[0;32m<ipython-input-6-e5c26ab3e471>\u001b[0m in \u001b[0;36m<module>\u001b[0;34m()\u001b[0m\n\u001b[1;32m      1\u001b[0m \u001b[0;31m# Error\u001b[0m\u001b[0;34m\u001b[0m\u001b[0;34m\u001b[0m\u001b[0m\n\u001b[0;32m----> 2\u001b[0;31m \u001b[0;32mprint\u001b[0m \u001b[0;34m'Hello '\u001b[0m \u001b[0;34m+\u001b[0m \u001b[0;36m3\u001b[0m\u001b[0;34m\u001b[0m\u001b[0m\n\u001b[0m",
      "\u001b[0;31mTypeError\u001b[0m: cannot concatenate 'str' and 'int' objects"
     ]
    }
   ],
   "source": [
    "# Error\n",
    "print 'Hello ' + 3"
   ]
  },
  {
   "cell_type": "markdown",
   "metadata": {},
   "source": [
    "## 변수와 자료형"
   ]
  },
  {
   "cell_type": "code",
   "execution_count": 25,
   "metadata": {
    "collapsed": false
   },
   "outputs": [],
   "source": [
    "# string\n",
    "text = \"문자열입니다.\"\n",
    "\n",
    "# integer\n",
    "number_1 = 12\n",
    "\n",
    "# float\n",
    "number_2 = 2.0\n",
    "\n",
    "# dictionary\n",
    "americano = {'price': 4000, 'name':'아메리카노'}\n",
    "caffe_mocha = {'price': 6000, 'name': '카페모카'}\n",
    "\n",
    "# list\n",
    "coffee_menu\n",
    "coffee_menu = [americano, caffe_mocha]"
   ]
  },
  {
   "cell_type": "code",
   "execution_count": 26,
   "metadata": {
    "collapsed": false
   },
   "outputs": [
    {
     "name": "stdout",
     "output_type": "stream",
     "text": [
      "[{'price': 4000, 'name': '\\xec\\x95\\x84\\xeb\\xa9\\x94\\xeb\\xa6\\xac\\xec\\xb9\\xb4\\xeb\\x85\\xb8'}, {'price': 6000, 'name': '\\xec\\xb9\\xb4\\xed\\x8e\\x98\\xeb\\xaa\\xa8\\xec\\xb9\\xb4'}]\n"
     ]
    }
   ],
   "source": [
    "print coffee_menu"
   ]
  },
  {
   "cell_type": "code",
   "execution_count": 48,
   "metadata": {
    "collapsed": false
   },
   "outputs": [
    {
     "name": "stdout",
     "output_type": "stream",
     "text": [
      "<type 'dict'>\n",
      "<type 'list'>\n",
      "<type 'int'>\n",
      "<type 'float'>\n",
      "<type 'str'>\n"
     ]
    }
   ],
   "source": [
    "# python 기본 내장 함수인 type()을 활용하면, 변수가 어떤 자료형인지 알 수 있습니다.\n",
    "print type(americano)\n",
    "print type(coffee_menu)\n",
    "print type(1)\n",
    "print type(2.0)\n",
    "print type('문자열')"
   ]
  },
  {
   "cell_type": "code",
   "execution_count": 49,
   "metadata": {
    "collapsed": false
   },
   "outputs": [
    {
     "name": "stdout",
     "output_type": "stream",
     "text": [
      "[1, 2, 3]\n"
     ]
    }
   ],
   "source": [
    "# list 자료형\n",
    "list_items = [1,2,3]\n",
    "print list_items"
   ]
  },
  {
   "cell_type": "code",
   "execution_count": 46,
   "metadata": {
    "collapsed": false
   },
   "outputs": [
    {
     "name": "stdout",
     "output_type": "stream",
     "text": [
      "[1, 2, 3, 4, 5]\n"
     ]
    }
   ],
   "source": [
    "# append로 아이템을 추가할 수 있습니다.\n",
    "list_items.append(4)\n",
    "list_items.append(5)\n",
    "print list_items"
   ]
  },
  {
   "cell_type": "code",
   "execution_count": 47,
   "metadata": {
    "collapsed": false
   },
   "outputs": [
    {
     "name": "stdout",
     "output_type": "stream",
     "text": [
      "[1, 2, 4, 5]\n"
     ]
    }
   ],
   "source": [
    "# del로 list의 아이템을 제거할 수 있습니다. 첫번째 아이템의 index는 0부터 시작합니다.\n",
    "del list_items[2]\n",
    "print list_items"
   ]
  },
  {
   "cell_type": "markdown",
   "metadata": {},
   "source": [
    "## if"
   ]
  },
  {
   "cell_type": "code",
   "execution_count": 53,
   "metadata": {
    "collapsed": false
   },
   "outputs": [
    {
     "name": "stdout",
     "output_type": "stream",
     "text": [
      "3 입니다.\n"
     ]
    }
   ],
   "source": [
    "variable = 3\n",
    "if variable == 3:\n",
    "    print '3 입니다.'\n",
    "else:\n",
    "    print '3이 아닙니다.'"
   ]
  },
  {
   "cell_type": "code",
   "execution_count": 59,
   "metadata": {
    "collapsed": false
   },
   "outputs": [
    {
     "name": "stdout",
     "output_type": "stream",
     "text": [
      "무조건 실행됩니다.\n"
     ]
    }
   ],
   "source": [
    "# 파이썬에는 boolean 자료형(True, False)도 있습니다!\n",
    "if True:\n",
    "    print '무조건 실행됩니다.'"
   ]
  },
  {
   "cell_type": "code",
   "execution_count": 61,
   "metadata": {
    "collapsed": true
   },
   "outputs": [],
   "source": [
    "if False:\n",
    "    print '무조건 실행안됩니다.'"
   ]
  },
  {
   "cell_type": "code",
   "execution_count": 65,
   "metadata": {
    "collapsed": false
   },
   "outputs": [
    {
     "name": "stdout",
     "output_type": "stream",
     "text": [
      "무조건 실행됩니다.\n"
     ]
    }
   ],
   "source": [
    "# not을 붙여서 not False => True로 만들 수 있습니다.\n",
    "if not False:\n",
    "    print '무조건 실행됩니다.'"
   ]
  },
  {
   "cell_type": "markdown",
   "metadata": {},
   "source": [
    "## for"
   ]
  },
  {
   "cell_type": "code",
   "execution_count": 71,
   "metadata": {
    "collapsed": false
   },
   "outputs": [
    {
     "name": "stdout",
     "output_type": "stream",
     "text": [
      "[1, 2, 3, 4, 5, 6, 7, 8, 9]\n"
     ]
    }
   ],
   "source": [
    "# 파이썬 기본 내장 함수(built-in function)인 range를 활용하면, list를 자동으로 생성할 수 있습니다.\n",
    "ran = range(1,10)\n",
    "print ran"
   ]
  },
  {
   "cell_type": "code",
   "execution_count": 72,
   "metadata": {
    "collapsed": false
   },
   "outputs": [
    {
     "data": {
      "text/plain": [
       "list"
      ]
     },
     "execution_count": 72,
     "metadata": {},
     "output_type": "execute_result"
    }
   ],
   "source": [
    "type(ran)"
   ]
  },
  {
   "cell_type": "code",
   "execution_count": 74,
   "metadata": {
    "collapsed": false
   },
   "outputs": [
    {
     "name": "stdout",
     "output_type": "stream",
     "text": [
      "[1, 3, 5, 7, 9, 11, 13, 15, 17, 19]\n"
     ]
    }
   ],
   "source": [
    "# 이렇게 3번째 parameter 설정을 통해, +2씩 되게 만들 수도 있습니다. \n",
    "print range(1,20,2)"
   ]
  },
  {
   "cell_type": "code",
   "execution_count": 56,
   "metadata": {
    "collapsed": false
   },
   "outputs": [
    {
     "name": "stdout",
     "output_type": "stream",
     "text": [
      "5050\n"
     ]
    }
   ],
   "source": [
    "sum = 0\n",
    "for i in range(1,101):\n",
    "    sum = sum + i\n",
    "print sum"
   ]
  },
  {
   "cell_type": "code",
   "execution_count": 75,
   "metadata": {
    "collapsed": false
   },
   "outputs": [
    {
     "name": "stdout",
     "output_type": "stream",
     "text": [
      "3628800\n"
     ]
    }
   ],
   "source": [
    "result = 1\n",
    "for i in range(1,11):\n",
    "    result = result * i\n",
    "print result"
   ]
  },
  {
   "cell_type": "code",
   "execution_count": 81,
   "metadata": {
    "collapsed": false
   },
   "outputs": [
    {
     "name": "stdout",
     "output_type": "stream",
     "text": [
      "->2016->파이썬->데이터->분석\n"
     ]
    }
   ],
   "source": [
    "# 문자열 list로 조금 응용을 해보면..\n",
    "result = \"\"\n",
    "for word in [\"2016\",\"파이썬\", \"데이터\", \"분석\"]:\n",
    "    result = result + \"->\" + word\n",
    "print result"
   ]
  },
  {
   "cell_type": "markdown",
   "metadata": {},
   "source": [
    "## def (함수)"
   ]
  },
  {
   "cell_type": "code",
   "execution_count": 87,
   "metadata": {
    "collapsed": false
   },
   "outputs": [
    {
     "name": "stdout",
     "output_type": "stream",
     "text": [
      "-1\n"
     ]
    }
   ],
   "source": [
    "def calculate(one, two, operator):\n",
    "    if operator == \"+\":\n",
    "        print one + two\n",
    "    elif operator == \"-\":\n",
    "        print one - two\n",
    "    else:\n",
    "        print \"정의되지 않은 연산입니다.\"\n",
    "\n",
    "calculate(4,5,\"-\")"
   ]
  },
  {
   "cell_type": "code",
   "execution_count": 88,
   "metadata": {
    "collapsed": false
   },
   "outputs": [
    {
     "name": "stdout",
     "output_type": "stream",
     "text": [
      "13\n"
     ]
    }
   ],
   "source": [
    "# x라는 입력을 넣으면 y = 2*x + 3 라는 출력을 내는 함수를 만들어봅시다.\n",
    "def function_1(input):\n",
    "    return 2*input + 3\n",
    "\n",
    "print function_1(5)"
   ]
  },
  {
   "cell_type": "code",
   "execution_count": 89,
   "metadata": {
    "collapsed": false
   },
   "outputs": [
    {
     "name": "stdout",
     "output_type": "stream",
     "text": [
      "아메리카노 5000\n"
     ]
    }
   ],
   "source": [
    "# 함수를 활용하여, 위의 coffee dictionary를 이렇게 만들 수도 있습니다.\n",
    "def create_coffee(name, price):\n",
    "    coffee = {}\n",
    "    coffee['name'] = name\n",
    "    coffee['price'] = price\n",
    "    return coffee\n",
    "\n",
    "americano = create_coffee(\"아메리카노\", 5000)\n",
    "print americano['name'], americano['price']"
   ]
  },
  {
   "cell_type": "markdown",
   "metadata": {},
   "source": [
    "## 커피 메뉴 만들기"
   ]
  },
  {
   "cell_type": "code",
   "execution_count": 91,
   "metadata": {
    "collapsed": true
   },
   "outputs": [],
   "source": [
    "# coffee_menu list 선언\n",
    "coffee_menu = []\n",
    "\n",
    "# 오늘 배운 함수를 이용하여, 이렇게 dictionary 객체를 만들 수도 있습니다.\n",
    "def create_coffee(name, price):\n",
    "    coffee = {}\n",
    "    coffee['name'] = name\n",
    "    coffee['price'] = price\n",
    "    return coffee\n",
    "\n",
    "# list에 append를 하면, \n",
    "coffee_menu.append(create_coffee(\"카페라떼\", 5000))\n",
    "coffee_menu.append(create_coffee(\"아메리카노\", 4000))\n",
    "coffee_menu.append(create_coffee(\"카페모카\", 6000))\n",
    "coffee_menu.append(create_coffee(\"프라프치노\", 7000))"
   ]
  },
  {
   "cell_type": "code",
   "execution_count": 92,
   "metadata": {
    "collapsed": false
   },
   "outputs": [
    {
     "name": "stdout",
     "output_type": "stream",
     "text": [
      "5000 카페라떼\n",
      "4000 아메리카노\n",
      "6000 카페모카\n",
      "7000 프라프치노\n"
     ]
    }
   ],
   "source": [
    "for coffee in coffee_menu:\n",
    "    print coffee['price'], coffee['name']"
   ]
  },
  {
   "cell_type": "code",
   "execution_count": 93,
   "metadata": {
    "collapsed": true
   },
   "outputs": [],
   "source": [
    "def get_coffee_price_under(price):\n",
    "    for coffee in coffee_menu:\n",
    "        if coffee['price'] < price:\n",
    "            print coffee['name']"
   ]
  },
  {
   "cell_type": "code",
   "execution_count": 97,
   "metadata": {
    "collapsed": false
   },
   "outputs": [
    {
     "name": "stdout",
     "output_type": "stream",
     "text": [
      "카페라떼\n",
      "아메리카노\n"
     ]
    }
   ],
   "source": [
    "get_coffee_price_under(5500)"
   ]
  },
  {
   "cell_type": "markdown",
   "metadata": {},
   "source": [
    "# 도전 과제\n",
    "\n",
    "함수의 입력으로 커피 이름을 list로 보내면, 출력으로 총 얼마인지를 리턴합니다."
   ]
  },
  {
   "cell_type": "code",
   "execution_count": 99,
   "metadata": {
    "collapsed": false
   },
   "outputs": [
    {
     "name": "stdout",
     "output_type": "stream",
     "text": [
      "0\n"
     ]
    }
   ],
   "source": [
    "def calculate_total_price(coffees):\n",
    "    total_price = 0\n",
    "    \n",
    "    # 여기에 코드를 적어주세요.\n",
    "    # for coffee in coffes:\n",
    "    #    ...\n",
    "    return total_price\n",
    "\n",
    "print calculate_total_price([\"아메리카노\", \"카페모카\"]) # 10000"
   ]
  }
 ],
 "metadata": {
  "kernelspec": {
   "display_name": "Python 2",
   "language": "python",
   "name": "python2"
  },
  "language_info": {
   "codemirror_mode": {
    "name": "ipython",
    "version": 2
   },
   "file_extension": ".py",
   "mimetype": "text/x-python",
   "name": "python",
   "nbconvert_exporter": "python",
   "pygments_lexer": "ipython2",
   "version": "2.7.9"
  }
 },
 "nbformat": 4,
 "nbformat_minor": 0
}

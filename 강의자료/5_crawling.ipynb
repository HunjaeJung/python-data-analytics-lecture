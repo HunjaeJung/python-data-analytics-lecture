{
 "cells": [
  {
   "cell_type": "markdown",
   "metadata": {},
   "source": [
    "# 5주차 데이터 수집 (크롤링)\n",
    "\n",
    "데이터를 수집하는 방법은 여러가지가 있습니다. csv(comma seperated values)나 엑셀과 같이 이미 정리된 [파일 형식으로 데이터](http://datalab.naver.com/)를 얻을 수도 있고, Database나 [API](https://developers.naver.com/products/login/api)를 통해 얻을수도 있지만, 오늘은 **웹 크롤링**을 통해 데이터를 수집하는 방법에 대해서 배워보겠습니다. Web crawling은 Web scraping라고도 말하는데, 위키피디아에 따르면 **'조직적이고 자동화된 방법으로 월드 와이드 웹을 탐색하는 방법’**이라고 나와있네요. HTML 파일을 긁어서 필요한 정보들만 뽑아 csv 파일로 저장하는 방법에 대해 배워보겠습니다.\n",
    "\n",
    "웹사이트 크롤링을 하기 위해선 **우선 웹사이트를 구성하고 있는 HTML, CSS**에 대한 기본적인 지식이 필요합니다."
   ]
  },
  {
   "cell_type": "markdown",
   "metadata": {},
   "source": [
    "## HTML과 CSS에 대한 기본 지식\n",
    "- [W3School](http://www.w3schools.com/html/)\n",
    "- [codeacademy](https://www.codecademy.com/learn/web)\n",
    "\n",
    "### 1. 파이참에서 index.html파일을 만들어봅시다.\n",
    "\n",
    "```html\n",
    "<!DOCTYPE html>\n",
    "<html lang=\"en\">\n",
    "<head>\n",
    "    <meta charset=\"UTF-8\">\n",
    "    <title>Title</title>\n",
    "</head>\n",
    "<body>\n",
    "\n",
    "</body>\n",
    "</html>\n",
    "```\n",
    "\n",
    "### 2. 바꿔봅시다!\n",
    "\n",
    "```html\n",
    "<!DOCTYPE html>\n",
    "<html>\n",
    "<head>\n",
    "    <meta charset=\"UTF-8\">\n",
    "    <title>파이썬 클래스</title>\n",
    "    <meta property=\"og:title\" content=\"페이스북이나 카톡 미리보기에서 보이는 제목입니다.\" />\n",
    "    <meta property=\"og:description\" content=\"og 설명\" />\n",
    "    <meta property=\"og:image\" content=\"og 이미지\" />\n",
    "    <style>\n",
    "        body {\n",
    "            background-color: #d0e4fe;\n",
    "        }\n",
    "\n",
    "        h1 {\n",
    "            color: orange;\n",
    "            text-align: center;\n",
    "        }\n",
    "\n",
    "        .desc-box {\n",
    "            text-align: center;\n",
    "        }\n",
    "\n",
    "        #desc-important {\n",
    "            color: blue;\n",
    "        }\n",
    "    </style>\n",
    "</head>\n",
    "<body>\n",
    "\n",
    "<h1>파이썬 2016 클래스입니다.</h1>\n",
    "\n",
    "<div class=\"desc-box\">\n",
    "    <p>오늘은 <b id=\"crawling\">크롤링</b>에 대해 배우고 있습니다.</p>\n",
    "\n",
    "    <div>\n",
    "        <img src=\"http://movement-as-medicine.com/wp-content/uploads/2014/01/baby-crawling.jpg\"/>\n",
    "    </div>\n",
    "\n",
    "    <span>크롤링에 대한 자세한 정의는 <a href=\"https://en.wikipedia.org/wiki/Web_crawler\">위키피디아</a>를 참고해보세요.</span>\n",
    "\n",
    "    <div class=\"desc-line first\">\n",
    "        <span>웹 크롤링을 하려면 html과 css에 대해 먼저 알아야 합니다.</span>\n",
    "        <a href=\"http://www.w3schools.com/html/\">w3school 페이지에서 HTML, CSS에 대해 알아볼 수 있어요</a>\n",
    "    </div>\n",
    "    <div class=\"desc-line second\">\n",
    "        <span><b id=\"desc-important\">Javascript</b>는 웹페이지를 동적으로 만들어주는 역할을 합니다.</span>\n",
    "    </div>\n",
    "</div>\n",
    "\n",
    "</body>\n",
    "</html>\n",
    "```\n",
    "\n",
    "1. 마우스 오른쪽 버튼 -> 검사\n",
    "2. 마우스 오른쪽 버튼 -> Copy -> CSS Selector\n",
    "3. body > div > div.desc-line.second\n",
    "\n",
    "### 3. style 태그 대신 style.css 파일에 정리해둘 수도 있습니다.\n",
    "`<head>`에 추가해주세요.\n",
    "\n",
    "```html\n",
    "<link rel=\"stylesheet\" href=\"style.css\">\n",
    "```\n",
    "\n"
   ]
  },
  {
   "cell_type": "markdown",
   "metadata": {},
   "source": [
    "## 오늘 수업에 필요한 패키지를 설치해주세요\n",
    "```\n",
    "> pip install beautifulsoup4\n",
    "> pip install requests\n",
    "> pip install numpy\n",
    "> pip install pandas\n",
    "```\n",
    "\n",
    "개발 도중 사용법에 대해 궁금한 것들이 있으면 Document를 참고해보세요.\n",
    "- [beautifulsoup4](http://coreapython.hosting.paran.com/etc/beautifulsoup4.html): HTML로 부터 데이터를 뽑아내기 위한 라이브러리입니다.\n",
    "- [requests](http://docs.python-requests.org/en/master/): requests.get을 통해 HTML을 받아올 수 있습니다.\n",
    "- [numpy](http://www.numpy.org/): numpy 패키지는 ndarray라는 파워풀한 자료구조를 지원하며, 각종 수치 컴퓨팅 관련 메소드를 지원합니다.\n",
    "- [pandas](http://pandas.pydata.org/): 데이터 분석 라이브러리입니다."
   ]
  },
  {
   "cell_type": "code",
   "execution_count": 117,
   "metadata": {
    "collapsed": true
   },
   "outputs": [],
   "source": [
    "# 뷰티플수프는 HTML에서 원하는 데이터를 쉽게 뽑아낼 수 있는 파이썬 라이브러리입니다.\n",
    "from bs4 import BeautifulSoup as bs"
   ]
  },
  {
   "cell_type": "code",
   "execution_count": 118,
   "metadata": {
    "collapsed": false
   },
   "outputs": [],
   "source": [
    "# 우리가 만든 index.html부터 살펴봅시다.\n",
    "soup = bs(open('./index.html'))"
   ]
  },
  {
   "cell_type": "code",
   "execution_count": 119,
   "metadata": {
    "collapsed": false
   },
   "outputs": [
    {
     "name": "stdout",
     "output_type": "stream",
     "text": [
      "<title>파이썬 클래스</title>\n",
      "title\n",
      "파이썬 클래스\n",
      "head\n",
      "<p>오늘은 <b id=\"crawling\">크롤링</b>에 대해 배우고 있습니다.</p>\n"
     ]
    }
   ],
   "source": [
    "# soup 객체로부터 쉽게 parsing된 데이터들을 받아올 수 있습니다.\n",
    "\n",
    "# title 태그를 받아옵니다.\n",
    "print soup.title\n",
    "\n",
    "# 태그 이름을 받아옵니다.\n",
    "print soup.title.name\n",
    "\n",
    "# 태그 내 문자열을 가져옵니다.\n",
    "print soup.title.text\n",
    "\n",
    "# 부모 태그를 가져옵니다.\n",
    "print soup.title.parent.name\n",
    "\n",
    "# p 태그를 가져옵니다.\n",
    "print soup.p"
   ]
  },
  {
   "cell_type": "code",
   "execution_count": 120,
   "metadata": {
    "collapsed": false
   },
   "outputs": [
    {
     "name": "stdout",
     "output_type": "stream",
     "text": [
      "[<a href=\"https://en.wikipedia.org/wiki/Web_crawler\">위키피디아</a>, <a href=\"http://www.w3schools.com/html/\">w3school 페이지에서 HTML, CSS에 대해 알아볼 수 있어요</a>]\n"
     ]
    }
   ],
   "source": [
    "# 모든 a 태그 가져오기\n",
    "print soup.find_all('a')"
   ]
  },
  {
   "cell_type": "code",
   "execution_count": 121,
   "metadata": {
    "collapsed": false
   },
   "outputs": [
    {
     "name": "stdout",
     "output_type": "stream",
     "text": [
      "[<div class=\"desc-box\">\n",
      "<p>오늘은 <b id=\"crawling\">크롤링</b>에 대해 배우고 있습니다.</p>\n",
      "<div>\n",
      "<img src=\"http://movement-as-medicine.com/wp-content/uploads/2014/01/baby-crawling.jpg\"/>\n",
      "</div>\n",
      "<span>크롤링에 대한 자세한 정의는 <a href=\"https://en.wikipedia.org/wiki/Web_crawler\">위키피디아</a>를 참고해보세요.</span>\n",
      "<div class=\"desc-line first\">\n",
      "<span>웹 크롤링을 하려면 html과 css에 대해 먼저 알아야 합니다.</span>\n",
      "<a href=\"http://www.w3schools.com/html/\">w3school 페이지에서 HTML, CSS에 대해 알아볼 수 있어요</a>\n",
      "</div>\n",
      "<div class=\"desc-line second\">\n",
      "<span><b id=\"desc-important\">Javascript</b>는 웹페이지를 동적으로 만들어주는 역할을 합니다.</span>\n",
      "</div>\n",
      "</div>]\n",
      "[<b id=\"desc-important\">Javascript</b>]\n",
      "[<span>웹 크롤링을 하려면 html과 css에 대해 먼저 알아야 합니다.</span>]\n",
      "[<a href=\"http://www.w3schools.com/html/\">w3school 페이지에서 HTML, CSS에 대해 알아볼 수 있어요</a>]\n",
      "[<div class=\"desc-line first\">\n",
      "<span>웹 크롤링을 하려면 html과 css에 대해 먼저 알아야 합니다.</span>\n",
      "<a href=\"http://www.w3schools.com/html/\">w3school 페이지에서 HTML, CSS에 대해 알아볼 수 있어요</a>\n",
      "</div>, <div class=\"desc-line second\">\n",
      "<span><b id=\"desc-important\">Javascript</b>는 웹페이지를 동적으로 만들어주는 역할을 합니다.</span>\n",
      "</div>]\n"
     ]
    }
   ],
   "source": [
    "# 클래스명으로 가져오기\n",
    "print soup.select('.desc-box')\n",
    "\n",
    "# id로 가져오기\n",
    "print soup.select('#desc-important')\n",
    "\n",
    "# CSS path로 가져오기\n",
    "print soup.select('body > div > div.desc-line.first > span')\n",
    "\n",
    "# 속성(attr)으로 가져오기\n",
    "print soup.findAll('a', {'href': 'http://www.w3schools.com/html/'})\n",
    "\n",
    "# 클래스명도 속성 중 하나이기 때문에 이런식으로 가져올 수 있습니다.\n",
    "print soup.findAll('div', {'class': 'desc-line'})"
   ]
  },
  {
   "cell_type": "code",
   "execution_count": 122,
   "metadata": {
    "collapsed": false
   },
   "outputs": [
    {
     "name": "stdout",
     "output_type": "stream",
     "text": [
      "\n",
      "Javascript는 웹페이지를 동적으로 만들어주는 역할을 합니다.\n",
      "\n",
      "{'href': 'https://en.wikipedia.org/wiki/Web_crawler'}\n",
      "https://en.wikipedia.org/wiki/Web_crawler\n",
      "{'src': 'http://movement-as-medicine.com/wp-content/uploads/2014/01/baby-crawling.jpg'}\n",
      "http://movement-as-medicine.com/wp-content/uploads/2014/01/baby-crawling.jpg\n"
     ]
    }
   ],
   "source": [
    "# 자, 이제 필요한 HTML 태그를 뽑는 것 까지 가능합니다. \n",
    "# 태그 안에 속성(src, href 등)이나 text를 뽑아내는 방법에 대해 알아봅시다. \n",
    "\n",
    "# text만 뽑아내기\n",
    "second_line = soup.select('.desc-line.second')\n",
    "print second_line[0].text\n",
    "\n",
    "# a 태그 href 뽑아내기\n",
    "a_tag = soup.select('body > div > span > a')\n",
    "print a_tag[0].attrs\n",
    "print a_tag[0]['href']\n",
    "\n",
    "# img 태그 src 뽑아내기\n",
    "image_tag = soup.select('img')\n",
    "print image_tag[0].attrs\n",
    "print image_tag[0]['src']"
   ]
  },
  {
   "cell_type": "markdown",
   "metadata": {},
   "source": [
    "이제 **beautifulsoup 기본기**는 닦은 것 같습니다. **requests** 라이브러리를 사용해 월드 와이드 웹 세상의 html을 받아옵시다."
   ]
  },
  {
   "cell_type": "code",
   "execution_count": 62,
   "metadata": {
    "collapsed": true
   },
   "outputs": [],
   "source": [
    "# pip를 통해 설치한 requests를 import합니다.\n",
    "import requests"
   ]
  },
  {
   "cell_type": "code",
   "execution_count": 123,
   "metadata": {
    "collapsed": false
   },
   "outputs": [
    {
     "name": "stdout",
     "output_type": "stream",
     "text": [
      "200\n"
     ]
    }
   ],
   "source": [
    "# 무료 이미지들을 크롤링해봅시다.\n",
    "res = requests.get('https://pixabay.com/en/')\n",
    "\n",
    "# dir()은 해당 객체의 사용 가능한 속성(attributes)를 list로 리턴해줍니다.\n",
    "# print dir(res) \n",
    "\n",
    "# HTTP 요청을 보내면 응답으로 Status Code가 오게 됩니다.\n",
    "# 200: 성공\n",
    "# 404: 페이지 없음\n",
    "# 500: 서버 오류\n",
    "# => https://ko.wikipedia.org/wiki/HTTP_%EC%83%81%ED%83%9C_%EC%BD%94%EB%93%9C\n",
    "\n",
    "# HTTP란 WWW에서 사용하는 약속(protocol)입니다. \n",
    "# 여러분들의 컴퓨터(클라이언트)와 네이버의 컴퓨터(서버)가 통신을 하는데 있어, \n",
    "# '어떤 메시지 형식으로 주고 받을 것이다.'하고 약속을 하고 0101..의 이진수를 주고 받는 것 이지요.\n",
    "# 이러한 약속을 미리 공유하고 있어야 메시지를 올바르게 해석할 수 있습니다.\n",
    "\n",
    "# 200번이면 성공적으로 잘 받아온겁니다.\n",
    "print res.status_code"
   ]
  },
  {
   "cell_type": "code",
   "execution_count": 125,
   "metadata": {
    "collapsed": false
   },
   "outputs": [],
   "source": [
    "# bs(open('./index.html')) 했던 것 처럼, index.html 자리에 res.text를 넣어줍니다.\n",
    "pixabay_html = bs(res.text)\n",
    "\n",
    "# 메인 페이지의 이미지를 받아서, 로컬 컴퓨터에 저장해보세요.\n",
    "# 이미지를 로컬 컴퓨터에 다운받으려면 urllib 라이브러리를 사용하면 됩니다.\n",
    "import urllib\n",
    "def download_image(img_src, filename):\n",
    "    res = urllib.urlretrieve(img_src, filename)\n",
    "    return res"
   ]
  },
  {
   "cell_type": "code",
   "execution_count": 126,
   "metadata": {
    "collapsed": true
   },
   "outputs": [],
   "source": [
    "def crawl_page(url, selector):\n",
    "    res = requests.get(url)\n",
    "\n",
    "    if res.status_code == 200:\n",
    "        soup = bs(res.text)\n",
    "        items = soup.select(selector)\n",
    "\n",
    "        return items"
   ]
  },
  {
   "cell_type": "markdown",
   "metadata": {},
   "source": [
    "## imdb에서 영화 정보 크롤링해보기\n",
    "\n",
    "타겟 URL: http://www.imdb.com/movies-coming-soon/2016-01/\n",
    "\n",
    "이곳에 들어가면 영화 제목, 장르, 평점, 감독, 배우 등의 정보가 있습니다. URL도 2015-01, 2015-02.. 이런식으로 바꿀 수 있습니다. 우선 2016-01 영화 정보를 함께 크롤링해봅시다."
   ]
  },
  {
   "cell_type": "code",
   "execution_count": 131,
   "metadata": {
    "collapsed": false
   },
   "outputs": [
    {
     "name": "stdout",
     "output_type": "stream",
     "text": [
      "2015-01 crawling..\n",
      "2015-02 crawling..\n",
      "2015-03 crawling..\n",
      "2015-04 crawling..\n",
      "2015-05 crawling..\n",
      "2015-06 crawling..\n",
      "2015-07 crawling..\n",
      "2015-08 crawling..\n",
      "2015-09 crawling..\n",
      "2015-10 crawling..\n",
      "2015-11 crawling..\n",
      "2015-12 crawling..\n"
     ]
    }
   ],
   "source": [
    "# 그러면 이제 2015-01부터 2015-12까지 영화정보를 긁어봅시다.\n",
    "target_url = 'http://www.imdb.com/movies-coming-soon/{0}'\n",
    "movie_total = []\n",
    "for i in range(1,13):\n",
    "    # string.zfill(2)을 사용해보세요. zero padding이 생깁니다.\n",
    "    print \"2015-\" + str(i).zfill(2) + \" crawling..\"\n",
    "    movie_total += movie_crawler(target_url.format(\"2015-\" + str(i).zfill(2)))"
   ]
  },
  {
   "cell_type": "code",
   "execution_count": 132,
   "metadata": {
    "collapsed": false
   },
   "outputs": [],
   "source": [
    "# page를 순회하며 계속해서 사용할 코드이므로, 함수로 만들어봅시다.\n",
    "def movie_crawler(url):\n",
    "    movies = crawl_page(url, '#main > div > div.list.detail > div')\n",
    "\n",
    "    # title, image, running_time, score, genre, directors, actors\n",
    "    table = []\n",
    "    for movie in movies:\n",
    "        row = []\n",
    "        # ... 여기 코드를 입력해주세요.\n",
    "        table.append(row)\n",
    "        \n",
    "    return table\n",
    "\n",
    "jan_2016 = movie_crawler('http://www.imdb.com/movies-coming-soon/2016-01')"
   ]
  },
  {
   "cell_type": "code",
   "execution_count": 133,
   "metadata": {
    "collapsed": false
   },
   "outputs": [],
   "source": [
    "# 2016-01 데이터도 추가해줍시다.\n",
    "movie_total += jan_2016"
   ]
  },
  {
   "cell_type": "code",
   "execution_count": 135,
   "metadata": {
    "collapsed": false
   },
   "outputs": [],
   "source": [
    "# 데이터를 확인합니다.\n",
    "# print len(movie_total)\n",
    "# print movie_total[0]"
   ]
  },
  {
   "cell_type": "code",
   "execution_count": 142,
   "metadata": {
    "collapsed": false
   },
   "outputs": [],
   "source": [
    "# csv 파일로 바꿔봅시다. \n",
    "import csv\n",
    "\n",
    "# https://docs.python.org/2/library/csv.html#csv.reader\n",
    "# qoutechar, qouting 옵션이 뭔지 직접 해봅시다.\n",
    "with open('sample.csv', 'wb') as csvfile:\n",
    "    writer = csv.writer(csvfile, delimiter=',',\n",
    "                            quotechar='|', quoting=csv.QUOTE_MINIMAL)\n",
    "    \n",
    "    writer.writerow(['Spam'] * 5 + ['Baked, Beans'])\n",
    "    writer.writerow(['Spam', 'Lovely, Spam', 'Wonderful Spam'])"
   ]
  },
  {
   "cell_type": "code",
   "execution_count": 143,
   "metadata": {
    "collapsed": true
   },
   "outputs": [],
   "source": [
    "# movie_total을 csv로 저장해봅시다."
   ]
  },
  {
   "cell_type": "code",
   "execution_count": 144,
   "metadata": {
    "collapsed": false
   },
   "outputs": [
    {
     "name": "stdout",
     "output_type": "stream",
     "text": [
      "['Spam', 'Spam', 'Spam', 'Spam', 'Spam', 'Baked, Beans']\n",
      "['Spam', 'Lovely, Spam', 'Wonderful Spam']\n"
     ]
    }
   ],
   "source": [
    "# 저장된 csv 파일을 읽고, print 찍어봅시다.\n",
    "with open('sample.csv', 'rb') as csvfile:\n",
    "    movie_reader = csv.reader(csvfile, delimiter=',', quotechar='|')\n",
    "    for row in movie_reader:\n",
    "        print row"
   ]
  },
  {
   "cell_type": "code",
   "execution_count": null,
   "metadata": {
    "collapsed": true
   },
   "outputs": [],
   "source": [
    "# 자, 이제 파이썬 데이터 분석툴 pandas 소개합니다.\n",
    "from pandas import DataFrame"
   ]
  },
  {
   "cell_type": "code",
   "execution_count": null,
   "metadata": {
    "collapsed": false
   },
   "outputs": [],
   "source": [
    "movie_df = DataFrame(movie_total, columns=['title', 'image', 'running time', 'score', 'genre', 'directors', 'actors'])"
   ]
  },
  {
   "cell_type": "code",
   "execution_count": null,
   "metadata": {
    "collapsed": false
   },
   "outputs": [],
   "source": [
    "movie_df"
   ]
  },
  {
   "cell_type": "code",
   "execution_count": null,
   "metadata": {
    "collapsed": false
   },
   "outputs": [],
   "source": [
    "# csv format으로 저장하기 (encoding utf-8)\n",
    "movie_df.to_csv('./movie_from_df.csv', encoding='utf-8', index=False)"
   ]
  },
  {
   "cell_type": "markdown",
   "metadata": {},
   "source": [
    "## 해보기\n",
    "\n",
    "url: http://www.imdb.com/search/name?birth_monthday=1-21&ref_=nm_ov_bth_monthday&refine=birth_monthday&start=51\n",
    "\n",
    "자신의 생일과 같은 사람들 영화관계자 200명을 DataFrame으로 옮겨보고, csv 파일로도 저장해봅시다. (row => name, image, job, major_work)"
   ]
  },
  {
   "cell_type": "markdown",
   "metadata": {},
   "source": [
    "# iPython notebook 설치하기\n",
    "\n",
    "numpy와 pandas는 파이썬 데이터 분석에 가장 많이 활용되는 패키지입니다. 앞으로 raw 데이터를 다루고 분석하는데 Pandas를 주로 사용하겠지만, Pandas는 numpy 자료구조에 dependency가 있습니다. numpy는 수치 연산에 강력한 ndarray 자료구조와 각종 메소드들을 지원합니다.\n",
    "\n",
    "pip를 사용하여 numpy, pandas, ipython 패키지를 설치해봅시다.\n",
    "\n",
    "```    \n",
    "pip install numpy\n",
    "\n",
    "pip install pandas\n",
    "\n",
    "pip install ipython[all]\n",
    "```\n",
    "\n",
    "참고: https://ipython.org/ipython-doc/2/install/install.html   \n",
    "\n",
    "안되시는 분들은 [hunjae.com:8989](hunjae.com:8989)에 접속해서 ipython notebook을 사용해주세요\n",
    "\n",
    "- ID: python2016\n",
    "- PW: python2016"
   ]
  },
  {
   "cell_type": "markdown",
   "metadata": {},
   "source": [
    "## Pandas 맛보기"
   ]
  },
  {
   "cell_type": "code",
   "execution_count": 145,
   "metadata": {
    "collapsed": true
   },
   "outputs": [],
   "source": [
    "# 데이터를 가져와봅시다.\n",
    "import pandas"
   ]
  },
  {
   "cell_type": "code",
   "execution_count": 146,
   "metadata": {
    "collapsed": true
   },
   "outputs": [],
   "source": [
    "# http://wiki.stat.ucla.edu/socr/index.php/SOCR_Data_MLB_HeightsWeights\n",
    "# 위 사이트에 들어가서 표를 긁어서 복사(ctrl+c, 맥에서는 cmd+c) 합니다.\n",
    "baseball_players = pandas.read_clipboard()"
   ]
  },
  {
   "cell_type": "code",
   "execution_count": 147,
   "metadata": {
    "collapsed": false
   },
   "outputs": [
    {
     "data": {
      "text/html": [
       "<div>\n",
       "<table border=\"1\" class=\"dataframe\">\n",
       "  <thead>\n",
       "    <tr style=\"text-align: right;\">\n",
       "      <th></th>\n",
       "      <th>Name</th>\n",
       "      <th>Team</th>\n",
       "      <th>Position</th>\n",
       "      <th>Height(inches)</th>\n",
       "      <th>Weight(pounds)</th>\n",
       "      <th>Age</th>\n",
       "    </tr>\n",
       "  </thead>\n",
       "  <tbody>\n",
       "    <tr>\n",
       "      <th>0</th>\n",
       "      <td>Adam_Donachie</td>\n",
       "      <td>BAL</td>\n",
       "      <td>Catcher</td>\n",
       "      <td>74</td>\n",
       "      <td>180</td>\n",
       "      <td>22.99</td>\n",
       "    </tr>\n",
       "    <tr>\n",
       "      <th>1</th>\n",
       "      <td>Paul_Bako</td>\n",
       "      <td>BAL</td>\n",
       "      <td>Catcher</td>\n",
       "      <td>74</td>\n",
       "      <td>215</td>\n",
       "      <td>34.69</td>\n",
       "    </tr>\n",
       "    <tr>\n",
       "      <th>2</th>\n",
       "      <td>Ramon_Hernandez</td>\n",
       "      <td>BAL</td>\n",
       "      <td>Catcher</td>\n",
       "      <td>72</td>\n",
       "      <td>210</td>\n",
       "      <td>30.78</td>\n",
       "    </tr>\n",
       "    <tr>\n",
       "      <th>3</th>\n",
       "      <td>Kevin_Millar</td>\n",
       "      <td>BAL</td>\n",
       "      <td>First_Baseman</td>\n",
       "      <td>72</td>\n",
       "      <td>210</td>\n",
       "      <td>35.43</td>\n",
       "    </tr>\n",
       "    <tr>\n",
       "      <th>4</th>\n",
       "      <td>Chris_Gomez</td>\n",
       "      <td>BAL</td>\n",
       "      <td>First_Baseman</td>\n",
       "      <td>73</td>\n",
       "      <td>188</td>\n",
       "      <td>35.71</td>\n",
       "    </tr>\n",
       "  </tbody>\n",
       "</table>\n",
       "</div>"
      ],
      "text/plain": [
       "              Name Team       Position  Height(inches)  Weight(pounds)    Age\n",
       "0    Adam_Donachie  BAL        Catcher              74             180  22.99\n",
       "1        Paul_Bako  BAL        Catcher              74             215  34.69\n",
       "2  Ramon_Hernandez  BAL        Catcher              72             210  30.78\n",
       "3     Kevin_Millar  BAL  First_Baseman              72             210  35.43\n",
       "4      Chris_Gomez  BAL  First_Baseman              73             188  35.71"
      ]
     },
     "execution_count": 147,
     "metadata": {},
     "output_type": "execute_result"
    }
   ],
   "source": [
    "# DataFrame의 head() 메소드를 활용해 잘 붙었는지 확인해볼까요? \n",
    "baseball_players.head()"
   ]
  },
  {
   "cell_type": "code",
   "execution_count": 148,
   "metadata": {
    "collapsed": true
   },
   "outputs": [],
   "source": [
    "# 긁어온 데이터를 csv로 저장해봅시다.\n",
    "baseball_players.to_csv('./baseball_player.csv', index=False)"
   ]
  },
  {
   "cell_type": "code",
   "execution_count": 200,
   "metadata": {
    "collapsed": true
   },
   "outputs": [],
   "source": [
    "# 저장한 .csv 데이터를 다시 읽어볼까요? 현재 폴더에 가서 잘 있는지 확인해봅시다.\n",
    "bp_data = pandas.read_csv('./baseball_player.csv')"
   ]
  },
  {
   "cell_type": "code",
   "execution_count": 201,
   "metadata": {
    "collapsed": false
   },
   "outputs": [
    {
     "data": {
      "text/html": [
       "<div>\n",
       "<table border=\"1\" class=\"dataframe\">\n",
       "  <thead>\n",
       "    <tr style=\"text-align: right;\">\n",
       "      <th></th>\n",
       "      <th>Name</th>\n",
       "      <th>Team</th>\n",
       "      <th>Position</th>\n",
       "      <th>Height(inches)</th>\n",
       "      <th>Weight(pounds)</th>\n",
       "      <th>Age</th>\n",
       "    </tr>\n",
       "  </thead>\n",
       "  <tbody>\n",
       "    <tr>\n",
       "      <th>0</th>\n",
       "      <td>Adam_Donachie</td>\n",
       "      <td>BAL</td>\n",
       "      <td>Catcher</td>\n",
       "      <td>74</td>\n",
       "      <td>180</td>\n",
       "      <td>22.99</td>\n",
       "    </tr>\n",
       "    <tr>\n",
       "      <th>1</th>\n",
       "      <td>Paul_Bako</td>\n",
       "      <td>BAL</td>\n",
       "      <td>Catcher</td>\n",
       "      <td>74</td>\n",
       "      <td>215</td>\n",
       "      <td>34.69</td>\n",
       "    </tr>\n",
       "    <tr>\n",
       "      <th>2</th>\n",
       "      <td>Ramon_Hernandez</td>\n",
       "      <td>BAL</td>\n",
       "      <td>Catcher</td>\n",
       "      <td>72</td>\n",
       "      <td>210</td>\n",
       "      <td>30.78</td>\n",
       "    </tr>\n",
       "    <tr>\n",
       "      <th>3</th>\n",
       "      <td>Kevin_Millar</td>\n",
       "      <td>BAL</td>\n",
       "      <td>First_Baseman</td>\n",
       "      <td>72</td>\n",
       "      <td>210</td>\n",
       "      <td>35.43</td>\n",
       "    </tr>\n",
       "    <tr>\n",
       "      <th>4</th>\n",
       "      <td>Chris_Gomez</td>\n",
       "      <td>BAL</td>\n",
       "      <td>First_Baseman</td>\n",
       "      <td>73</td>\n",
       "      <td>188</td>\n",
       "      <td>35.71</td>\n",
       "    </tr>\n",
       "  </tbody>\n",
       "</table>\n",
       "</div>"
      ],
      "text/plain": [
       "              Name Team       Position  Height(inches)  Weight(pounds)    Age\n",
       "0    Adam_Donachie  BAL        Catcher              74             180  22.99\n",
       "1        Paul_Bako  BAL        Catcher              74             215  34.69\n",
       "2  Ramon_Hernandez  BAL        Catcher              72             210  30.78\n",
       "3     Kevin_Millar  BAL  First_Baseman              72             210  35.43\n",
       "4      Chris_Gomez  BAL  First_Baseman              73             188  35.71"
      ]
     },
     "execution_count": 201,
     "metadata": {},
     "output_type": "execute_result"
    }
   ],
   "source": [
    "bp_data.head()"
   ]
  },
  {
   "cell_type": "code",
   "execution_count": 202,
   "metadata": {
    "collapsed": false
   },
   "outputs": [
    {
     "data": {
      "text/plain": [
       "Index([u'Name', u'Team', u'Position', u'Height(inches)', u'Weight(pounds)',\n",
       "       u'Age'],\n",
       "      dtype='object')"
      ]
     },
     "execution_count": 202,
     "metadata": {},
     "output_type": "execute_result"
    }
   ],
   "source": [
    "# Column들을 가져옵니다.\n",
    "bp_data.columns"
   ]
  },
  {
   "cell_type": "code",
   "execution_count": 211,
   "metadata": {
    "collapsed": false
   },
   "outputs": [],
   "source": [
    "# Column명을 바꾸려면 어떻게 해야할까요?\n",
    "bp_data.rename(columns={'Height(inches)':'Height', 'Weight(pounds)': 'Weight'}, inplace=True)"
   ]
  },
  {
   "cell_type": "code",
   "execution_count": 234,
   "metadata": {
    "collapsed": false
   },
   "outputs": [
    {
     "name": "stdout",
     "output_type": "stream",
     "text": [
      "Name        Paul_Bako\n",
      "Team              BAL\n",
      "Position      Catcher\n",
      "Height             74\n",
      "Weight            215\n",
      "Age             34.69\n",
      "Name: 1, dtype: object\n",
      "0    180\n",
      "1    215\n",
      "2    210\n",
      "3    210\n",
      "4    188\n",
      "Name: Weight, dtype: float64\n",
      "<class 'pandas.core.series.Series'>\n",
      "<class 'pandas.core.series.Series'>\n"
     ]
    }
   ],
   "source": [
    "# [row, column] index로 데이터를 고를수 도 있습니다.\n",
    "print bp_data.ix[1,:]\n",
    "print bp_data.ix[:,4].head()\n",
    "print type(bp_data.ix[:,1])\n",
    "print type(bp_data.ix[4,:])"
   ]
  },
  {
   "cell_type": "code",
   "execution_count": 241,
   "metadata": {
    "collapsed": false
   },
   "outputs": [
    {
     "data": {
      "text/plain": [
       "0    74\n",
       "1    74\n",
       "2    72\n",
       "3    72\n",
       "4    73\n",
       "Name: Height, dtype: int64"
      ]
     },
     "execution_count": 241,
     "metadata": {},
     "output_type": "execute_result"
    }
   ],
   "source": [
    "# Series는 index(label)와 value로 이루어져 있는 One-dimensional ndarray 입니다. \n",
    "heights = bp_data['Height']\n",
    "heights.head()"
   ]
  },
  {
   "cell_type": "code",
   "execution_count": 263,
   "metadata": {
    "collapsed": false
   },
   "outputs": [
    {
     "name": "stdout",
     "output_type": "stream",
     "text": [
      "Int64Index([   0,    1,    2,    3,    4,    5,    6,    7,    8,    9,\n",
      "            ...\n",
      "            1024, 1025, 1026, 1027, 1028, 1029, 1030, 1031, 1032, 1033],\n",
      "           dtype='int64', length=1034)\n",
      "[74 74 72 ..., 75 75 73]\n"
     ]
    }
   ],
   "source": [
    "# 이렇게 index도 받아올 수 있습니다.\n",
    "print heights.index\n",
    "\n",
    "# numpy ndarray 자료구조로 value들을 리턴합니다.\n",
    "print heights.values"
   ]
  },
  {
   "cell_type": "code",
   "execution_count": 268,
   "metadata": {
    "collapsed": false
   },
   "outputs": [
    {
     "data": {
      "text/plain": [
       "0    187.96\n",
       "1    187.96\n",
       "2    182.88\n",
       "3    182.88\n",
       "4    185.42\n",
       "5    175.26\n",
       "6    175.26\n",
       "7    180.34\n",
       "8    193.04\n",
       "9    180.34\n",
       "Name: Height, dtype: float64"
      ]
     },
     "execution_count": 268,
     "metadata": {},
     "output_type": "execute_result"
    }
   ],
   "source": [
    "# inch를 cm로 바꿔봅시다.\n",
    "inch_to_cm = 2.54\n",
    "heights[:10] * inch_to_cm"
   ]
  },
  {
   "cell_type": "code",
   "execution_count": 266,
   "metadata": {
    "collapsed": false
   },
   "outputs": [],
   "source": [
    "# 일단 Series 자료구조를 우리에게 익숙한 list로 바꿔봅시다.\n",
    "height_list = heights.tolist()"
   ]
  },
  {
   "cell_type": "code",
   "execution_count": 272,
   "metadata": {
    "collapsed": false
   },
   "outputs": [
    {
     "data": {
      "text/plain": [
       "[187.96000000000001,\n",
       " 187.96000000000001,\n",
       " 182.88,\n",
       " 182.88,\n",
       " 185.42000000000002,\n",
       " 175.25999999999999,\n",
       " 175.25999999999999,\n",
       " 180.34,\n",
       " 193.03999999999999,\n",
       " 180.34]"
      ]
     },
     "execution_count": 272,
     "metadata": {},
     "output_type": "execute_result"
    }
   ],
   "source": [
    "# 예전에 배웠던 list comprehension을 사용할 수 있겠죠!\n",
    "[i*inch_to_cm for i in height_list][:10]"
   ]
  },
  {
   "cell_type": "code",
   "execution_count": 163,
   "metadata": {
    "collapsed": false
   },
   "outputs": [
    {
     "data": {
      "text/plain": [
       "array([74, 74, 72, ..., 75, 75, 73])"
      ]
     },
     "execution_count": 163,
     "metadata": {},
     "output_type": "execute_result"
    }
   ],
   "source": [
    "np_heights = np.array(height_list)\n",
    "np_heights"
   ]
  },
  {
   "cell_type": "code",
   "execution_count": 164,
   "metadata": {
    "collapsed": false
   },
   "outputs": [
    {
     "data": {
      "text/plain": [
       "array([ 187.96,  187.96,  182.88, ...,  190.5 ,  190.5 ,  185.42])"
      ]
     },
     "execution_count": 164,
     "metadata": {},
     "output_type": "execute_result"
    }
   ],
   "source": [
    "cm_heights = np_heights*inch_to_cm\n",
    "cm_heights"
   ]
  },
  {
   "cell_type": "markdown",
   "metadata": {},
   "source": [
    "### 연습문제 1.\n",
    "\n",
    "야구선수들의 bmi(body mass index)를 구해봅시다. \n",
    "\n",
    "$$bmi = weight(kg) / height(m^2)$$"
   ]
  },
  {
   "cell_type": "code",
   "execution_count": 276,
   "metadata": {
    "collapsed": false
   },
   "outputs": [],
   "source": [
    "# 1. 일단 bp_data로 부터 weight를 가져오고, numpy ndarray로 만듭니다. pounds->kg으로 바꿔주세요.\n",
    "kg_weights = bp_data['Weight'].values*0.453592"
   ]
  },
  {
   "cell_type": "code",
   "execution_count": 281,
   "metadata": {
    "collapsed": true
   },
   "outputs": [],
   "source": [
    "# ndarray자료구조인 weight, height를 받아 bmi를 계산해서 리턴합니다. kg, m^2 단위 조심하세요!\n",
    "def cal_bmi(weight, height):\n",
    "    bmi = 0\n",
    "    # ...\n",
    "    bmi = weight/height**2\n",
    "    return bmi"
   ]
  },
  {
   "cell_type": "code",
   "execution_count": 282,
   "metadata": {
    "collapsed": true
   },
   "outputs": [],
   "source": [
    "m_heights = cm_heights*0.01"
   ]
  },
  {
   "cell_type": "code",
   "execution_count": 283,
   "metadata": {
    "collapsed": true
   },
   "outputs": [],
   "source": [
    "bmi = cal_bmi(kg_weights, m_heights)"
   ]
  },
  {
   "cell_type": "code",
   "execution_count": 284,
   "metadata": {
    "collapsed": false
   },
   "outputs": [
    {
     "data": {
      "text/plain": [
       "array([ 20.54255679,  20.54255679,  20.69282047,  20.69282047,\n",
       "        20.34343189,  20.34343189,  20.69282047,  20.15883472,\n",
       "        19.4984471 ,  20.69282047,  20.9205219 ])"
      ]
     },
     "execution_count": 284,
     "metadata": {},
     "output_type": "execute_result"
    }
   ],
   "source": [
    "# 몸무게 적게 나가는 야구선수 구하기\n",
    "bmi[bmi<21]"
   ]
  },
  {
   "cell_type": "markdown",
   "metadata": {},
   "source": [
    "list와 numpy ndarray가 뚜렷하게 차이나는 점.\n",
    "\n",
    "1. ndarray는 하나의 type만 넣을 수 있음.(type coercion)\n",
    "2. 기본 연산(+,*,-,+)이 다른 의미를 가짐"
   ]
  },
  {
   "cell_type": "code",
   "execution_count": 285,
   "metadata": {
    "collapsed": false
   },
   "outputs": [
    {
     "name": "stdout",
     "output_type": "stream",
     "text": [
      "[1, 2, 3, 4, 5, 6]\n",
      "[1, 2, 3, 1, 2, 3, 1, 2, 3]\n"
     ]
    }
   ],
   "source": [
    "print [1,2,3]+[4,5,6]\n",
    "print [1,2,3]*3"
   ]
  },
  {
   "cell_type": "code",
   "execution_count": 286,
   "metadata": {
    "collapsed": false
   },
   "outputs": [
    {
     "name": "stdout",
     "output_type": "stream",
     "text": [
      "[5 7 9]\n",
      "[3 6 9]\n"
     ]
    }
   ],
   "source": [
    "print np.array([1,2,3])+np.array([4,5,6])\n",
    "print np.array([1,2,3])*3"
   ]
  },
  {
   "cell_type": "markdown",
   "metadata": {},
   "source": [
    "## 2D Array (N-D Array)"
   ]
  },
  {
   "cell_type": "code",
   "execution_count": 287,
   "metadata": {
    "collapsed": false
   },
   "outputs": [],
   "source": [
    "# 일단 우리가 아는 list로 2D를 만들어봅시다.\n",
    "baseball = [[180, 78.4],\n",
    "            [215, 102.7],\n",
    "            [210, 98.5],\n",
    "            [188, 75.2]]"
   ]
  },
  {
   "cell_type": "code",
   "execution_count": 288,
   "metadata": {
    "collapsed": false
   },
   "outputs": [
    {
     "data": {
      "text/plain": [
       "array([[ 180. ,   78.4],\n",
       "       [ 215. ,  102.7],\n",
       "       [ 210. ,   98.5],\n",
       "       [ 188. ,   75.2]])"
      ]
     },
     "execution_count": 288,
     "metadata": {},
     "output_type": "execute_result"
    }
   ],
   "source": [
    "np_baseball = np.array(baseball)\n",
    "np_baseball"
   ]
  },
  {
   "cell_type": "code",
   "execution_count": 289,
   "metadata": {
    "collapsed": false
   },
   "outputs": [
    {
     "data": {
      "text/plain": [
       "(4, 2)"
      ]
     },
     "execution_count": 289,
     "metadata": {},
     "output_type": "execute_result"
    }
   ],
   "source": [
    "# shape는 몇행 몇열인지 알려줍니다.\n",
    "np_baseball.shape"
   ]
  },
  {
   "cell_type": "code",
   "execution_count": 175,
   "metadata": {
    "collapsed": true
   },
   "outputs": [],
   "source": [
    "# 위의 데이터를 가지고 첫번째 column은 height, 두번째 column은 weight인 2차 행렬을 만들어봅시다.\n",
    "baseball_player = np.array([kg_weights, m_heights])"
   ]
  },
  {
   "cell_type": "code",
   "execution_count": 176,
   "metadata": {
    "collapsed": false
   },
   "outputs": [
    {
     "data": {
      "text/plain": [
       "(2, 1034)"
      ]
     },
     "execution_count": 176,
     "metadata": {},
     "output_type": "execute_result"
    }
   ],
   "source": [
    "# 음? 이건 저희가 원하는게 아니죠\n",
    "baseball_player.shape"
   ]
  },
  {
   "cell_type": "code",
   "execution_count": 177,
   "metadata": {
    "collapsed": false
   },
   "outputs": [
    {
     "name": "stdout",
     "output_type": "stream",
     "text": [
      "[[ 81.64656  97.52228  95.25432 ...,  92.98636  86.18248  88.45044]\n",
      " [  1.8796    1.8796    1.8288  ...,   1.905     1.905     1.8542 ]]\n"
     ]
    }
   ],
   "source": [
    "print baseball_player"
   ]
  },
  {
   "cell_type": "code",
   "execution_count": 178,
   "metadata": {
    "collapsed": true
   },
   "outputs": [],
   "source": [
    "# ndarray는 Transpose 메소드를 지원합니다.\n",
    "baseball_player = baseball_player.T"
   ]
  },
  {
   "cell_type": "code",
   "execution_count": 179,
   "metadata": {
    "collapsed": false
   },
   "outputs": [
    {
     "data": {
      "text/plain": [
       "(1034, 2)"
      ]
     },
     "execution_count": 179,
     "metadata": {},
     "output_type": "execute_result"
    }
   ],
   "source": [
    "# 완성!\n",
    "baseball_player.shape"
   ]
  },
  {
   "cell_type": "code",
   "execution_count": 290,
   "metadata": {
    "collapsed": false
   },
   "outputs": [
    {
     "data": {
      "text/plain": [
       "1.8542000000000003"
      ]
     },
     "execution_count": 290,
     "metadata": {},
     "output_type": "execute_result"
    }
   ],
   "source": [
    "# subset을 구할땐, 행->열 순입니다. 5번째 선수의 키는 이렇게..\n",
    "baseball_player[4,1]"
   ]
  },
  {
   "cell_type": "code",
   "execution_count": 181,
   "metadata": {
    "collapsed": false
   },
   "outputs": [
    {
     "data": {
      "text/plain": [
       "array([ 1.8796,  1.8796,  1.8288, ...,  1.905 ,  1.905 ,  1.8542])"
      ]
     },
     "execution_count": 181,
     "metadata": {},
     "output_type": "execute_result"
    }
   ],
   "source": [
    "# 키만 가지고 오고 싶을땐 이렇게..\n",
    "baseball_player[:,1]"
   ]
  },
  {
   "cell_type": "code",
   "execution_count": 293,
   "metadata": {
    "collapsed": true
   },
   "outputs": [],
   "source": [
    "np_baseball_with_bmi = np.array([kg_weights, cm_heights, bmi]).T"
   ]
  },
  {
   "cell_type": "code",
   "execution_count": 294,
   "metadata": {
    "collapsed": false
   },
   "outputs": [
    {
     "data": {
      "text/plain": [
       "nan"
      ]
     },
     "execution_count": 294,
     "metadata": {},
     "output_type": "execute_result"
    }
   ],
   "source": [
    "# numpy가 지원하는 착한 메소드들.. r\n",
    "np.mean(np_baseball_with_bmi[:,0])"
   ]
  },
  {
   "cell_type": "code",
   "execution_count": 184,
   "metadata": {
    "collapsed": false
   },
   "outputs": [
    {
     "data": {
      "text/plain": [
       "array([False, False, False, ..., False, False, False], dtype=bool)"
      ]
     },
     "execution_count": 184,
     "metadata": {},
     "output_type": "execute_result"
    }
   ],
   "source": [
    "# 숫자가 아닌 녀석들을 찾을땐 np.isnan\n",
    "np.isnan(np_baseball_with_bmi[:,0])"
   ]
  },
  {
   "cell_type": "code",
   "execution_count": 185,
   "metadata": {
    "collapsed": false
   },
   "outputs": [
    {
     "data": {
      "text/plain": [
       "array([ True,  True,  True, ...,  True,  True,  True], dtype=bool)"
      ]
     },
     "execution_count": 185,
     "metadata": {},
     "output_type": "execute_result"
    }
   ],
   "source": [
    "# 숫자인 녀석들을 찾아야하므로 앞에 ~\n",
    "~np.isnan(np_baseball_with_bmi[:,0])"
   ]
  },
  {
   "cell_type": "code",
   "execution_count": 186,
   "metadata": {
    "collapsed": true
   },
   "outputs": [],
   "source": [
    "no_nan_data = np_baseball_with_bmi[~np.isnan(np_baseball_with_bmi[:,0])]"
   ]
  },
  {
   "cell_type": "code",
   "execution_count": 187,
   "metadata": {
    "collapsed": false
   },
   "outputs": [
    {
     "data": {
      "text/plain": [
       "91.484632371732815"
      ]
     },
     "execution_count": 187,
     "metadata": {},
     "output_type": "execute_result"
    }
   ],
   "source": [
    "np.mean(no_nan_data[:,0])"
   ]
  },
  {
   "cell_type": "code",
   "execution_count": 188,
   "metadata": {
    "collapsed": false
   },
   "outputs": [
    {
     "data": {
      "text/plain": [
       "90.718400000000003"
      ]
     },
     "execution_count": 188,
     "metadata": {},
     "output_type": "execute_result"
    }
   ],
   "source": [
    "np.median(no_nan_data[:,0])"
   ]
  },
  {
   "cell_type": "code",
   "execution_count": 189,
   "metadata": {
    "collapsed": false
   },
   "outputs": [
    {
     "data": {
      "text/plain": [
       "9.5169624670692663"
      ]
     },
     "execution_count": 189,
     "metadata": {},
     "output_type": "execute_result"
    }
   ],
   "source": [
    "np.std(no_nan_data[:,0])"
   ]
  },
  {
   "cell_type": "code",
   "execution_count": 190,
   "metadata": {
    "collapsed": false
   },
   "outputs": [
    {
     "data": {
      "text/plain": [
       "array([[ 1.        ,  0.53188586],\n",
       "       [ 0.53188586,  1.        ]])"
      ]
     },
     "execution_count": 190,
     "metadata": {},
     "output_type": "execute_result"
    }
   ],
   "source": [
    "np.corrcoef(no_nan_data[:,0], no_nan_data[:,1])"
   ]
  },
  {
   "cell_type": "code",
   "execution_count": 191,
   "metadata": {
    "collapsed": false
   },
   "outputs": [
    {
     "data": {
      "text/plain": [
       "array([[  81.64656   ,  187.96      ,   23.11037639],\n",
       "       [  97.52228   ,  187.96      ,   27.60406069],\n",
       "       [  95.25432   ,  182.88      ,   28.48080465],\n",
       "       ..., \n",
       "       [  92.98636   ,  190.5       ,   25.62295933],\n",
       "       [  86.18248   ,  190.5       ,   23.74810865],\n",
       "       [  88.45044   ,  185.42      ,   25.72686361]])"
      ]
     },
     "execution_count": 191,
     "metadata": {},
     "output_type": "execute_result"
    }
   ],
   "source": [
    "no_nan_data"
   ]
  },
  {
   "cell_type": "code",
   "execution_count": 192,
   "metadata": {
    "collapsed": true
   },
   "outputs": [],
   "source": [
    "import matplotlib as mpl\n",
    "import matplotlib.pyplot as plt\n",
    "%matplotlib inline"
   ]
  },
  {
   "cell_type": "code",
   "execution_count": 193,
   "metadata": {
    "collapsed": false
   },
   "outputs": [
    {
     "data": {
      "text/plain": [
       "(array([   9.,   71.,   89.,  318.,  175.,  263.,   84.,   14.,    7.,    3.]),\n",
       " array([ 170.18 ,  174.244,  178.308,  182.372,  186.436,  190.5  ,\n",
       "         194.564,  198.628,  202.692,  206.756,  210.82 ]),\n",
       " <a list of 10 Patch objects>)"
      ]
     },
     "execution_count": 193,
     "metadata": {},
     "output_type": "execute_result"
    },
    {
     "data": {
      "image/png": "[encoded data removed]",
      "text/plain": [
       "<matplotlib.figure.Figure at 0x10e1c8610>"
      ]
     },
     "metadata": {},
     "output_type": "display_data"
    }
   ],
   "source": [
    "# histogram 그리기\n",
    "# print plt.hist.__doc__\n",
    "plt.hist(no_nan_data[:,1], color='indianred', alpha=0.5)"
   ]
  }
 ],
 "metadata": {
  "kernelspec": {
   "display_name": "Python 2",
   "language": "python",
   "name": "python2"
  },
  "language_info": {
   "codemirror_mode": {
    "name": "ipython",
    "version": 2
   },
   "file_extension": ".py",
   "mimetype": "text/x-python",
   "name": "python",
   "nbconvert_exporter": "python",
   "pygments_lexer": "ipython2",
   "version": "2.7.9"
  }
 },
 "nbformat": 4,
 "nbformat_minor": 0
}

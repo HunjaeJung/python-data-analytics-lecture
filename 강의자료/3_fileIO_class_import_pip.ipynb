{
 "cells": [
  {
   "cell_type": "markdown",
   "metadata": {},
   "source": [
    "# 3주차: 파일 입출력, 클래스, 외부 모듈(pip) 사용"
   ]
  },
  {
   "cell_type": "markdown",
   "metadata": {},
   "source": [
    "## 입출력 (I/O)\n",
    "\n",
    "모든 프로그램은 결국 사용자의 입력을 받아 -> 처리 하고 -> 출력하는 과정을 거치는 것이라고 해도 과언이 아닐 것입니다.\n",
    "이를 프로그래밍에서는 입출력 (I/O, Input/Ouput) 이라고 부릅니다.\n",
    "\n",
    "#### Input\n",
    "컴퓨터(프로그램)가 사용자의 입력을 받는 수단은 무엇이 있을까요?\n",
    "\n",
    "1. 키보드를 통한 입력 (stdin, Standard Input)\n",
    "2. 파일 읽기\n",
    "3. 기타 등등 (스캐너, 마이크..)\n",
    "\n",
    "#### Output\n",
    "컴퓨터(프로그램)가 사용자에게 출력을 해주는 수단은 무엇이 있을까요?\n",
    "\n",
    "1. 모니터로 출력 (stdout, Standard Output)\n",
    "2. 파일 쓰기\n",
    "3. 기타 등등 (프린터, 스피커..)"
   ]
  },
  {
   "cell_type": "code",
   "execution_count": 1,
   "metadata": {
    "collapsed": false
   },
   "outputs": [
    {
     "name": "stdout",
     "output_type": "stream",
     "text": [
      "무엇이든 입력해주세요.안녕\n",
      "당신은 안녕라고 입력하셨습니다.\n",
      "1~10 숫자를 맞춰보세요! (남은 목숨: 3)5\n",
      "5보다 큽니다!\n",
      "1~10 숫자를 맞춰보세요! (남은 목숨: 2)8\n",
      "8보다 작습니다!\n",
      "1~10 숫자를 맞춰보세요! (남은 목숨: 1)7\n",
      "7! 정답입니다! 게임을 종료합니다.\n"
     ]
    }
   ],
   "source": [
    "# 먼저 키보드 입력부터 받아볼까요?\n",
    "user_input = raw_input(\"무엇이든 입력해주세요.\")\n",
    "print \"당신은 {0}라고 입력하셨습니다.\".format(user_input)\n",
    "\n",
    "# 입력을 받을 수 있게 되었기 때문에, 사용자 Interactive한 프로그램을 만들 수 있게 되었습니다.\n",
    "import random  # 곧 배울 '외부 모듈(패키지) 사용'입니다.\n",
    "\n",
    "def number_game():\n",
    "\n",
    "    life = 3\n",
    "    answer = random.randrange(1,11)  # 1~10의 랜덤값을 생성시킵니다.\n",
    "    \n",
    "    while life > 0:  # while은 처음 보시나요? 간략화된 for문이라고 생각하시면 됩니다. 안의 조건이 'True'인 경우에 계속해서 반복하게 되지요.\n",
    "        user_input = raw_input(\"1~10 숫자를 맞춰보세요! (남은 목숨: {0})\".format(life))\n",
    "        int_user_input = int(user_input)\n",
    "        if int_user_input == answer:\n",
    "            print \"{0}! 정답입니다! 게임을 종료합니다.\".format(int_user_input)\n",
    "            return  # 강제로 함수를 종료시킵니다.\n",
    "        elif int_user_input < answer:\n",
    "            life -= 1\n",
    "            print \"{0}보다 큽니다!\".format(int_user_input)\n",
    "        elif int_user_input > answer:\n",
    "            life -= 1\n",
    "            print \"{0}보다 작습니다!\".format(int_user_input)\n",
    "\n",
    "    print \"정답은 {0} 이었습니다. 아쉽군요.\".format(answer)\n",
    "    return\n",
    "\n",
    "number_game()"
   ]
  },
  {
   "cell_type": "code",
   "execution_count": 2,
   "metadata": {
    "collapsed": true
   },
   "outputs": [],
   "source": [
    "# 파일 I/O를 해봅시다.\n",
    "\n",
    "f = open(\"/Users/LyuGGang/Desktop/lecture/temporary.txt\", \"w\")  # 윈도우에서는 \"C:\\\\temproray.txt\"로 해보세요.\n",
    "f.close()\n",
    "\n",
    "# 파일이 생성 되었을 것입니다.\n",
    "# 뒤에 쓰인 \"파일 열기 모드\"에 따라서 다양한 방법으로 열게됩니다."
   ]
  },
  {
   "cell_type": "markdown",
   "metadata": {},
   "source": [
    "| 열기 모드 | 설명|\n",
    "|----------|--------|\n",
    "| \"r\"        | \"읽기 전용 모드\"       |\n",
    "| \"w\"        | \"쓰기 전용 모드, 파일이 있으면 덮어 쓰고, 없으면 새로 씀.\"     |\n",
    "| \"a\"        |   \"추가 전용 모드, 파일이 있으면 덧붙여 쓰고, 없으면 새로 씀.\"     |"
   ]
  },
  {
   "cell_type": "code",
   "execution_count": 3,
   "metadata": {
    "collapsed": true
   },
   "outputs": [],
   "source": [
    "# 또한 파일을 모두 사용한 이후에는 close()를 이용해 꼭 파일을 닫아주어야 합니다.\n",
    "# 그렇지 않으면 외부에서 사용할 수 없음!\n",
    "\n",
    "# 뭔가 써봅시다.\n",
    "f = open(\"/Users/LyuGGang/Desktop/lecture/temporary.txt\", \"w\")\n",
    "for i in range(1, 11):\n",
    "    data = \"여기는 {0}번 째 줄입니다.\\n\".format(i)  # \\n은 한 줄 띄우라는(개행) 의미입니다.\n",
    "    f.write(data)\n",
    "f.close()"
   ]
  },
  {
   "cell_type": "code",
   "execution_count": 4,
   "metadata": {
    "collapsed": false
   },
   "outputs": [
    {
     "name": "stdout",
     "output_type": "stream",
     "text": [
      "여기는 1번 째 줄입니다.\n",
      "\n",
      "여기는 2번 째 줄입니다.\n",
      "\n",
      "여기는 3번 째 줄입니다.\n",
      "\n",
      "여기는 4번 째 줄입니다.\n",
      "\n",
      "여기는 5번 째 줄입니다.\n",
      "\n",
      "여기는 6번 째 줄입니다.\n",
      "\n",
      "여기는 7번 째 줄입니다.\n",
      "\n",
      "여기는 8번 째 줄입니다.\n",
      "\n",
      "여기는 9번 째 줄입니다.\n",
      "\n",
      "여기는 10번 째 줄입니다.\n",
      "\n"
     ]
    }
   ],
   "source": [
    "# 파일을 직접 열어 한 번 확인해봅시다.\n",
    "\n",
    "# 쓴 파일을 한 번 읽어볼까요?\n",
    "# 파일은 한 줄 씩 읽는게 기본입니다.\n",
    "f = open(\"/Users/LyuGGang/Desktop/lecture/temporary.txt\", \"r\")\n",
    "while True:  # 무한 루프를 만듭니다.\n",
    "    line = f.readline()\n",
    "    if not line:  # 더 이상 내용이 없으면. ==> 끝까지 다 읽었으면\n",
    "        break  # while문을 빠져 나갑니다. break는 처음 들어보셨겠지만, while이나 for 같은 반복문을 임의로 빠져나갈 때 사용한답니다.\n",
    "    print line\n",
    "f.close()"
   ]
  },
  {
   "cell_type": "code",
   "execution_count": 5,
   "metadata": {
    "collapsed": false
   },
   "outputs": [
    {
     "name": "stdout",
     "output_type": "stream",
     "text": [
      "여기는 1번 째 줄입니다.\n",
      "여기는 2번 째 줄입니다.\n",
      "여기는 3번 째 줄입니다.\n",
      "여기는 4번 째 줄입니다.\n",
      "여기는 5번 째 줄입니다.\n",
      "여기는 6번 째 줄입니다.\n",
      "여기는 7번 째 줄입니다.\n",
      "여기는 8번 째 줄입니다.\n",
      "여기는 9번 째 줄입니다.\n",
      "여기는 10번 째 줄입니다.\n",
      "\n"
     ]
    }
   ],
   "source": [
    "# 사실 가장 쉽게 읽을 수도 있습니다.\n",
    "f = open(\"/Users/LyuGGang/Desktop/lecture/temporary.txt\", \"r\")\n",
    "all_data = f.read()\n",
    "print all_data\n",
    "f.close()\n",
    "\n",
    "# 그럼에도 불구하고 한 줄 씩 읽는 이유는, 개발자가 라인 by 라인으로 문자열을 처리하기 쉽게 하기 위함이지요.\n",
    "# 가령 줄 별로 \"이름\", \"나이\", \"직업\" 이 써있는 파일이라면, 전체를 다 읽으면 해당 내용을 Parsing 하기 힘들기 때문입니다."
   ]
  },
  {
   "cell_type": "code",
   "execution_count": 6,
   "metadata": {
    "collapsed": false
   },
   "outputs": [
    {
     "name": "stdout",
     "output_type": "stream",
     "text": [
      "{}\n"
     ]
    }
   ],
   "source": [
    "# 한 번 해봅시다\n",
    "\n",
    "# 파일을 열고 전체 소설에서 사용된 모든 단어와 각 단어가 몇 번 씩 사용되었는지를 딕셔너리 형태로 구한다.\n",
    "# 단어의 기준: 띄어쓰기\n",
    "\n",
    "# 샘플 파일\n",
    "# 위대한 개츠비 (영문 소설)\n",
    "# http://bit.ly/1PWzLUm\n",
    "# 파일 -> 다른 이름으로 저장..\n",
    "\n",
    "# 템플릿\n",
    "def get_words_count(file_path):\n",
    "    result = {}\n",
    "    f = open(file_path)\n",
    "    # ...\n",
    "    f.close()\n",
    "    return result\n",
    "\n",
    "\n",
    "# 예상 결과\n",
    "print get_words_count(\"./the_great_gatsby.txt\")\n",
    "# ==> {\"hello\": 1234, \"hi\": 252, \"bye\": 122, \"yo\": 53, \"good\": 10 ...}"
   ]
  },
  {
   "cell_type": "markdown",
   "metadata": {},
   "source": [
    "## Python 내장 함수 (Built-in Functions)\n",
    "\n",
    "여태까지 우리가 사용했던 print(), del(), type(), len(), sum()등을 'Python 내장 함수'라고 한답니다. 유용한 Python 내장 함수들이 어떤 것들이 있는지 알아봅시다."
   ]
  },
  {
   "cell_type": "code",
   "execution_count": 35,
   "metadata": {
    "collapsed": false
   },
   "outputs": [
    {
     "name": "stdout",
     "output_type": "stream",
     "text": [
      "3\n",
      "3\n",
      "True\n",
      "False\n",
      "False\n",
      "True\n",
      "True\n",
      "False\n",
      "(3, 1)\n",
      "(3, 1)\n",
      "0 lemon 3000\n",
      "1 grape 10000\n",
      "2 apple 2000\n",
      "7\n",
      "34\n",
      "5\n",
      "10\n",
      "['lemon', 'grape', 'apple']\n",
      "['s', 't', 'r', 'a', 'w', 'b', 'e', 'r', 'r', 'y']\n",
      "[2, 4, 6, 8, 10]\n",
      "[2, 4, 6, 8, 10]\n",
      "7\n",
      "1\n",
      "8\n",
      "8\n",
      "[1, 2, 3, 4, 5, 6, 7, 8, 9, 10]\n",
      "1\n",
      "2\n",
      "3\n",
      "1\n",
      "2\n",
      "3\n",
      "[1, 1, 2, 3, 3, 5, 5, 7, 8]\n",
      "[8, 7, 5, 5, 3, 3, 2, 1, 1]\n",
      "<type 'int'>\n",
      "<type 'list'>\n",
      "<type 'str'>\n",
      "<type 'function'>\n"
     ]
    }
   ],
   "source": [
    "# 절대값 구하기\n",
    "a = -3\n",
    "print abs(a)\n",
    "\n",
    "# abs()가 없었다면..\n",
    "if a < 0:\n",
    "    a *= -1\n",
    "print a\n",
    "\n",
    "#######################################\n",
    "# 리스트의 모든 것이 참인지 구하기 (리스트 AND)\n",
    "a = [1, 2, 3, True, 'a']\n",
    "b = [1, 2, 3, False, 'a']\n",
    "c = [False, None, {}]  # False, None(空), 빈 딕셔너리\n",
    "\n",
    "print all(a)\n",
    "print all(b)\n",
    "print all(c)\n",
    "\n",
    "#######################################\n",
    "# 리스트 중 하나라도 참이 있는지 구하기 (리스트 OR)\n",
    "print any(a)\n",
    "print any(b)\n",
    "print any(c)\n",
    "\n",
    "\n",
    "#######################################\n",
    "# 나누기의 몫과 참을 함게 구하기\n",
    "print divmod(10, 3)  # 결과값인 (,) 형태는 '튜플'이라고 불리움. 리스트와 동일하지만 한 번 선언되면 값을 바꾸거나 순서를 바꿀 수 없는 '상수' 타입.\n",
    "\n",
    "# divmod()가 없었다면..\n",
    "result = (10 / 3, 10 % 3)\n",
    "print result\n",
    "\n",
    "\n",
    "#######################################\n",
    "# 딕셔너리 for 문에서 그 순서도 같이 알고 싶다면..\n",
    "fruits = {\n",
    "    'grape': 10000,\n",
    "    'apple': 2000,\n",
    "    'lemon': 3000    \n",
    "}\n",
    "\n",
    "for i, key in enumerate(fruits):\n",
    "    print i, key, fruits[key]  # 순서, 키, 값을 동시에 출력함\n",
    "\n",
    "#######################################\n",
    "# 숫자<->문자열 치환하기\n",
    "a = \"3\"\n",
    "b = 4\n",
    "# print a + b  # 문자열과 숫자를 더하였기에 당연히 오류가 발생함\n",
    "print int(a) +  b\n",
    "print a + str(b)\n",
    "\n",
    "#######################################\n",
    "# 문자열이나 리스트 길이 재기\n",
    "a = [1, 2, 3, 4, 5]\n",
    "favorite_fruit = 'strawberry'\n",
    "print len(a)\n",
    "print len(favorite_fruit)\n",
    "\n",
    "\n",
    "#######################################\n",
    "# 다 리스트로 만들어버리기.\n",
    "print list(fruits)  # 딕셔너리의 key만 리스트화 함.\n",
    "print list(favorite_fruit)\n",
    "\n",
    "\n",
    "#######################################\n",
    "# 리스트를 돌면서 뭔가를 해보자. \n",
    "a = [1, 2, 3, 4, 5]\n",
    "\n",
    "def make_double(x):\n",
    "    return x*2\n",
    "\n",
    "print map(make_double, a)\n",
    "print [x * 2 for x in a]  # List comprehension이랑 비슷.\n",
    "\n",
    "#######################################\n",
    "# 리스트 중 최대/최소값은?\n",
    "a = [1, 5, 2, 3, 4, 7, 2]\n",
    "print max(a)\n",
    "print min(a)\n",
    "\n",
    "\n",
    "#######################################\n",
    "# 제곱값 구하기\n",
    "print pow(2, 3)\n",
    "print 2**3\n",
    "\n",
    "\n",
    "#######################################\n",
    "# 범위 구하기\n",
    "# for문에서 사용하던 range는 사실..\n",
    "print range(1, 11)  # 이렇게 원래 리스트로 리턴되던 것.\n",
    "\n",
    "# 결국 for .. in range()는 아래와 같음.\n",
    "for i in range(1, 4):\n",
    "    print i\n",
    "    \n",
    "for i in [1, 2, 3]:\n",
    "    print i\n",
    "\n",
    "    \n",
    "#######################################\n",
    "# 리스트 정렬(소팅) 하기\n",
    "a = [1, 5, 2, 3, 5, 7, 8, 1, 3]\n",
    "asc_sorted_a = sorted(a)\n",
    "desc_sorted_a = sorted(a, reverse=True)\n",
    "print asc_sorted_a\n",
    "print desc_sorted_a\n",
    "\n",
    "\n",
    "#######################################\n",
    "# 변수의 타입(자료형) 알기\n",
    "a = 1\n",
    "b = [1, 2, 3]\n",
    "c = \"hi\"\n",
    "def d():\n",
    "    print \"hello!\"\n",
    "\n",
    "print type(a)\n",
    "print type(b)\n",
    "print type(c)\n",
    "print type(d)\n",
    "\n"
   ]
  },
  {
   "cell_type": "markdown",
   "metadata": {},
   "source": [
    "## 클래스(Class)와 객체지향 프로그래밍\n",
    "\n",
    "- 우리는 여태까지 명령(프로그램)을 어떻게 논리적으로 작성(프로그래밍)하는지에 대한 공부를 해왔습니다. 그러나 이와 비슷하게 중요한 것은, 바로 컴퓨터 내부에 어떠한 정보 혹은 자료를 어떻게 취급할지에 대한 문제입니다.\n",
    "- 그래서 단순히 프로그래밍 문법 공부가 아닌, 약간의 '방법론' 적인 이야기를 해야합니다.\n",
    "- '객체'란 무엇일까요? 말 그대로 어떠한 '대상'을 의미하는 것이지요.\n",
    "- 예를 들어봅시다. 가령 우리가 '라디오'를 만든다고 생각해봅시다. 라디오는 크게 다음과 같은 기능들로 이루어져있습니다\n",
    "  1. 주파수 수신부\n",
    "  2. 수신한 주파수를 가청(사람이 들을 수 있는) 소리로 바꾸는 부\n",
    "  3. 소리를 재생해주는 부\n",
    "  4. 사용자가 주파수를 변경하는 조작(버튼)부\n",
    "  5. 사용자가 볼륨을 변경하는 조작(버튼)부\n",
    "- 객체 지향 프로그래밍에서는, 위의 역할을 각각 수행하는 각각의 레고 블록을 만들어 조립하는 방식으로 '라디오'를 만들 수 있습니다.\n",
    "- 가령 추후에 '시계' 블록을 만들어 이 라디오에 덧붙여 '시계 기능이 있는 라디오'를 만들 수도 있고,\n",
    "- 나중에 TV를 만들 때, 3번의 소리를 재생해주는 블록을 재사용할 수도 있게 될 것입니다.\n",
    "- 여기서 중요한 개념들이 몇 가지 등장합니다.\n",
    "  1. 우리는 블록을 만들기 전에 일종의 '금형', 그러니까 '빵틀'을 만드는 작업을 할 것입니다. 무슨 이야기인고 하니, '주파수 수신부' 블록을 직접 만드는게 아니라, 언제든지 '주파수 수신부' 블록을 찍어낼 수 있도록 빵틀을 만드는 작업을 할 것입니다.\n",
    "  2. 주파수 버튼과 볼륨 버튼 빵틀을 만들기 전에, 우리는 먼저 이 두가지의 공통 요소인 '버튼' 빵틀을 만들고, 이를 이용해 주파수 변경 버튼, 볼륨 변경 버튼 빵틀을 만들어 낼 수 있을 것입니다. (상속)\n",
    "  3. 우리는 만들어진 라디오가 내부적으로 어떻게 동작하는지 전혀 알 필요가 없습니다. 버튼만 잘 눌러지고, 소리만 잘 나오면 되니까요. 이와 비슷하게, '주파수 수신부' 블록도, 라디오를 만드는 사람 입장에서는 내부적으로 어떻게 동작하는지 알아야 할 필요가 전혀 없습니다. 그냥 요청한 주파수에 대해 수신된 전파만 잘 받아 return 해주면 되는 것이니까요. (추상화/캡슐화/인터페이스)\n",
    "  4. 결국 각각의 블록들은 어떠한 작동을 하고, 어떠한 상태를 가지고만 있는 기능별 '부품'이라고 생각하면 좋습니다.\n",
    "- 이 객체지향 프로그래밍에서, 각각의 빵틀을 '클래스(Class)', 빵틀로 찍어낸 블록을 '객체(Object)', 해당 블록이 하는 행위(함수)를 '메소드(Method)', 메소드 중에서도 이 블록을 사용하는 사람들이 꼭 사용해야해서 외부로 노출된 것(라디오로 치면 버튼)을 '인터페이스(Interface)'라고 한답니다.\n",
    "- 최대한 쉽게 풀어쓴다고는 해보았지만, 결국 패러다임에 대한 이야기이고 약간은 복잡해서 처음엔 바로 이해가 되지 않을 수도 있고, 지금 설명한 내용은 정말 빙산의 일각일 뿐입니다. 하지만 개발을 계속 하다보면 언젠가 이해하게 되는 날이 오게 될 것입니다!\n",
    "- 객체지향 프로그래밍에 대해 더 알고 싶으면 인터넷에 좋은 자료들이 많이 있으니 찾아보면 큰 도움이 될 것 같습니다.\n",
    "- 이제 Python의 Class를 통해 객체지향에 대한 이해를 한 층 높여봅시다!"
   ]
  },
  {
   "cell_type": "code",
   "execution_count": 76,
   "metadata": {
    "collapsed": false,
    "scrolled": true
   },
   "outputs": [
    {
     "name": "stdout",
     "output_type": "stream",
     "text": [
      "아이유\n",
      "23\n",
      "안녕하세요. 저는 아이유이고, 제가 하고 싶은 말은 반갑습니다!입니다.\n",
      "설현\n",
      "22\n",
      "안녕하세요. 저는 설현이고, 제가 하고 싶은 말은 야호!입니다.\n"
     ]
    }
   ],
   "source": [
    "# 사람 클래스(빵틀)를 만들어봅시다.\n",
    "class Person():  # class 이름은 첫 글자를 대문자로 쓰는게 컨벤션이랍니다.\n",
    "    \n",
    "    # 클래스 내부 멤버들..\n",
    "    # 사람에게는 이름과 나이라는 상태가 있지요.\n",
    "    name = \"\"\n",
    "    age = 0\n",
    "    \n",
    "    # 희안한 모양이죠? 생성자라고 객체에 존재하는 것입니다. 객체가 처음 생성될 때 해야할 일들을 함수로 만든 것입니다.\n",
    "    def __init__(self, name, age):  # 클래스의 모든 메소드에는 앞에 클래스 자기 자신을 가르키는 'self' 매개변수가 붙게됩니다.\n",
    "        self.name = name  # 클래스 내부의 무언가(멤버)에 접근하기 위해서는 self(나 자신을 가르키는)를 이용합니다.\n",
    "        self.age = age\n",
    "    \n",
    "    # 사람은 말을 하는 기능을 가지고 있습니다.\n",
    "    def talk(self, what_to_say):\n",
    "        print \"안녕하세요. 저는 {0}이고, 제가 하고 싶은 말은 {1}입니다.\".format(self.name, what_to_say)\n",
    "\n",
    "        \n",
    "# 사람이라는 빵틀을 이용해 아이유도 만들고..    \n",
    "iu = Person(\"아이유\", 23)\n",
    "print iu.name  # .을 이용해 객체 내부 멤버에 접근할 수 있습니다.\n",
    "print iu.age\n",
    "iu.talk(\"반갑습니다!\")\n",
    "\n",
    "# 사람이라는 빵틀을 이용해 설현도 만들고..\n",
    "sh = Person(\"설현\", 22)\n",
    "print sh.name\n",
    "print sh.age\n",
    "sh.talk(\"야호!\")\n"
   ]
  },
  {
   "cell_type": "markdown",
   "metadata": {},
   "source": [
    "## 모듈"
   ]
  },
  {
   "cell_type": "code",
   "execution_count": 2,
   "metadata": {
    "collapsed": false
   },
   "outputs": [
    {
     "ename": "ImportError",
     "evalue": "No module named util",
     "output_type": "error",
     "traceback": [
      "\u001b[0;31m---------------------------------------------------------------------------\u001b[0m",
      "\u001b[0;31mImportError\u001b[0m                               Traceback (most recent call last)",
      "\u001b[0;32m<ipython-input-2-b5dbee6b3b12>\u001b[0m in \u001b[0;36m<module>\u001b[0;34m()\u001b[0m\n\u001b[1;32m     14\u001b[0m \u001b[0;34m\u001b[0m\u001b[0m\n\u001b[1;32m     15\u001b[0m \u001b[0;31m# 그리고 원래 우리가 작업하던 main.py에서 다음과 같은 소스를 입력합니다.\u001b[0m\u001b[0;34m\u001b[0m\u001b[0;34m\u001b[0m\u001b[0m\n\u001b[0;32m---> 16\u001b[0;31m \u001b[0;32mimport\u001b[0m \u001b[0mutil\u001b[0m  \u001b[0;31m# .py는 제외하고 파일명을 입력합니다.\u001b[0m\u001b[0;34m\u001b[0m\u001b[0m\n\u001b[0m\u001b[1;32m     17\u001b[0m \u001b[0;32mprint\u001b[0m \u001b[0mutil\u001b[0m\u001b[0;34m.\u001b[0m\u001b[0msum_func\u001b[0m\u001b[0;34m(\u001b[0m\u001b[0;36m1\u001b[0m\u001b[0;34m,\u001b[0m \u001b[0;36m2\u001b[0m\u001b[0;34m,\u001b[0m \u001b[0;36m3\u001b[0m\u001b[0;34m)\u001b[0m\u001b[0;34m\u001b[0m\u001b[0m\n\u001b[1;32m     18\u001b[0m \u001b[0;32mprint\u001b[0m \u001b[0mutil\u001b[0m\u001b[0;34m.\u001b[0m\u001b[0mecho_func\u001b[0m\u001b[0;34m(\u001b[0m\u001b[0;34m\"Hello!\"\u001b[0m\u001b[0;34m)\u001b[0m\u001b[0;34m\u001b[0m\u001b[0m\n",
      "\u001b[0;31mImportError\u001b[0m: No module named util"
     ]
    }
   ],
   "source": [
    "# 모듈은 함수, 변수, 클래스 등등을 모아 놓은 것(파일). 이는 다른 파이썬 프로그램에서 불러와 사용할 수 있습니다.\n",
    "\n",
    "# 모듈 만들기\n",
    "# util.py를 만들고, 그 안에 다음과 같은 함수를 만들어봅시다.\n",
    "def sum_func(*args):\n",
    "    result = 0\n",
    "    for i in args:\n",
    "        if type(i) == int:\n",
    "            result += i\n",
    "    return result\n",
    "\n",
    "def echo_func(say):\n",
    "    return \"You said {0}\".format(say)\n",
    "\n",
    "# 그리고 원래 우리가 작업하던 main.py에서 다음과 같은 소스를 입력합니다.\n",
    "import util  # .py는 제외하고 파일명을 입력합니다.\n",
    "print util.sum_func(1, 2, 3)\n",
    "print util.echo_func(\"Hello!\")\n",
    "\n",
    "\n",
    "# \"util.\"을 생략하기 위해서는 다음과 같이 from .. import .. 문을 사용합니다.\n",
    "from util import sum_func, echo_func\n",
    "\n",
    "sum_func(4, 5, 6)  # 이 파일에서 선언한 것 처럼 사용할 수 있습니다!\n",
    "\n",
    "# from .. import *(아스테리크) 를 이용하면 해당 모듈에 있는 모든 것들을 바로 사용할 수 있습니다.\n",
    "\n",
    "# 모듈을 이용하면 조금 더 확장성 있는, 규모 있는 프로그램을 작성 할 수 있게 됩니다.\n",
    "# 큰 프로그램을 어떻게 모듈별로 나눌지는 개발을 하다 보면 감이 생기게 된답니다.       \n"
   ]
  },
  {
   "cell_type": "markdown",
   "metadata": {},
   "source": [
    "## Python 기본 라이브러리"
   ]
  },
  {
   "cell_type": "code",
   "execution_count": 64,
   "metadata": {
    "collapsed": false
   },
   "outputs": [
    {
     "name": "stdout",
     "output_type": "stream",
     "text": [
      "2016-01-21 00:59:50.259209\n",
      "2016-01-20 21:59:50.259209\n",
      "오늘은 2016년 01월 $d일(Thu) AM 12시 59분 50초 입니다. 오늘은 올해 중 03번째 주 입니다.\n",
      "3.14159265359\n",
      "1.0\n",
      "2.0\n",
      "8\n",
      "당신이 좋아하는 과일은 Starwberry입니다.\n",
      "[9, 3, 8, 1, 10, 6, 7, 4, 5, 2]\n",
      "{'melon': 10000, 'lemon': 5000, 'apple': 3000}\n",
      "OrderedDict([('apple', 3000), ('lemon', 5000), ('melon', 10000)])\n",
      "3000\n"
     ]
    },
    {
     "ename": "TypeError",
     "evalue": "list indices must be integers, not str",
     "output_type": "error",
     "traceback": [
      "\u001b[0;31m---------------------------------------------------------------------------\u001b[0m",
      "\u001b[0;31mTypeError\u001b[0m                                 Traceback (most recent call last)",
      "\u001b[0;32m<ipython-input-64-b1babd8084cb>\u001b[0m in \u001b[0;36m<module>\u001b[0;34m()\u001b[0m\n\u001b[1;32m     78\u001b[0m \u001b[0;31m# 결국 배열로 선언한거니까 당연히 순서가 보장되는거고, 굳이 OrderedDict()를 쓸 필요가 있나?\u001b[0m\u001b[0;34m\u001b[0m\u001b[0;34m\u001b[0m\u001b[0m\n\u001b[1;32m     79\u001b[0m \u001b[0mtemp\u001b[0m \u001b[0;34m=\u001b[0m \u001b[0;34m[\u001b[0m\u001b[0;34m(\u001b[0m\u001b[0;34m\"apple\"\u001b[0m\u001b[0;34m,\u001b[0m \u001b[0;36m3000\u001b[0m\u001b[0;34m)\u001b[0m\u001b[0;34m,\u001b[0m \u001b[0;34m(\u001b[0m\u001b[0;34m\"lemon\"\u001b[0m\u001b[0;34m,\u001b[0m \u001b[0;36m5000\u001b[0m\u001b[0;34m)\u001b[0m\u001b[0;34m,\u001b[0m \u001b[0;34m(\u001b[0m\u001b[0;34m\"melon\"\u001b[0m\u001b[0;34m,\u001b[0m \u001b[0;36m10000\u001b[0m\u001b[0;34m)\u001b[0m\u001b[0;34m]\u001b[0m\u001b[0;34m\u001b[0m\u001b[0m\n\u001b[0;32m---> 80\u001b[0;31m \u001b[0;32mprint\u001b[0m \u001b[0mtemp\u001b[0m\u001b[0;34m[\u001b[0m\u001b[0;34m\"apple\"\u001b[0m\u001b[0;34m]\u001b[0m  \u001b[0;31m# 딕셔너리 처럼 쓸 수가 없습니다.\u001b[0m\u001b[0;34m\u001b[0m\u001b[0m\n\u001b[0m",
      "\u001b[0;31mTypeError\u001b[0m: list indices must be integers, not str"
     ]
    }
   ],
   "source": [
    "# 위에서 배운 내장함수 외에도, 모듈 import를 통해 이용할 수 있는 파이썬 기본 라이브러리(Python Standard Library)들도 존재한답니다. \n",
    "# Python Documentation: https://docs.python.org/2/library/index.html에서도 확인 할 수 있습니다.\n",
    "# 그 중 유용하게 쓸 수 있는 것들을 정리해보았습니다.\n",
    "\n",
    "###########################################\n",
    "# datetime\n",
    "from datetime import datetime\n",
    "\n",
    "now = datetime.now()\n",
    "print now  # 현재 시각을 나타냅니다.\n",
    "\n",
    "from datetime import timedelta\n",
    "\n",
    "delta_three_hours_before = timedelta(hours=3)\n",
    "three_hours_before = now - delta_three_hours_before\n",
    "print three_hours_before  # timedelta를 이용하면 날짜, 시간 간의 덧셈, 뺄셈이 가능합니다.\n",
    "\n",
    "formatted_now = now.strftime(\"오늘은 %Y년 %m월 $d일(%a) %p %I시 %M분 %S초 입니다. 오늘은 올해 중 %U번째 주 입니다.\")\n",
    "print formatted_now\n",
    "\n",
    "# 해봅시다!\n",
    "# 오늘 날짜를 기준으로 n일 후가 며칠인지 알려주는 함수를 만들어봅시다. strftime()을 이용하여 예쁘게 표시해보세요.\n",
    "\n",
    "###########################################\n",
    "# math\n",
    "import math\n",
    "\n",
    "print math.pi  # 3.14...\n",
    "\n",
    "rad_45 = math.radians(90) # 90도에 해당하는 라디안 값을 구한 뒤\n",
    "print math.sin(rad_45)  # sin(90도)를 구할 수 있습니다.\n",
    "\n",
    "print math.log10(100)  # 상용로그 값 구하기\n",
    "\n",
    "\n",
    "###########################################\n",
    "# random\n",
    "# 임의의 난수를 만들어줍니다.\n",
    "\n",
    "import random\n",
    "\n",
    "print random.randrange(1, 11)  # 1~10중 아무 값이나 나타내기\n",
    "\n",
    "fruits = [\"Apple\", \"Lemon\", \"Starwberry\"]\n",
    "print \"당신이 좋아하는 과일은 {0}입니다.\".format(random.choice(fruits))\n",
    "\n",
    "numbers = [1, 2, 3, 4, 5, 6, 7, 8, 9, 10]\n",
    "random.shuffle(numbers)\n",
    "print numbers  # 리스트의 순서를 무작위로 뒤섞습니다.\n",
    "\n",
    "\n",
    "###########################################\n",
    "# OrderedDict\n",
    "\"\"\"\n",
    "순서가 보장된 딕셔너리입니다.\n",
    "\n",
    "기존에 우리가 사용하던 리스트와 다르게 딕셔너리는 순서가 보장되지 않습니다.\n",
    "그 이유는 컴퓨터에서 자료를 저장하는 구조 상, 딕셔너리는 가장 최적의 탐색 성능을 가지기 위해(쉽게 풀이하면, \"키\"가 주어졌을 때, 가장 빠르게 \"값\"을 찾아내기 위해)\n",
    "내부적으로 효율적인 저장 방식으로 순서를 지정하기 때문에 인위적으로 그 순서를 변경/보장 할 수는 없습니다.\n",
    "하지만 이러한 단점을 개선하기 위해 'Ordered Dictionary'라는 자료 구조가 존재하는데,\n",
    "이전에는 import를 배우지 않았기 때문에 사용하지 못했지만 이제는 가능하답니다!\n",
    "\"\"\"\n",
    "\n",
    "fruits = {\n",
    "    \"apple\": 3000,\n",
    "    \"lemon\": 5000,\n",
    "    \"melon\": 10000\n",
    "}\n",
    "\n",
    "print fruits  # 이렇게 순서가 내 마음대로 나오지 않는 것을 볼 수 있습니다.\n",
    "\n",
    "from collections import OrderedDict\n",
    "\n",
    "ordered_fruits = OrderedDict([(\"apple\", 3000), (\"lemon\", 5000), (\"melon\", 10000)])\n",
    "print ordered_fruits  # 이렇게 보면 이게 딕셔너리가 맞나? 싶지만\n",
    "print ordered_fruits[\"apple\"]  # 딕셔너리처럼 사용할 수 있답니다.\n",
    "\n",
    "# 결국 배열로 선언한거니까 당연히 순서가 보장되는거고, 굳이 OrderedDict()를 쓸 필요가 있나?\n",
    "temp = [(\"apple\", 3000), (\"lemon\", 5000), (\"melon\", 10000)]\n",
    "print temp[\"apple\"]  # 딕셔너리 처럼 쓸 수가 없습니다."
   ]
  },
  {
   "cell_type": "markdown",
   "metadata": {},
   "source": [
    "## 파이썬 패키지 활용 (PIP)\n",
    "\n",
    "파이썬에는 기본 라이브러리 외에도 많은 개발자들이 만들어놓은 수 많은 라이브러리들이 존재한답니다. 우리가 차후에 데이터 분석을 할 때에도, 이러한 데이터 분석용 라이브러리를 다운로드 받아 활용할 예정입니다. (https://pypi.python.org/ 에서 다른 파이썬 라이브러리들이 무엇이 있는지 목록들을 확인 할 수 있습니다.)\n",
    "\n",
    "### pip 설치하기\n",
    "\n",
    "외부 파이썬 라이브러리들을 이용하기 위해서는 pip라는 툴을 설치해야 합니다.\n",
    "\n",
    "#### 윈도우 혹은 맥이신 분!\n",
    "\n",
    "1. 다음의 링크에 접속한다: https://bootstrap.pypa.io/get-pip.py\n",
    "2. 마우스 오른쪽 -> 다른이름으로 저장. 위치는 파이참으로 작업하고 있는 main.py 파일이 있는 곳으로 한다.\n",
    "3. 파이참으로 돌아가, View -> Tools Windows -> Terminal (Alt+F12)를 누른다.\n",
    "4. 아래 검은 터미널 창이 뜨면, ```dir```(맥은 ```ls```)을 입력해 아까 다운로드 받은 ```get-pip.py```가 잘 있는지 확인하고, ```python get-pip.py```를 입력한다.\n",
    "5. 설치가 다 되면, 터미널에 ```pip --version```이라고 입력해 설치가 잘 되었는지 확인한다.\n",
    "\n",
    "#### 리눅스(우분투)이신 분!\n",
    "1. 터미널에서 ```sudo apt-get update``` 후에, ```sudo apt-get install python-pip python-dev build-essential```를 입력한다.\n"
   ]
  },
  {
   "cell_type": "markdown",
   "metadata": {},
   "source": [
    "### 메일 패키지를 이용해 메일 보내는 프로그램 만들어보기"
   ]
  },
  {
   "cell_type": "code",
   "execution_count": 66,
   "metadata": {
    "collapsed": false
   },
   "outputs": [
    {
     "ename": "AuthenticationError",
     "evalue": "",
     "output_type": "error",
     "traceback": [
      "\u001b[0;31m---------------------------------------------------------------------------\u001b[0m",
      "\u001b[0;31mAuthenticationError\u001b[0m                       Traceback (most recent call last)",
      "\u001b[0;32m<ipython-input-66-b38acc34ebf5>\u001b[0m in \u001b[0;36m<module>\u001b[0;34m()\u001b[0m\n\u001b[1;32m     10\u001b[0m \u001b[0;32mimport\u001b[0m \u001b[0mgmail\u001b[0m\u001b[0;34m\u001b[0m\u001b[0m\n\u001b[1;32m     11\u001b[0m \u001b[0;34m\u001b[0m\u001b[0m\n\u001b[0;32m---> 12\u001b[0;31m \u001b[0mg\u001b[0m \u001b[0;34m=\u001b[0m \u001b[0mgmail\u001b[0m\u001b[0;34m.\u001b[0m\u001b[0mlogin\u001b[0m\u001b[0;34m(\u001b[0m\u001b[0;34m\"python.data.rules\"\u001b[0m\u001b[0;34m,\u001b[0m \u001b[0;34m\"vkdlTJsrhdqn!\"\u001b[0m\u001b[0;34m)\u001b[0m\u001b[0;34m\u001b[0m\u001b[0m\n\u001b[0m\u001b[1;32m     13\u001b[0m \u001b[0;34m\u001b[0m\u001b[0m\n\u001b[1;32m     14\u001b[0m \u001b[0;34m\u001b[0m\u001b[0m\n",
      "\u001b[0;32m/Library/Python/2.7/site-packages/gmail/utils.pyc\u001b[0m in \u001b[0;36mlogin\u001b[0;34m(username, password)\u001b[0m\n\u001b[1;32m      5\u001b[0m \u001b[0;32mdef\u001b[0m \u001b[0mlogin\u001b[0m\u001b[0;34m(\u001b[0m\u001b[0musername\u001b[0m\u001b[0;34m,\u001b[0m \u001b[0mpassword\u001b[0m\u001b[0;34m)\u001b[0m\u001b[0;34m:\u001b[0m\u001b[0;34m\u001b[0m\u001b[0m\n\u001b[1;32m      6\u001b[0m     \u001b[0mgmail\u001b[0m \u001b[0;34m=\u001b[0m \u001b[0mGmail\u001b[0m\u001b[0;34m(\u001b[0m\u001b[0;34m)\u001b[0m\u001b[0;34m\u001b[0m\u001b[0m\n\u001b[0;32m----> 7\u001b[0;31m     \u001b[0mgmail\u001b[0m\u001b[0;34m.\u001b[0m\u001b[0mlogin\u001b[0m\u001b[0;34m(\u001b[0m\u001b[0musername\u001b[0m\u001b[0;34m,\u001b[0m \u001b[0mpassword\u001b[0m\u001b[0;34m)\u001b[0m\u001b[0;34m\u001b[0m\u001b[0m\n\u001b[0m\u001b[1;32m      8\u001b[0m     \u001b[0;32mreturn\u001b[0m \u001b[0mgmail\u001b[0m\u001b[0;34m\u001b[0m\u001b[0m\n\u001b[1;32m      9\u001b[0m \u001b[0;34m\u001b[0m\u001b[0m\n",
      "\u001b[0;32m/Library/Python/2.7/site-packages/gmail/gmail.pyc\u001b[0m in \u001b[0;36mlogin\u001b[0;34m(self, username, password)\u001b[0m\n\u001b[1;32m     98\u001b[0m                 \u001b[0mself\u001b[0m\u001b[0;34m.\u001b[0m\u001b[0mfetch_mailboxes\u001b[0m\u001b[0;34m(\u001b[0m\u001b[0;34m)\u001b[0m\u001b[0;34m\u001b[0m\u001b[0m\n\u001b[1;32m     99\u001b[0m         \u001b[0;32mexcept\u001b[0m \u001b[0mimaplib\u001b[0m\u001b[0;34m.\u001b[0m\u001b[0mIMAP4\u001b[0m\u001b[0;34m.\u001b[0m\u001b[0merror\u001b[0m\u001b[0;34m:\u001b[0m\u001b[0;34m\u001b[0m\u001b[0m\n\u001b[0;32m--> 100\u001b[0;31m             \u001b[0;32mraise\u001b[0m \u001b[0mAuthenticationError\u001b[0m\u001b[0;34m\u001b[0m\u001b[0m\n\u001b[0m\u001b[1;32m    101\u001b[0m \u001b[0;34m\u001b[0m\u001b[0m\n\u001b[1;32m    102\u001b[0m \u001b[0;34m\u001b[0m\u001b[0m\n",
      "\u001b[0;31mAuthenticationError\u001b[0m: "
     ]
    }
   ],
   "source": [
    "# 다들 gmail 계정 하나씩 있으시죠? pygmail 라이브러리를 이용해 메일을 한 번 보내보도록 합시다.\n",
    "# 자세한 라이브러리에 대한 설명은 아래 페이지를 참고하세요.\n",
    "# https://pypi.python.org/pypi/pygmail/0.0.5.2\n",
    "# https://github.com/charlierguo/gmail\n",
    "\n",
    "# 터미널에서 다음과 같이 입력합니다.\n",
    "# pip install pygmail (맥의 경우 sudo pip install pygmail)\n",
    "\n",
    "# main.py\n",
    "\n",
    "\n",
    "\n",
    "\n"
   ]
  },
  {
   "cell_type": "code",
   "execution_count": null,
   "metadata": {
    "collapsed": true
   },
   "outputs": [],
   "source": []
  }
 ],
 "metadata": {
  "kernelspec": {
   "display_name": "Python 2",
   "language": "python",
   "name": "python2"
  },
  "language_info": {
   "codemirror_mode": {
    "name": "ipython",
    "version": 2
   },
   "file_extension": ".py",
   "mimetype": "text/x-python",
   "name": "python",
   "nbconvert_exporter": "python",
   "pygments_lexer": "ipython2",
   "version": "2.7.10"
  }
 },
 "nbformat": 4,
 "nbformat_minor": 0
}

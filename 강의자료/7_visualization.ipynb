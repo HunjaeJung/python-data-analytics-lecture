{
 "cells": [
  {
   "cell_type": "markdown",
   "metadata": {},
   "source": [
    "## 6주차 Pandas 복습\n",
    "\n",
    "지난 시간 크롤링으로 긁어온 영화 데이터들을 가지고, 아래의 일들을 해봅시다. 크롤링 못하신 분들은 [링크](https://www.dropbox.com/s/xymrqvo34qbd2mr/movie_from_df.csv?dl=1)에서 다운 받아서 사용해주세요.\n",
    "\n",
    "\n",
    "1. score를 0~50, 50~70, 70~90, 90~100 range로 나누고, comment 컬럼에 bad, so so, good, fantastic을 넣어봅시다. \n",
    "2. 그래프로 그려봅시다.\n",
    "3. drama 장르인 영화들을 뽑아봅시다.\n",
    "4. Comedy이면서 러닝타임이 120분 이상인 것들을 골라봅시다.\n",
    "5. 러닝 타임이 120분 이상인 평가가 good인 Comedy를 골라봅시다."
   ]
  },
  {
   "cell_type": "code",
   "execution_count": 31,
   "metadata": {
    "collapsed": false
   },
   "outputs": [
    {
     "data": {
      "text/html": [
       "<div>\n",
       "<table border=\"1\" class=\"dataframe\">\n",
       "  <thead>\n",
       "    <tr style=\"text-align: right;\">\n",
       "      <th></th>\n",
       "      <th>title</th>\n",
       "      <th>scorr</th>\n",
       "      <th>genre</th>\n",
       "      <th>running time</th>\n",
       "      <th>actors</th>\n",
       "    </tr>\n",
       "  </thead>\n",
       "  <tbody>\n",
       "    <tr>\n",
       "      <th>0</th>\n",
       "      <td>The Woman in Black 2: Angel of Death (2014)</td>\n",
       "      <td>42</td>\n",
       "      <td>Drama/Horror/Thriller</td>\n",
       "      <td>98 min</td>\n",
       "      <td>Helen McCrory/Jeremy Irvine/Phoebe Fox/Leanne ...</td>\n",
       "    </tr>\n",
       "    <tr>\n",
       "      <th>1</th>\n",
       "      <td>A Most Violent Year (2014)</td>\n",
       "      <td>79</td>\n",
       "      <td>Action/Crime/Drama/Thriller</td>\n",
       "      <td>125 min</td>\n",
       "      <td>Oscar Isaac/Jessica Chastain/David Oyelowo/Ale...</td>\n",
       "    </tr>\n",
       "    <tr>\n",
       "      <th>2</th>\n",
       "      <td>Leviafan (2014)</td>\n",
       "      <td>92</td>\n",
       "      <td>Drama</td>\n",
       "      <td>140 min</td>\n",
       "      <td>Aleksey Serebryakov/Elena Lyadova/Roman Madyan...</td>\n",
       "    </tr>\n",
       "    <tr>\n",
       "      <th>3</th>\n",
       "      <td>[REC] 4: Apocalipsis (2014)</td>\n",
       "      <td>53</td>\n",
       "      <td>Action/Horror/Thriller</td>\n",
       "      <td>95 min</td>\n",
       "      <td>Manuela Velasco/Paco Manzanedo/Héctor Colomé/I...</td>\n",
       "    </tr>\n",
       "    <tr>\n",
       "      <th>4</th>\n",
       "      <td>The Search for General Tso (2014)</td>\n",
       "      <td>72</td>\n",
       "      <td>Documentary/Comedy/History/Mystery</td>\n",
       "      <td>71 min</td>\n",
       "      <td>Ian Cheney</td>\n",
       "    </tr>\n",
       "  </tbody>\n",
       "</table>\n",
       "</div>"
      ],
      "text/plain": [
       "                                         title  scorr  \\\n",
       "0  The Woman in Black 2: Angel of Death (2014)     42   \n",
       "1                   A Most Violent Year (2014)     79   \n",
       "2                              Leviafan (2014)     92   \n",
       "3                  [REC] 4: Apocalipsis (2014)     53   \n",
       "4            The Search for General Tso (2014)     72   \n",
       "\n",
       "                                genre running time  \\\n",
       "0               Drama/Horror/Thriller       98 min   \n",
       "1         Action/Crime/Drama/Thriller      125 min   \n",
       "2                               Drama      140 min   \n",
       "3              Action/Horror/Thriller       95 min   \n",
       "4  Documentary/Comedy/History/Mystery       71 min   \n",
       "\n",
       "                                              actors  \n",
       "0  Helen McCrory/Jeremy Irvine/Phoebe Fox/Leanne ...  \n",
       "1  Oscar Isaac/Jessica Chastain/David Oyelowo/Ale...  \n",
       "2  Aleksey Serebryakov/Elena Lyadova/Roman Madyan...  \n",
       "3  Manuela Velasco/Paco Manzanedo/Héctor Colomé/I...  \n",
       "4                                         Ian Cheney  "
      ]
     },
     "execution_count": 31,
     "metadata": {},
     "output_type": "execute_result"
    }
   ],
   "source": [
    "# 크롤링한 데이터를 받아옵니다.\n",
    "import pandas as pd\n",
    "movie_df = pd.read_csv('./movie_from_df.csv')\n",
    "movie_df.head()"
   ]
  },
  {
   "cell_type": "code",
   "execution_count": 32,
   "metadata": {
    "collapsed": false
   },
   "outputs": [],
   "source": [
    "# 저장이 scorr로 되어있어서, score로 바꾸겠습니다.\n",
    "movie_df.rename(columns={'scorr':'score'}, inplace=True)"
   ]
  },
  {
   "cell_type": "code",
   "execution_count": 33,
   "metadata": {
    "collapsed": false
   },
   "outputs": [
    {
     "data": {
      "text/plain": [
       "0    42\n",
       "1    79\n",
       "2    92\n",
       "3    53\n",
       "4    72\n",
       "Name: score, dtype: float64"
      ]
     },
     "execution_count": 33,
     "metadata": {},
     "output_type": "execute_result"
    }
   ],
   "source": [
    "# row 선택 방법입니다.\n",
    "movie_df.ix[2]\n",
    "\n",
    "# column 선택 방법입니다.\n",
    "movie_df['score'].head()"
   ]
  },
  {
   "cell_type": "code",
   "execution_count": 34,
   "metadata": {
    "collapsed": false
   },
   "outputs": [],
   "source": [
    "# 1. apply를 사용해서 해결할 수 있습니다.\n",
    "def return_score_label(score):\n",
    "    if score > 90:\n",
    "        return 'fantastic'\n",
    "    elif score > 70:\n",
    "        return 'good'\n",
    "    elif score > 50:\n",
    "        return 'so so'\n",
    "    elif score <= 50:\n",
    "        return 'bad'\n",
    "    else:\n",
    "        # nan으로 들어간 경우도 있습니다. (not a number)\n",
    "        return 'not supported'\n",
    "    \n",
    "movie_df['score_label'] = movie_df['score'].apply(return_score_label)"
   ]
  },
  {
   "cell_type": "code",
   "execution_count": 35,
   "metadata": {
    "collapsed": false
   },
   "outputs": [
    {
     "data": {
      "text/html": [
       "<div>\n",
       "<table border=\"1\" class=\"dataframe\">\n",
       "  <thead>\n",
       "    <tr style=\"text-align: right;\">\n",
       "      <th></th>\n",
       "      <th>title</th>\n",
       "      <th>score</th>\n",
       "      <th>genre</th>\n",
       "      <th>running time</th>\n",
       "      <th>actors</th>\n",
       "      <th>score_label</th>\n",
       "    </tr>\n",
       "  </thead>\n",
       "  <tbody>\n",
       "    <tr>\n",
       "      <th>0</th>\n",
       "      <td>The Woman in Black 2: Angel of Death (2014)</td>\n",
       "      <td>42</td>\n",
       "      <td>Drama/Horror/Thriller</td>\n",
       "      <td>98 min</td>\n",
       "      <td>Helen McCrory/Jeremy Irvine/Phoebe Fox/Leanne ...</td>\n",
       "      <td>bad</td>\n",
       "    </tr>\n",
       "    <tr>\n",
       "      <th>1</th>\n",
       "      <td>A Most Violent Year (2014)</td>\n",
       "      <td>79</td>\n",
       "      <td>Action/Crime/Drama/Thriller</td>\n",
       "      <td>125 min</td>\n",
       "      <td>Oscar Isaac/Jessica Chastain/David Oyelowo/Ale...</td>\n",
       "      <td>good</td>\n",
       "    </tr>\n",
       "    <tr>\n",
       "      <th>2</th>\n",
       "      <td>Leviafan (2014)</td>\n",
       "      <td>92</td>\n",
       "      <td>Drama</td>\n",
       "      <td>140 min</td>\n",
       "      <td>Aleksey Serebryakov/Elena Lyadova/Roman Madyan...</td>\n",
       "      <td>fantastic</td>\n",
       "    </tr>\n",
       "    <tr>\n",
       "      <th>3</th>\n",
       "      <td>[REC] 4: Apocalipsis (2014)</td>\n",
       "      <td>53</td>\n",
       "      <td>Action/Horror/Thriller</td>\n",
       "      <td>95 min</td>\n",
       "      <td>Manuela Velasco/Paco Manzanedo/Héctor Colomé/I...</td>\n",
       "      <td>so so</td>\n",
       "    </tr>\n",
       "    <tr>\n",
       "      <th>4</th>\n",
       "      <td>The Search for General Tso (2014)</td>\n",
       "      <td>72</td>\n",
       "      <td>Documentary/Comedy/History/Mystery</td>\n",
       "      <td>71 min</td>\n",
       "      <td>Ian Cheney</td>\n",
       "      <td>good</td>\n",
       "    </tr>\n",
       "  </tbody>\n",
       "</table>\n",
       "</div>"
      ],
      "text/plain": [
       "                                         title  score  \\\n",
       "0  The Woman in Black 2: Angel of Death (2014)     42   \n",
       "1                   A Most Violent Year (2014)     79   \n",
       "2                              Leviafan (2014)     92   \n",
       "3                  [REC] 4: Apocalipsis (2014)     53   \n",
       "4            The Search for General Tso (2014)     72   \n",
       "\n",
       "                                genre running time  \\\n",
       "0               Drama/Horror/Thriller       98 min   \n",
       "1         Action/Crime/Drama/Thriller      125 min   \n",
       "2                               Drama      140 min   \n",
       "3              Action/Horror/Thriller       95 min   \n",
       "4  Documentary/Comedy/History/Mystery       71 min   \n",
       "\n",
       "                                              actors score_label  \n",
       "0  Helen McCrory/Jeremy Irvine/Phoebe Fox/Leanne ...         bad  \n",
       "1  Oscar Isaac/Jessica Chastain/David Oyelowo/Ale...        good  \n",
       "2  Aleksey Serebryakov/Elena Lyadova/Roman Madyan...   fantastic  \n",
       "3  Manuela Velasco/Paco Manzanedo/Héctor Colomé/I...       so so  \n",
       "4                                         Ian Cheney        good  "
      ]
     },
     "execution_count": 35,
     "metadata": {},
     "output_type": "execute_result"
    }
   ],
   "source": [
    "movie_df.head()"
   ]
  },
  {
   "cell_type": "code",
   "execution_count": 36,
   "metadata": {
    "collapsed": false
   },
   "outputs": [
    {
     "data": {
      "text/plain": [
       "so so            148\n",
       "bad              122\n",
       "good              96\n",
       "not supported     16\n",
       "fantastic          7\n",
       "Name: score_label, dtype: int64"
      ]
     },
     "execution_count": 36,
     "metadata": {},
     "output_type": "execute_result"
    }
   ],
   "source": [
    "# 2. same value들을 count하고, 그래프 그리는 것을 배웠습니다.\n",
    "movie_df['score_label'].value_counts()"
   ]
  },
  {
   "cell_type": "code",
   "execution_count": 37,
   "metadata": {
    "collapsed": false
   },
   "outputs": [
    {
     "data": {
      "text/plain": [
       "<matplotlib.axes._subplots.AxesSubplot at 0x10c9585d0>"
      ]
     },
     "execution_count": 37,
     "metadata": {},
     "output_type": "execute_result"
    },
    {
     "data": {
      "image/png": "[encoded data removed]",
      "text/plain": [
       "<matplotlib.figure.Figure at 0x10c831dd0>"
      ]
     },
     "metadata": {},
     "output_type": "display_data"
    }
   ],
   "source": [
    "movie_df['score_label'].value_counts().plot(kind='bar')"
   ]
  },
  {
   "cell_type": "code",
   "execution_count": 38,
   "metadata": {
    "collapsed": false
   },
   "outputs": [
    {
     "data": {
      "text/plain": [
       "0     True\n",
       "1     True\n",
       "2     True\n",
       "3    False\n",
       "4    False\n",
       "Name: genre, dtype: bool"
      ]
     },
     "execution_count": 38,
     "metadata": {},
     "output_type": "execute_result"
    }
   ],
   "source": [
    "# 3. 조금 어려울 수 있는데, apply를 사용해서 해결 할 수 있습니다.\n",
    "def check_contain(genre):\n",
    "    if 'Drama' in genre:\n",
    "        return True\n",
    "    else:\n",
    "        return False\n",
    "    \n",
    "movie_df['genre'].apply(check_contain).head()"
   ]
  },
  {
   "cell_type": "code",
   "execution_count": 39,
   "metadata": {
    "collapsed": false
   },
   "outputs": [
    {
     "data": {
      "text/html": [
       "<div>\n",
       "<table border=\"1\" class=\"dataframe\">\n",
       "  <thead>\n",
       "    <tr style=\"text-align: right;\">\n",
       "      <th></th>\n",
       "      <th>title</th>\n",
       "      <th>score</th>\n",
       "      <th>genre</th>\n",
       "      <th>running time</th>\n",
       "      <th>actors</th>\n",
       "      <th>score_label</th>\n",
       "    </tr>\n",
       "  </thead>\n",
       "  <tbody>\n",
       "    <tr>\n",
       "      <th>0</th>\n",
       "      <td>The Woman in Black 2: Angel of Death (2014)</td>\n",
       "      <td>42</td>\n",
       "      <td>Drama/Horror/Thriller</td>\n",
       "      <td>98 min</td>\n",
       "      <td>Helen McCrory/Jeremy Irvine/Phoebe Fox/Leanne ...</td>\n",
       "      <td>bad</td>\n",
       "    </tr>\n",
       "    <tr>\n",
       "      <th>1</th>\n",
       "      <td>A Most Violent Year (2014)</td>\n",
       "      <td>79</td>\n",
       "      <td>Action/Crime/Drama/Thriller</td>\n",
       "      <td>125 min</td>\n",
       "      <td>Oscar Isaac/Jessica Chastain/David Oyelowo/Ale...</td>\n",
       "      <td>good</td>\n",
       "    </tr>\n",
       "    <tr>\n",
       "      <th>2</th>\n",
       "      <td>Leviafan (2014)</td>\n",
       "      <td>92</td>\n",
       "      <td>Drama</td>\n",
       "      <td>140 min</td>\n",
       "      <td>Aleksey Serebryakov/Elena Lyadova/Roman Madyan...</td>\n",
       "      <td>fantastic</td>\n",
       "    </tr>\n",
       "    <tr>\n",
       "      <th>6</th>\n",
       "      <td>Die geliebten Schwestern (2014)</td>\n",
       "      <td>66</td>\n",
       "      <td>Drama/History/Romance</td>\n",
       "      <td>138 min</td>\n",
       "      <td>Hannah Herzsprung/Florian Stetter/Henriette Co...</td>\n",
       "      <td>so so</td>\n",
       "    </tr>\n",
       "    <tr>\n",
       "      <th>7</th>\n",
       "      <td>Boven is het stil (2013)</td>\n",
       "      <td>72</td>\n",
       "      <td>Drama</td>\n",
       "      <td>93 min</td>\n",
       "      <td>Jeroen Willems/Henri Garcin/Wim Opbrouck/Marti...</td>\n",
       "      <td>good</td>\n",
       "    </tr>\n",
       "  </tbody>\n",
       "</table>\n",
       "</div>"
      ],
      "text/plain": [
       "                                         title  score  \\\n",
       "0  The Woman in Black 2: Angel of Death (2014)     42   \n",
       "1                   A Most Violent Year (2014)     79   \n",
       "2                              Leviafan (2014)     92   \n",
       "6              Die geliebten Schwestern (2014)     66   \n",
       "7                     Boven is het stil (2013)     72   \n",
       "\n",
       "                         genre running time  \\\n",
       "0        Drama/Horror/Thriller       98 min   \n",
       "1  Action/Crime/Drama/Thriller      125 min   \n",
       "2                        Drama      140 min   \n",
       "6        Drama/History/Romance      138 min   \n",
       "7                        Drama       93 min   \n",
       "\n",
       "                                              actors score_label  \n",
       "0  Helen McCrory/Jeremy Irvine/Phoebe Fox/Leanne ...         bad  \n",
       "1  Oscar Isaac/Jessica Chastain/David Oyelowo/Ale...        good  \n",
       "2  Aleksey Serebryakov/Elena Lyadova/Roman Madyan...   fantastic  \n",
       "6  Hannah Herzsprung/Florian Stetter/Henriette Co...       so so  \n",
       "7  Jeroen Willems/Henri Garcin/Wim Opbrouck/Marti...        good  "
      ]
     },
     "execution_count": 39,
     "metadata": {},
     "output_type": "execute_result"
    }
   ],
   "source": [
    "# Drama를 genre만 가져왔습니다.\n",
    "movie_df[movie_df['genre'].apply(check_contain)].head()"
   ]
  },
  {
   "cell_type": "code",
   "execution_count": 40,
   "metadata": {
    "collapsed": false
   },
   "outputs": [
    {
     "data": {
      "text/plain": [
       "0     True\n",
       "1     True\n",
       "2     True\n",
       "3    False\n",
       "4    False\n",
       "Name: genre, dtype: bool"
      ]
     },
     "execution_count": 40,
     "metadata": {},
     "output_type": "execute_result"
    }
   ],
   "source": [
    "# Drama를 argument로 넘기고 싶으면, 이와 같이 하면 됩니다.\n",
    "def check_contain(genre, target):\n",
    "    if target in genre:\n",
    "        return True\n",
    "    else:\n",
    "        return False\n",
    "    \n",
    "movie_df['genre'].apply(check_contain, args=('Drama',)).head()"
   ]
  },
  {
   "cell_type": "code",
   "execution_count": 41,
   "metadata": {
    "collapsed": false
   },
   "outputs": [
    {
     "data": {
      "text/plain": [
       "tuple"
      ]
     },
     "execution_count": 41,
     "metadata": {},
     "output_type": "execute_result"
    }
   ],
   "source": [
    "# args=('Drama', )를 찍어준 이유는 args가 tuple 자료구조임을 알려주기 위해서입니다.\n",
    "a = (1,)\n",
    "type(a)"
   ]
  },
  {
   "cell_type": "code",
   "execution_count": 42,
   "metadata": {
    "collapsed": false
   },
   "outputs": [
    {
     "data": {
      "text/plain": [
       "int"
      ]
     },
     "execution_count": 42,
     "metadata": {},
     "output_type": "execute_result"
    }
   ],
   "source": [
    "b=(2)\n",
    "type(b)"
   ]
  },
  {
   "cell_type": "code",
   "execution_count": 43,
   "metadata": {
    "collapsed": false
   },
   "outputs": [
    {
     "data": {
      "text/plain": [
       "0     True\n",
       "1     True\n",
       "2     True\n",
       "3    False\n",
       "4    False\n",
       "Name: genre, dtype: bool"
      ]
     },
     "execution_count": 43,
     "metadata": {},
     "output_type": "execute_result"
    }
   ],
   "source": [
    "# 지난 시간에 안 배운 내용 중에, 특정 string을 포함하고 있는지 확인하는 방법입니다.\n",
    "movie_df['genre'].str.contains(\"Drama\").head()"
   ]
  },
  {
   "cell_type": "code",
   "execution_count": 44,
   "metadata": {
    "collapsed": false
   },
   "outputs": [
    {
     "data": {
      "text/html": [
       "<div>\n",
       "<table border=\"1\" class=\"dataframe\">\n",
       "  <thead>\n",
       "    <tr style=\"text-align: right;\">\n",
       "      <th></th>\n",
       "      <th>title</th>\n",
       "      <th>score</th>\n",
       "      <th>genre</th>\n",
       "      <th>running time</th>\n",
       "      <th>actors</th>\n",
       "      <th>score_label</th>\n",
       "    </tr>\n",
       "  </thead>\n",
       "  <tbody>\n",
       "    <tr>\n",
       "      <th>0</th>\n",
       "      <td>The Woman in Black 2: Angel of Death (2014)</td>\n",
       "      <td>42</td>\n",
       "      <td>Drama/Horror/Thriller</td>\n",
       "      <td>98 min</td>\n",
       "      <td>Helen McCrory/Jeremy Irvine/Phoebe Fox/Leanne ...</td>\n",
       "      <td>bad</td>\n",
       "    </tr>\n",
       "    <tr>\n",
       "      <th>1</th>\n",
       "      <td>A Most Violent Year (2014)</td>\n",
       "      <td>79</td>\n",
       "      <td>Action/Crime/Drama/Thriller</td>\n",
       "      <td>125 min</td>\n",
       "      <td>Oscar Isaac/Jessica Chastain/David Oyelowo/Ale...</td>\n",
       "      <td>good</td>\n",
       "    </tr>\n",
       "    <tr>\n",
       "      <th>2</th>\n",
       "      <td>Leviafan (2014)</td>\n",
       "      <td>92</td>\n",
       "      <td>Drama</td>\n",
       "      <td>140 min</td>\n",
       "      <td>Aleksey Serebryakov/Elena Lyadova/Roman Madyan...</td>\n",
       "      <td>fantastic</td>\n",
       "    </tr>\n",
       "    <tr>\n",
       "      <th>6</th>\n",
       "      <td>Die geliebten Schwestern (2014)</td>\n",
       "      <td>66</td>\n",
       "      <td>Drama/History/Romance</td>\n",
       "      <td>138 min</td>\n",
       "      <td>Hannah Herzsprung/Florian Stetter/Henriette Co...</td>\n",
       "      <td>so so</td>\n",
       "    </tr>\n",
       "    <tr>\n",
       "      <th>7</th>\n",
       "      <td>Boven is het stil (2013)</td>\n",
       "      <td>72</td>\n",
       "      <td>Drama</td>\n",
       "      <td>93 min</td>\n",
       "      <td>Jeroen Willems/Henri Garcin/Wim Opbrouck/Marti...</td>\n",
       "      <td>good</td>\n",
       "    </tr>\n",
       "  </tbody>\n",
       "</table>\n",
       "</div>"
      ],
      "text/plain": [
       "                                         title  score  \\\n",
       "0  The Woman in Black 2: Angel of Death (2014)     42   \n",
       "1                   A Most Violent Year (2014)     79   \n",
       "2                              Leviafan (2014)     92   \n",
       "6              Die geliebten Schwestern (2014)     66   \n",
       "7                     Boven is het stil (2013)     72   \n",
       "\n",
       "                         genre running time  \\\n",
       "0        Drama/Horror/Thriller       98 min   \n",
       "1  Action/Crime/Drama/Thriller      125 min   \n",
       "2                        Drama      140 min   \n",
       "6        Drama/History/Romance      138 min   \n",
       "7                        Drama       93 min   \n",
       "\n",
       "                                              actors score_label  \n",
       "0  Helen McCrory/Jeremy Irvine/Phoebe Fox/Leanne ...         bad  \n",
       "1  Oscar Isaac/Jessica Chastain/David Oyelowo/Ale...        good  \n",
       "2  Aleksey Serebryakov/Elena Lyadova/Roman Madyan...   fantastic  \n",
       "6  Hannah Herzsprung/Florian Stetter/Henriette Co...       so so  \n",
       "7  Jeroen Willems/Henri Garcin/Wim Opbrouck/Marti...        good  "
      ]
     },
     "execution_count": 44,
     "metadata": {},
     "output_type": "execute_result"
    }
   ],
   "source": [
    "# 이렇게!\n",
    "movie_df[movie_df['genre'].str.contains(\"Drama\")].head()"
   ]
  },
  {
   "cell_type": "code",
   "execution_count": 45,
   "metadata": {
    "collapsed": false
   },
   "outputs": [
    {
     "data": {
      "text/html": [
       "<div>\n",
       "<table border=\"1\" class=\"dataframe\">\n",
       "  <thead>\n",
       "    <tr style=\"text-align: right;\">\n",
       "      <th></th>\n",
       "      <th>title</th>\n",
       "      <th>score</th>\n",
       "      <th>genre</th>\n",
       "      <th>running time</th>\n",
       "      <th>actors</th>\n",
       "      <th>score_label</th>\n",
       "    </tr>\n",
       "  </thead>\n",
       "  <tbody>\n",
       "    <tr>\n",
       "      <th>1</th>\n",
       "      <td>A Most Violent Year (2014)</td>\n",
       "      <td>79</td>\n",
       "      <td>Action/Crime/Drama/Thriller</td>\n",
       "      <td>125 min</td>\n",
       "      <td>Oscar Isaac/Jessica Chastain/David Oyelowo/Ale...</td>\n",
       "      <td>good</td>\n",
       "    </tr>\n",
       "    <tr>\n",
       "      <th>2</th>\n",
       "      <td>Leviafan (2014)</td>\n",
       "      <td>92</td>\n",
       "      <td>Drama</td>\n",
       "      <td>140 min</td>\n",
       "      <td>Aleksey Serebryakov/Elena Lyadova/Roman Madyan...</td>\n",
       "      <td>fantastic</td>\n",
       "    </tr>\n",
       "    <tr>\n",
       "      <th>6</th>\n",
       "      <td>Die geliebten Schwestern (2014)</td>\n",
       "      <td>66</td>\n",
       "      <td>Drama/History/Romance</td>\n",
       "      <td>138 min</td>\n",
       "      <td>Hannah Herzsprung/Florian Stetter/Henriette Co...</td>\n",
       "      <td>so so</td>\n",
       "    </tr>\n",
       "    <tr>\n",
       "      <th>10</th>\n",
       "      <td>Blackhat (2015)</td>\n",
       "      <td>51</td>\n",
       "      <td>Action/Crime/Drama/Mystery/Thriller</td>\n",
       "      <td>133 min</td>\n",
       "      <td>Chris Hemsworth/Viola Davis/Wei Tang/Leehom Wang</td>\n",
       "      <td>so so</td>\n",
       "    </tr>\n",
       "    <tr>\n",
       "      <th>22</th>\n",
       "      <td>Mommy (2014)</td>\n",
       "      <td>74</td>\n",
       "      <td>Drama</td>\n",
       "      <td>139 min</td>\n",
       "      <td>Anne Dorval/Antoine-Olivier Pilon/Suzanne Clém...</td>\n",
       "      <td>good</td>\n",
       "    </tr>\n",
       "  </tbody>\n",
       "</table>\n",
       "</div>"
      ],
      "text/plain": [
       "                              title  score  \\\n",
       "1        A Most Violent Year (2014)     79   \n",
       "2                   Leviafan (2014)     92   \n",
       "6   Die geliebten Schwestern (2014)     66   \n",
       "10                  Blackhat (2015)     51   \n",
       "22                     Mommy (2014)     74   \n",
       "\n",
       "                                  genre running time  \\\n",
       "1           Action/Crime/Drama/Thriller      125 min   \n",
       "2                                 Drama      140 min   \n",
       "6                 Drama/History/Romance      138 min   \n",
       "10  Action/Crime/Drama/Mystery/Thriller      133 min   \n",
       "22                                Drama      139 min   \n",
       "\n",
       "                                               actors score_label  \n",
       "1   Oscar Isaac/Jessica Chastain/David Oyelowo/Ale...        good  \n",
       "2   Aleksey Serebryakov/Elena Lyadova/Roman Madyan...   fantastic  \n",
       "6   Hannah Herzsprung/Florian Stetter/Henriette Co...       so so  \n",
       "10   Chris Hemsworth/Viola Davis/Wei Tang/Leehom Wang       so so  \n",
       "22  Anne Dorval/Antoine-Olivier Pilon/Suzanne Clém...        good  "
      ]
     },
     "execution_count": 45,
     "metadata": {},
     "output_type": "execute_result"
    }
   ],
   "source": [
    "# 4. apply를 사용해 min을 떼어내고 비교합시다.\n",
    "def detach_min(running_time):\n",
    "    rt = running_time.split('min')[0].strip()\n",
    "    return int(rt)\n",
    "\n",
    "# and 조건은 &로, or 조건은 |로 합니다. 연산자 우선 순위를 지켜주기 위해 (괄호)를 잊지마세요! \n",
    "movie_df[(movie_df['genre'].str.contains('Drama')) & \\\n",
    "         (movie_df['running time'].apply(detach_min)>120) ].head()"
   ]
  },
  {
   "cell_type": "code",
   "execution_count": 46,
   "metadata": {
    "collapsed": false
   },
   "outputs": [
    {
     "data": {
      "text/html": [
       "<div>\n",
       "<table border=\"1\" class=\"dataframe\">\n",
       "  <thead>\n",
       "    <tr style=\"text-align: right;\">\n",
       "      <th></th>\n",
       "      <th>title</th>\n",
       "      <th>score</th>\n",
       "      <th>genre</th>\n",
       "      <th>running time</th>\n",
       "      <th>actors</th>\n",
       "      <th>score_label</th>\n",
       "    </tr>\n",
       "  </thead>\n",
       "  <tbody>\n",
       "    <tr>\n",
       "      <th>44</th>\n",
       "      <td>Relatos salvajes (2014)</td>\n",
       "      <td>77</td>\n",
       "      <td>Comedy/Drama/Thriller</td>\n",
       "      <td>122 min</td>\n",
       "      <td>Darío Grandinetti/María Marull/Mónica Villa/Ri...</td>\n",
       "      <td>good</td>\n",
       "    </tr>\n",
       "    <tr>\n",
       "      <th>198</th>\n",
       "      <td>Trainwreck (2015)</td>\n",
       "      <td>75</td>\n",
       "      <td>Comedy/Romance</td>\n",
       "      <td>125 min</td>\n",
       "      <td>Amy Schumer/Bill Hader/Brie Larson/Colin Quinn</td>\n",
       "      <td>good</td>\n",
       "    </tr>\n",
       "    <tr>\n",
       "      <th>357</th>\n",
       "      <td>Chi-Raq (2015)</td>\n",
       "      <td>77</td>\n",
       "      <td>Comedy/Crime/Drama/Musical</td>\n",
       "      <td>127 min</td>\n",
       "      <td>Nick Cannon/Teyonah Parris/Wesley Snipes/Angel...</td>\n",
       "      <td>good</td>\n",
       "    </tr>\n",
       "  </tbody>\n",
       "</table>\n",
       "</div>"
      ],
      "text/plain": [
       "                       title  score                       genre running time  \\\n",
       "44   Relatos salvajes (2014)     77       Comedy/Drama/Thriller      122 min   \n",
       "198        Trainwreck (2015)     75              Comedy/Romance      125 min   \n",
       "357           Chi-Raq (2015)     77  Comedy/Crime/Drama/Musical      127 min   \n",
       "\n",
       "                                                actors score_label  \n",
       "44   Darío Grandinetti/María Marull/Mónica Villa/Ri...        good  \n",
       "198     Amy Schumer/Bill Hader/Brie Larson/Colin Quinn        good  \n",
       "357  Nick Cannon/Teyonah Parris/Wesley Snipes/Angel...        good  "
      ]
     },
     "execution_count": 46,
     "metadata": {},
     "output_type": "execute_result"
    }
   ],
   "source": [
    "# 5.\n",
    "movie_df[(movie_df['genre'].str.contains('Comedy')) \\\n",
    "         & (movie_df['running time'].apply(detach_min)>120) \\\n",
    "         & (movie_df['score_label'] == 'good')].head()"
   ]
  },
  {
   "cell_type": "markdown",
   "metadata": {},
   "source": [
    "## random 패키지를 사용하여 샘플 데이터를 생성하는 방법"
   ]
  },
  {
   "cell_type": "markdown",
   "metadata": {},
   "source": [
    "random패키지를 사용하면 샘플 데이터(숫자)를 만들 때 아주 편리합니다."
   ]
  },
  {
   "cell_type": "code",
   "execution_count": 47,
   "metadata": {
    "collapsed": true
   },
   "outputs": [],
   "source": [
    "import random"
   ]
  },
  {
   "cell_type": "markdown",
   "metadata": {},
   "source": [
    "### random.sample"
   ]
  },
  {
   "cell_type": "code",
   "execution_count": 48,
   "metadata": {
    "collapsed": false
   },
   "outputs": [
    {
     "data": {
      "text/plain": [
       "[5, 2]"
      ]
     },
     "execution_count": 48,
     "metadata": {},
     "output_type": "execute_result"
    }
   ],
   "source": [
    "# [1,2,3,4,5] 중에 2개를 뽑아줘\n",
    "random.sample([1,2,3,4,5],2)"
   ]
  },
  {
   "cell_type": "code",
   "execution_count": 49,
   "metadata": {
    "collapsed": false
   },
   "outputs": [],
   "source": [
    "# get_random_number(start, end, how_many)라는 함수를 만들고 \n",
    "# 데이터 샘플링에 활용해봅시다. range를 사용하였기 때문에 중복은 없습니다.\n",
    "def get_sample_numbers(start, end, how_many):\n",
    "    return random.sample(range(start, end), how_many)"
   ]
  },
  {
   "cell_type": "markdown",
   "metadata": {},
   "source": [
    "### random.randint"
   ]
  },
  {
   "cell_type": "code",
   "execution_count": 50,
   "metadata": {
    "collapsed": false
   },
   "outputs": [
    {
     "data": {
      "text/plain": [
       "16"
      ]
     },
     "execution_count": 50,
     "metadata": {},
     "output_type": "execute_result"
    }
   ],
   "source": [
    "# 10부터 20까지 숫자중 랜덤으로 하나 뽑아주세요\n",
    "random.randint(10,20)"
   ]
  },
  {
   "cell_type": "code",
   "execution_count": 51,
   "metadata": {
    "collapsed": true
   },
   "outputs": [],
   "source": [
    "# how_many 만큼 start, end 범위에 있는 숫자들을 중복하여 추출합니다.\n",
    "def get_random_numbers(start, end, how_many):\n",
    "    return [random.randint(start, end) for i in range(how_many)]"
   ]
  },
  {
   "cell_type": "code",
   "execution_count": 52,
   "metadata": {
    "collapsed": false
   },
   "outputs": [
    {
     "ename": "NameError",
     "evalue": "name 'get_random_range' is not defined",
     "output_type": "error",
     "traceback": [
      "\u001b[0;31m---------------------------------------------------------------------------\u001b[0m",
      "\u001b[0;31mNameError\u001b[0m                                 Traceback (most recent call last)",
      "\u001b[0;32m<ipython-input-52-5b01bcfa9c25>\u001b[0m in \u001b[0;36m<module>\u001b[0;34m()\u001b[0m\n\u001b[0;32m----> 1\u001b[0;31m \u001b[0mget_random_range\u001b[0m\u001b[0;34m(\u001b[0m\u001b[0;36m0\u001b[0m\u001b[0;34m,\u001b[0m\u001b[0;36m10\u001b[0m\u001b[0;34m,\u001b[0m\u001b[0;36m10\u001b[0m\u001b[0;34m)\u001b[0m\u001b[0;34m\u001b[0m\u001b[0m\n\u001b[0m",
      "\u001b[0;31mNameError\u001b[0m: name 'get_random_range' is not defined"
     ]
    }
   ],
   "source": [
    "get_random_range(0,10,10)"
   ]
  },
  {
   "cell_type": "code",
   "execution_count": 53,
   "metadata": {
    "collapsed": false
   },
   "outputs": [
    {
     "data": {
      "text/html": [
       "<div>\n",
       "<table border=\"1\" class=\"dataframe\">\n",
       "  <thead>\n",
       "    <tr style=\"text-align: right;\">\n",
       "      <th></th>\n",
       "      <th>이름</th>\n",
       "      <th>나이</th>\n",
       "    </tr>\n",
       "  </thead>\n",
       "  <tbody>\n",
       "    <tr>\n",
       "      <th>0</th>\n",
       "      <td>나은</td>\n",
       "      <td>89</td>\n",
       "    </tr>\n",
       "    <tr>\n",
       "      <th>1</th>\n",
       "      <td>성필</td>\n",
       "      <td>96</td>\n",
       "    </tr>\n",
       "    <tr>\n",
       "      <th>2</th>\n",
       "      <td>원경</td>\n",
       "      <td>79</td>\n",
       "    </tr>\n",
       "    <tr>\n",
       "      <th>3</th>\n",
       "      <td>지연</td>\n",
       "      <td>25</td>\n",
       "    </tr>\n",
       "    <tr>\n",
       "      <th>4</th>\n",
       "      <td>수</td>\n",
       "      <td>52</td>\n",
       "    </tr>\n",
       "  </tbody>\n",
       "</table>\n",
       "</div>"
      ],
      "text/plain": [
       "   이름  나이\n",
       "0  나은  89\n",
       "1  성필  96\n",
       "2  원경  79\n",
       "3  지연  25\n",
       "4   수  52"
      ]
     },
     "execution_count": 53,
     "metadata": {},
     "output_type": "execute_result"
    }
   ],
   "source": [
    "# DataFrame을 만들어봅시다.\n",
    "df = DataFrame({\n",
    "    '이름': ['나은', '성필', '원경', '지연', '수'],\n",
    "    '나이': get_random_numbers(1,100,5)\n",
    "}, columns = ['이름', '나이'])\n",
    "df"
   ]
  },
  {
   "cell_type": "markdown",
   "metadata": {},
   "source": [
    "### 해보기\n",
    "\n",
    "아래와 같은 데이터 포맷으로 get_sample_numbers나 get_random_numbers을 사용하여, DataFrame을 만들어보세요\n",
    "\n",
    "```\n",
    "data = {\n",
    "    '연도': [],\n",
    "    '강수량': get_random_numbers(...)\n",
    "}\n",
    "```"
   ]
  },
  {
   "cell_type": "markdown",
   "metadata": {},
   "source": [
    "### 정렬된 알파벳을 추출합니다."
   ]
  },
  {
   "cell_type": "code",
   "execution_count": 54,
   "metadata": {
    "collapsed": false
   },
   "outputs": [],
   "source": [
    "import string\n",
    "def get_alphabet(count):\n",
    "    # [A, B, C, ... , AA, BB, ...] 을 담을 그릇입니다.\n",
    "    str_list = []\n",
    "    \n",
    "    # A 하나쓸지 AA 두개쓸지 정하는 변수입니다.\n",
    "    char_count = 1\n",
    "    for i in range(count):\n",
    "        if len(string.ascii_lowercase) == i:\n",
    "            char_count += 1\n",
    "        str_list.append(string.ascii_uppercase[i%26]*char_count)\n",
    "    \n",
    "    return str_list"
   ]
  },
  {
   "cell_type": "code",
   "execution_count": 55,
   "metadata": {
    "collapsed": false
   },
   "outputs": [
    {
     "data": {
      "text/plain": [
       "['A', 'B', 'C', 'D', 'E', 'F', 'G', 'H', 'I', 'J']"
      ]
     },
     "execution_count": 55,
     "metadata": {},
     "output_type": "execute_result"
    }
   ],
   "source": [
    "get_alphabet(10)"
   ]
  },
  {
   "cell_type": "markdown",
   "metadata": {},
   "source": [
    "## DataFrame에 대해 몇가지 더 알아봅시다."
   ]
  },
  {
   "cell_type": "markdown",
   "metadata": {},
   "source": [
    "### sort_values"
   ]
  },
  {
   "cell_type": "code",
   "execution_count": 56,
   "metadata": {
    "collapsed": false
   },
   "outputs": [],
   "source": [
    "# 샘플 데이터를 만들어봅시다.\n",
    "df = DataFrame({\n",
    "        'title': get_alphabet(10),\n",
    "        'score': get_random_numbers(1,10,10)\n",
    "    }, columns=['title','score'])"
   ]
  },
  {
   "cell_type": "code",
   "execution_count": 57,
   "metadata": {
    "collapsed": false
   },
   "outputs": [
    {
     "data": {
      "text/html": [
       "<div>\n",
       "<table border=\"1\" class=\"dataframe\">\n",
       "  <thead>\n",
       "    <tr style=\"text-align: right;\">\n",
       "      <th></th>\n",
       "      <th>title</th>\n",
       "      <th>score</th>\n",
       "    </tr>\n",
       "  </thead>\n",
       "  <tbody>\n",
       "    <tr>\n",
       "      <th>0</th>\n",
       "      <td>A</td>\n",
       "      <td>10</td>\n",
       "    </tr>\n",
       "    <tr>\n",
       "      <th>1</th>\n",
       "      <td>B</td>\n",
       "      <td>9</td>\n",
       "    </tr>\n",
       "    <tr>\n",
       "      <th>2</th>\n",
       "      <td>C</td>\n",
       "      <td>3</td>\n",
       "    </tr>\n",
       "    <tr>\n",
       "      <th>3</th>\n",
       "      <td>D</td>\n",
       "      <td>1</td>\n",
       "    </tr>\n",
       "    <tr>\n",
       "      <th>4</th>\n",
       "      <td>E</td>\n",
       "      <td>9</td>\n",
       "    </tr>\n",
       "    <tr>\n",
       "      <th>5</th>\n",
       "      <td>F</td>\n",
       "      <td>3</td>\n",
       "    </tr>\n",
       "    <tr>\n",
       "      <th>6</th>\n",
       "      <td>G</td>\n",
       "      <td>9</td>\n",
       "    </tr>\n",
       "    <tr>\n",
       "      <th>7</th>\n",
       "      <td>H</td>\n",
       "      <td>6</td>\n",
       "    </tr>\n",
       "    <tr>\n",
       "      <th>8</th>\n",
       "      <td>I</td>\n",
       "      <td>8</td>\n",
       "    </tr>\n",
       "    <tr>\n",
       "      <th>9</th>\n",
       "      <td>J</td>\n",
       "      <td>5</td>\n",
       "    </tr>\n",
       "  </tbody>\n",
       "</table>\n",
       "</div>"
      ],
      "text/plain": [
       "  title  score\n",
       "0     A     10\n",
       "1     B      9\n",
       "2     C      3\n",
       "3     D      1\n",
       "4     E      9\n",
       "5     F      3\n",
       "6     G      9\n",
       "7     H      6\n",
       "8     I      8\n",
       "9     J      5"
      ]
     },
     "execution_count": 57,
     "metadata": {},
     "output_type": "execute_result"
    }
   ],
   "source": [
    "df"
   ]
  },
  {
   "cell_type": "code",
   "execution_count": 58,
   "metadata": {
    "collapsed": false
   },
   "outputs": [
    {
     "data": {
      "text/html": [
       "<div>\n",
       "<table border=\"1\" class=\"dataframe\">\n",
       "  <thead>\n",
       "    <tr style=\"text-align: right;\">\n",
       "      <th></th>\n",
       "      <th>title</th>\n",
       "      <th>score</th>\n",
       "    </tr>\n",
       "  </thead>\n",
       "  <tbody>\n",
       "    <tr>\n",
       "      <th>3</th>\n",
       "      <td>D</td>\n",
       "      <td>1</td>\n",
       "    </tr>\n",
       "    <tr>\n",
       "      <th>2</th>\n",
       "      <td>C</td>\n",
       "      <td>3</td>\n",
       "    </tr>\n",
       "    <tr>\n",
       "      <th>5</th>\n",
       "      <td>F</td>\n",
       "      <td>3</td>\n",
       "    </tr>\n",
       "    <tr>\n",
       "      <th>9</th>\n",
       "      <td>J</td>\n",
       "      <td>5</td>\n",
       "    </tr>\n",
       "    <tr>\n",
       "      <th>7</th>\n",
       "      <td>H</td>\n",
       "      <td>6</td>\n",
       "    </tr>\n",
       "    <tr>\n",
       "      <th>8</th>\n",
       "      <td>I</td>\n",
       "      <td>8</td>\n",
       "    </tr>\n",
       "    <tr>\n",
       "      <th>1</th>\n",
       "      <td>B</td>\n",
       "      <td>9</td>\n",
       "    </tr>\n",
       "    <tr>\n",
       "      <th>4</th>\n",
       "      <td>E</td>\n",
       "      <td>9</td>\n",
       "    </tr>\n",
       "    <tr>\n",
       "      <th>6</th>\n",
       "      <td>G</td>\n",
       "      <td>9</td>\n",
       "    </tr>\n",
       "    <tr>\n",
       "      <th>0</th>\n",
       "      <td>A</td>\n",
       "      <td>10</td>\n",
       "    </tr>\n",
       "  </tbody>\n",
       "</table>\n",
       "</div>"
      ],
      "text/plain": [
       "  title  score\n",
       "3     D      1\n",
       "2     C      3\n",
       "5     F      3\n",
       "9     J      5\n",
       "7     H      6\n",
       "8     I      8\n",
       "1     B      9\n",
       "4     E      9\n",
       "6     G      9\n",
       "0     A     10"
      ]
     },
     "execution_count": 58,
     "metadata": {},
     "output_type": "execute_result"
    }
   ],
   "source": [
    "# 기본적으로 오름차순 정렬입니다.\n",
    "df.sort_values(by='score')"
   ]
  },
  {
   "cell_type": "code",
   "execution_count": 59,
   "metadata": {
    "collapsed": false
   },
   "outputs": [
    {
     "data": {
      "text/html": [
       "<div>\n",
       "<table border=\"1\" class=\"dataframe\">\n",
       "  <thead>\n",
       "    <tr style=\"text-align: right;\">\n",
       "      <th></th>\n",
       "      <th>title</th>\n",
       "      <th>score</th>\n",
       "    </tr>\n",
       "  </thead>\n",
       "  <tbody>\n",
       "    <tr>\n",
       "      <th>0</th>\n",
       "      <td>A</td>\n",
       "      <td>10</td>\n",
       "    </tr>\n",
       "    <tr>\n",
       "      <th>1</th>\n",
       "      <td>B</td>\n",
       "      <td>9</td>\n",
       "    </tr>\n",
       "    <tr>\n",
       "      <th>4</th>\n",
       "      <td>E</td>\n",
       "      <td>9</td>\n",
       "    </tr>\n",
       "    <tr>\n",
       "      <th>6</th>\n",
       "      <td>G</td>\n",
       "      <td>9</td>\n",
       "    </tr>\n",
       "    <tr>\n",
       "      <th>8</th>\n",
       "      <td>I</td>\n",
       "      <td>8</td>\n",
       "    </tr>\n",
       "    <tr>\n",
       "      <th>7</th>\n",
       "      <td>H</td>\n",
       "      <td>6</td>\n",
       "    </tr>\n",
       "    <tr>\n",
       "      <th>9</th>\n",
       "      <td>J</td>\n",
       "      <td>5</td>\n",
       "    </tr>\n",
       "    <tr>\n",
       "      <th>2</th>\n",
       "      <td>C</td>\n",
       "      <td>3</td>\n",
       "    </tr>\n",
       "    <tr>\n",
       "      <th>5</th>\n",
       "      <td>F</td>\n",
       "      <td>3</td>\n",
       "    </tr>\n",
       "    <tr>\n",
       "      <th>3</th>\n",
       "      <td>D</td>\n",
       "      <td>1</td>\n",
       "    </tr>\n",
       "  </tbody>\n",
       "</table>\n",
       "</div>"
      ],
      "text/plain": [
       "  title  score\n",
       "0     A     10\n",
       "1     B      9\n",
       "4     E      9\n",
       "6     G      9\n",
       "8     I      8\n",
       "7     H      6\n",
       "9     J      5\n",
       "2     C      3\n",
       "5     F      3\n",
       "3     D      1"
      ]
     },
     "execution_count": 59,
     "metadata": {},
     "output_type": "execute_result"
    }
   ],
   "source": [
    "# ascending=False 옵션을 주면 내림차순됩니다.\n",
    "df.sort_values(by='score', ascending=False)"
   ]
  },
  {
   "cell_type": "code",
   "execution_count": 60,
   "metadata": {
    "collapsed": false
   },
   "outputs": [
    {
     "data": {
      "text/html": [
       "<div>\n",
       "<table border=\"1\" class=\"dataframe\">\n",
       "  <thead>\n",
       "    <tr style=\"text-align: right;\">\n",
       "      <th></th>\n",
       "      <th>title</th>\n",
       "      <th>score1</th>\n",
       "      <th>score2</th>\n",
       "    </tr>\n",
       "  </thead>\n",
       "  <tbody>\n",
       "    <tr>\n",
       "      <th>0</th>\n",
       "      <td>A</td>\n",
       "      <td>2</td>\n",
       "      <td>4</td>\n",
       "    </tr>\n",
       "    <tr>\n",
       "      <th>1</th>\n",
       "      <td>B</td>\n",
       "      <td>6</td>\n",
       "      <td>2</td>\n",
       "    </tr>\n",
       "    <tr>\n",
       "      <th>2</th>\n",
       "      <td>C</td>\n",
       "      <td>1</td>\n",
       "      <td>2</td>\n",
       "    </tr>\n",
       "    <tr>\n",
       "      <th>3</th>\n",
       "      <td>D</td>\n",
       "      <td>2</td>\n",
       "      <td>3</td>\n",
       "    </tr>\n",
       "    <tr>\n",
       "      <th>4</th>\n",
       "      <td>E</td>\n",
       "      <td>7</td>\n",
       "      <td>5</td>\n",
       "    </tr>\n",
       "  </tbody>\n",
       "</table>\n",
       "</div>"
      ],
      "text/plain": [
       "  title  score1  score2\n",
       "0     A       2       4\n",
       "1     B       6       2\n",
       "2     C       1       2\n",
       "3     D       2       3\n",
       "4     E       7       5"
      ]
     },
     "execution_count": 60,
     "metadata": {},
     "output_type": "execute_result"
    }
   ],
   "source": [
    "# 샘플 데이터를 만들어봅시다.\n",
    "df = DataFrame({\n",
    "        'title': get_alphabet(50),\n",
    "        'score1': get_random_numbers(1,10,50),\n",
    "        'score2': get_random_numbers(1,10,50)\n",
    "    }, columns=['title','score1','score2'])\n",
    "df.head()"
   ]
  },
  {
   "cell_type": "code",
   "execution_count": 61,
   "metadata": {
    "collapsed": false
   },
   "outputs": [
    {
     "data": {
      "text/html": [
       "<div>\n",
       "<table border=\"1\" class=\"dataframe\">\n",
       "  <thead>\n",
       "    <tr style=\"text-align: right;\">\n",
       "      <th></th>\n",
       "      <th>title</th>\n",
       "      <th>score1</th>\n",
       "      <th>score2</th>\n",
       "    </tr>\n",
       "  </thead>\n",
       "  <tbody>\n",
       "    <tr>\n",
       "      <th>2</th>\n",
       "      <td>C</td>\n",
       "      <td>1</td>\n",
       "      <td>2</td>\n",
       "    </tr>\n",
       "    <tr>\n",
       "      <th>36</th>\n",
       "      <td>KK</td>\n",
       "      <td>1</td>\n",
       "      <td>5</td>\n",
       "    </tr>\n",
       "    <tr>\n",
       "      <th>33</th>\n",
       "      <td>HH</td>\n",
       "      <td>1</td>\n",
       "      <td>6</td>\n",
       "    </tr>\n",
       "    <tr>\n",
       "      <th>13</th>\n",
       "      <td>N</td>\n",
       "      <td>1</td>\n",
       "      <td>8</td>\n",
       "    </tr>\n",
       "    <tr>\n",
       "      <th>3</th>\n",
       "      <td>D</td>\n",
       "      <td>2</td>\n",
       "      <td>3</td>\n",
       "    </tr>\n",
       "  </tbody>\n",
       "</table>\n",
       "</div>"
      ],
      "text/plain": [
       "   title  score1  score2\n",
       "2      C       1       2\n",
       "36    KK       1       5\n",
       "33    HH       1       6\n",
       "13     N       1       8\n",
       "3      D       2       3"
      ]
     },
     "execution_count": 61,
     "metadata": {},
     "output_type": "execute_result"
    }
   ],
   "source": [
    "# 기본 오름, 오름 차순입니다.\n",
    "df.sort_values(by=['score1','score2']).head()"
   ]
  },
  {
   "cell_type": "code",
   "execution_count": 62,
   "metadata": {
    "collapsed": false
   },
   "outputs": [
    {
     "data": {
      "text/html": [
       "<div>\n",
       "<table border=\"1\" class=\"dataframe\">\n",
       "  <thead>\n",
       "    <tr style=\"text-align: right;\">\n",
       "      <th></th>\n",
       "      <th>title</th>\n",
       "      <th>score1</th>\n",
       "      <th>score2</th>\n",
       "    </tr>\n",
       "  </thead>\n",
       "  <tbody>\n",
       "    <tr>\n",
       "      <th>21</th>\n",
       "      <td>V</td>\n",
       "      <td>10</td>\n",
       "      <td>2</td>\n",
       "    </tr>\n",
       "    <tr>\n",
       "      <th>23</th>\n",
       "      <td>X</td>\n",
       "      <td>10</td>\n",
       "      <td>4</td>\n",
       "    </tr>\n",
       "    <tr>\n",
       "      <th>35</th>\n",
       "      <td>JJ</td>\n",
       "      <td>10</td>\n",
       "      <td>6</td>\n",
       "    </tr>\n",
       "    <tr>\n",
       "      <th>24</th>\n",
       "      <td>Y</td>\n",
       "      <td>10</td>\n",
       "      <td>8</td>\n",
       "    </tr>\n",
       "    <tr>\n",
       "      <th>49</th>\n",
       "      <td>XX</td>\n",
       "      <td>10</td>\n",
       "      <td>10</td>\n",
       "    </tr>\n",
       "  </tbody>\n",
       "</table>\n",
       "</div>"
      ],
      "text/plain": [
       "   title  score1  score2\n",
       "21     V      10       2\n",
       "23     X      10       4\n",
       "35    JJ      10       6\n",
       "24     Y      10       8\n",
       "49    XX      10      10"
      ]
     },
     "execution_count": 62,
     "metadata": {},
     "output_type": "execute_result"
    }
   ],
   "source": [
    "df.sort_values(by=['score1','score2'],ascending=[False, True]).head()"
   ]
  },
  {
   "cell_type": "markdown",
   "metadata": {},
   "source": [
    "### 해보기\n",
    "\n",
    "1. movie_df를 가지고 score 내림차순 정리를 해봅시다."
   ]
  },
  {
   "cell_type": "code",
   "execution_count": 63,
   "metadata": {
    "collapsed": false
   },
   "outputs": [],
   "source": [
    "# movie_df.sort_values(..)"
   ]
  },
  {
   "cell_type": "markdown",
   "metadata": {},
   "source": [
    "2. score, running time으로 내림차순 정리 해봅시다. running time에는 'min'이라는 문자열이 붙어있으니, 일단 그것부터 없애줍시다."
   ]
  },
  {
   "cell_type": "code",
   "execution_count": 64,
   "metadata": {
    "collapsed": false
   },
   "outputs": [],
   "source": [
    "# movie_df['..'] = movie_df['..'].apply(..)\n",
    "# movie_df.sort_values(..)"
   ]
  },
  {
   "cell_type": "markdown",
   "metadata": {},
   "source": [
    "### dropna\n",
    "\n",
    "score가 nan인 row들이 있었습니다."
   ]
  },
  {
   "cell_type": "code",
   "execution_count": 65,
   "metadata": {
    "collapsed": false
   },
   "outputs": [
    {
     "name": "stdout",
     "output_type": "stream",
     "text": [
      "<class 'pandas.core.frame.DataFrame'>\n",
      "Int64Index: 389 entries, 0 to 388\n",
      "Data columns (total 6 columns):\n",
      "title           389 non-null object\n",
      "score           373 non-null float64\n",
      "genre           389 non-null object\n",
      "running time    389 non-null object\n",
      "actors          389 non-null object\n",
      "score_label     389 non-null object\n",
      "dtypes: float64(1), object(5)\n",
      "memory usage: 21.3+ KB\n"
     ]
    }
   ],
   "source": [
    "# score만 373개의 non-null이고, 나머지는 389 입니다.\n",
    "movie_df.info()"
   ]
  },
  {
   "cell_type": "code",
   "execution_count": 66,
   "metadata": {
    "collapsed": false
   },
   "outputs": [
    {
     "name": "stdout",
     "output_type": "stream",
     "text": [
      "<class 'pandas.core.frame.DataFrame'>\n",
      "Int64Index: 373 entries, 0 to 388\n",
      "Data columns (total 6 columns):\n",
      "title           373 non-null object\n",
      "score           373 non-null float64\n",
      "genre           373 non-null object\n",
      "running time    373 non-null object\n",
      "actors          373 non-null object\n",
      "score_label     373 non-null object\n",
      "dtypes: float64(1), object(5)\n",
      "memory usage: 20.4+ KB\n"
     ]
    }
   ],
   "source": [
    "# score가 nan인 row들을 모두 버렸습니다.\n",
    "movie_df.dropna().info()"
   ]
  },
  {
   "cell_type": "code",
   "execution_count": 67,
   "metadata": {
    "collapsed": false
   },
   "outputs": [
    {
     "data": {
      "text/plain": [
       "0    False\n",
       "1    False\n",
       "2    False\n",
       "3    False\n",
       "4    False\n",
       "Name: score, dtype: bool"
      ]
     },
     "execution_count": 67,
     "metadata": {},
     "output_type": "execute_result"
    }
   ],
   "source": [
    "pd.isnull(movie_df['score']).head()"
   ]
  },
  {
   "cell_type": "code",
   "execution_count": 68,
   "metadata": {
    "collapsed": false
   },
   "outputs": [
    {
     "data": {
      "text/html": [
       "<div>\n",
       "<table border=\"1\" class=\"dataframe\">\n",
       "  <thead>\n",
       "    <tr style=\"text-align: right;\">\n",
       "      <th></th>\n",
       "      <th>title</th>\n",
       "      <th>score</th>\n",
       "      <th>genre</th>\n",
       "      <th>running time</th>\n",
       "      <th>actors</th>\n",
       "      <th>score_label</th>\n",
       "    </tr>\n",
       "  </thead>\n",
       "  <tbody>\n",
       "    <tr>\n",
       "      <th>45</th>\n",
       "      <td>Gloria (2014)</td>\n",
       "      <td>NaN</td>\n",
       "      <td>Biography/Drama/Music</td>\n",
       "      <td>126 min</td>\n",
       "      <td>Sofía Espinosa/Marco Pérez/Tatiana del Real/Ka...</td>\n",
       "      <td>not supported</td>\n",
       "    </tr>\n",
       "    <tr>\n",
       "      <th>51</th>\n",
       "      <td>A la mala (2015)</td>\n",
       "      <td>NaN</td>\n",
       "      <td>Comedy</td>\n",
       "      <td>99 min</td>\n",
       "      <td>Aislinn Derbez/Mauricio Ochmann/Aurora Papile/...</td>\n",
       "      <td>not supported</td>\n",
       "    </tr>\n",
       "    <tr>\n",
       "      <th>59</th>\n",
       "      <td>Compared to What: The Improbable Journey of Ba...</td>\n",
       "      <td>NaN</td>\n",
       "      <td>Documentary/Biography/Drama</td>\n",
       "      <td>87 min</td>\n",
       "      <td>Barney Frank/Spencer Bachus/Mike Barnicle/Neil...</td>\n",
       "      <td>not supported</td>\n",
       "    </tr>\n",
       "    <tr>\n",
       "      <th>142</th>\n",
       "      <td>Chocolate City (2015)</td>\n",
       "      <td>NaN</td>\n",
       "      <td>Drama</td>\n",
       "      <td>91 min</td>\n",
       "      <td>Robert Ri'chard/Tyson Beckford/DeRay Davis/Viv...</td>\n",
       "      <td>not supported</td>\n",
       "    </tr>\n",
       "    <tr>\n",
       "      <th>195</th>\n",
       "      <td>Nowitzki: Der perfekte Wurf (2014)</td>\n",
       "      <td>NaN</td>\n",
       "      <td>Documentary/Biography/Sport</td>\n",
       "      <td>105 min</td>\n",
       "      <td>Dirk Nowitzki/Holger Geschwindner/Kobe Bryant/...</td>\n",
       "      <td>not supported</td>\n",
       "    </tr>\n",
       "  </tbody>\n",
       "</table>\n",
       "</div>"
      ],
      "text/plain": [
       "                                                 title  score  \\\n",
       "45                                       Gloria (2014)    NaN   \n",
       "51                                    A la mala (2015)    NaN   \n",
       "59   Compared to What: The Improbable Journey of Ba...    NaN   \n",
       "142                              Chocolate City (2015)    NaN   \n",
       "195                 Nowitzki: Der perfekte Wurf (2014)    NaN   \n",
       "\n",
       "                           genre running time  \\\n",
       "45         Biography/Drama/Music      126 min   \n",
       "51                        Comedy       99 min   \n",
       "59   Documentary/Biography/Drama       87 min   \n",
       "142                        Drama       91 min   \n",
       "195  Documentary/Biography/Sport      105 min   \n",
       "\n",
       "                                                actors    score_label  \n",
       "45   Sofía Espinosa/Marco Pérez/Tatiana del Real/Ka...  not supported  \n",
       "51   Aislinn Derbez/Mauricio Ochmann/Aurora Papile/...  not supported  \n",
       "59   Barney Frank/Spencer Bachus/Mike Barnicle/Neil...  not supported  \n",
       "142  Robert Ri'chard/Tyson Beckford/DeRay Davis/Viv...  not supported  \n",
       "195  Dirk Nowitzki/Holger Geschwindner/Kobe Bryant/...  not supported  "
      ]
     },
     "execution_count": 68,
     "metadata": {},
     "output_type": "execute_result"
    }
   ],
   "source": [
    "# nan row들 확인하기\n",
    "movie_df[pd.isnull(movie_df['score'])].head()"
   ]
  },
  {
   "cell_type": "markdown",
   "metadata": {},
   "source": [
    "### duplicated\n",
    "\n",
    "DataFrame에 중복되는 데이터(같은 row)가 있을때, 중복 데이터들을 drop하기 위해 사용합니다."
   ]
  },
  {
   "cell_type": "code",
   "execution_count": 69,
   "metadata": {
    "collapsed": true
   },
   "outputs": [],
   "source": [
    "from pandas import DataFrame, Series\n",
    "import numpy as np\n",
    "import pandas as pd"
   ]
  },
  {
   "cell_type": "code",
   "execution_count": 70,
   "metadata": {
    "collapsed": false
   },
   "outputs": [
    {
     "data": {
      "text/html": [
       "<div>\n",
       "<table border=\"1\" class=\"dataframe\">\n",
       "  <thead>\n",
       "    <tr style=\"text-align: right;\">\n",
       "      <th></th>\n",
       "      <th>x</th>\n",
       "      <th>y</th>\n",
       "    </tr>\n",
       "  </thead>\n",
       "  <tbody>\n",
       "    <tr>\n",
       "      <th>0</th>\n",
       "      <td>A</td>\n",
       "      <td>3</td>\n",
       "    </tr>\n",
       "    <tr>\n",
       "      <th>1</th>\n",
       "      <td>A</td>\n",
       "      <td>2</td>\n",
       "    </tr>\n",
       "    <tr>\n",
       "      <th>2</th>\n",
       "      <td>A</td>\n",
       "      <td>1</td>\n",
       "    </tr>\n",
       "    <tr>\n",
       "      <th>3</th>\n",
       "      <td>A</td>\n",
       "      <td>2</td>\n",
       "    </tr>\n",
       "    <tr>\n",
       "      <th>4</th>\n",
       "      <td>A</td>\n",
       "      <td>1</td>\n",
       "    </tr>\n",
       "    <tr>\n",
       "      <th>5</th>\n",
       "      <td>B</td>\n",
       "      <td>1</td>\n",
       "    </tr>\n",
       "    <tr>\n",
       "      <th>6</th>\n",
       "      <td>B</td>\n",
       "      <td>2</td>\n",
       "    </tr>\n",
       "    <tr>\n",
       "      <th>7</th>\n",
       "      <td>B</td>\n",
       "      <td>3</td>\n",
       "    </tr>\n",
       "    <tr>\n",
       "      <th>8</th>\n",
       "      <td>B</td>\n",
       "      <td>2</td>\n",
       "    </tr>\n",
       "    <tr>\n",
       "      <th>9</th>\n",
       "      <td>B</td>\n",
       "      <td>1</td>\n",
       "    </tr>\n",
       "  </tbody>\n",
       "</table>\n",
       "</div>"
      ],
      "text/plain": [
       "   x  y\n",
       "0  A  3\n",
       "1  A  2\n",
       "2  A  1\n",
       "3  A  2\n",
       "4  A  1\n",
       "5  B  1\n",
       "6  B  2\n",
       "7  B  3\n",
       "8  B  2\n",
       "9  B  1"
      ]
     },
     "execution_count": 70,
     "metadata": {},
     "output_type": "execute_result"
    }
   ],
   "source": [
    "df = DataFrame({\n",
    "        'x': ['A']*5 + ['B']*5,\n",
    "        'y': get_random_numbers(1,3,10)\n",
    "})\n",
    "df"
   ]
  },
  {
   "cell_type": "code",
   "execution_count": 71,
   "metadata": {
    "collapsed": false
   },
   "outputs": [
    {
     "data": {
      "text/plain": [
       "0    False\n",
       "1    False\n",
       "2    False\n",
       "3     True\n",
       "4     True\n",
       "5    False\n",
       "6    False\n",
       "7    False\n",
       "8     True\n",
       "9     True\n",
       "dtype: bool"
      ]
     },
     "execution_count": 71,
     "metadata": {},
     "output_type": "execute_result"
    }
   ],
   "source": [
    "df.duplicated()"
   ]
  },
  {
   "cell_type": "code",
   "execution_count": 72,
   "metadata": {
    "collapsed": false
   },
   "outputs": [
    {
     "data": {
      "text/html": [
       "<div>\n",
       "<table border=\"1\" class=\"dataframe\">\n",
       "  <thead>\n",
       "    <tr style=\"text-align: right;\">\n",
       "      <th></th>\n",
       "      <th>x</th>\n",
       "      <th>y</th>\n",
       "    </tr>\n",
       "  </thead>\n",
       "  <tbody>\n",
       "    <tr>\n",
       "      <th>0</th>\n",
       "      <td>A</td>\n",
       "      <td>3</td>\n",
       "    </tr>\n",
       "    <tr>\n",
       "      <th>1</th>\n",
       "      <td>A</td>\n",
       "      <td>2</td>\n",
       "    </tr>\n",
       "    <tr>\n",
       "      <th>2</th>\n",
       "      <td>A</td>\n",
       "      <td>1</td>\n",
       "    </tr>\n",
       "    <tr>\n",
       "      <th>5</th>\n",
       "      <td>B</td>\n",
       "      <td>1</td>\n",
       "    </tr>\n",
       "    <tr>\n",
       "      <th>6</th>\n",
       "      <td>B</td>\n",
       "      <td>2</td>\n",
       "    </tr>\n",
       "    <tr>\n",
       "      <th>7</th>\n",
       "      <td>B</td>\n",
       "      <td>3</td>\n",
       "    </tr>\n",
       "  </tbody>\n",
       "</table>\n",
       "</div>"
      ],
      "text/plain": [
       "   x  y\n",
       "0  A  3\n",
       "1  A  2\n",
       "2  A  1\n",
       "5  B  1\n",
       "6  B  2\n",
       "7  B  3"
      ]
     },
     "execution_count": 72,
     "metadata": {},
     "output_type": "execute_result"
    }
   ],
   "source": [
    "df.drop_duplicates()"
   ]
  },
  {
   "cell_type": "code",
   "execution_count": 73,
   "metadata": {
    "collapsed": false
   },
   "outputs": [
    {
     "data": {
      "text/html": [
       "<div>\n",
       "<table border=\"1\" class=\"dataframe\">\n",
       "  <thead>\n",
       "    <tr style=\"text-align: right;\">\n",
       "      <th></th>\n",
       "      <th>x</th>\n",
       "      <th>y</th>\n",
       "    </tr>\n",
       "  </thead>\n",
       "  <tbody>\n",
       "    <tr>\n",
       "      <th>0</th>\n",
       "      <td>A</td>\n",
       "      <td>3</td>\n",
       "    </tr>\n",
       "    <tr>\n",
       "      <th>5</th>\n",
       "      <td>B</td>\n",
       "      <td>1</td>\n",
       "    </tr>\n",
       "  </tbody>\n",
       "</table>\n",
       "</div>"
      ],
      "text/plain": [
       "   x  y\n",
       "0  A  3\n",
       "5  B  1"
      ]
     },
     "execution_count": 73,
     "metadata": {},
     "output_type": "execute_result"
    }
   ],
   "source": [
    "# x columns에서 중복된 녀석들 모두 제외 (기본적으로는 모든 columns 기준입니다. \n",
    "# 즉, 위의 경우 ['x','y']가 들어가 있는 것이죠.)\n",
    "df.drop_duplicates(['x'])"
   ]
  },
  {
   "cell_type": "code",
   "execution_count": 74,
   "metadata": {
    "collapsed": false
   },
   "outputs": [
    {
     "data": {
      "text/html": [
       "<div>\n",
       "<table border=\"1\" class=\"dataframe\">\n",
       "  <thead>\n",
       "    <tr style=\"text-align: right;\">\n",
       "      <th></th>\n",
       "      <th>x</th>\n",
       "      <th>y</th>\n",
       "    </tr>\n",
       "  </thead>\n",
       "  <tbody>\n",
       "    <tr>\n",
       "      <th>0</th>\n",
       "      <td>A</td>\n",
       "      <td>3</td>\n",
       "    </tr>\n",
       "    <tr>\n",
       "      <th>1</th>\n",
       "      <td>A</td>\n",
       "      <td>2</td>\n",
       "    </tr>\n",
       "    <tr>\n",
       "      <th>2</th>\n",
       "      <td>A</td>\n",
       "      <td>1</td>\n",
       "    </tr>\n",
       "  </tbody>\n",
       "</table>\n",
       "</div>"
      ],
      "text/plain": [
       "   x  y\n",
       "0  A  3\n",
       "1  A  2\n",
       "2  A  1"
      ]
     },
     "execution_count": 74,
     "metadata": {},
     "output_type": "execute_result"
    }
   ],
   "source": [
    "# y column에서 중복된 녀석들 모두 제외 (default로 맨 위 값을 고릅니다.)\n",
    "df.drop_duplicates(['y'])"
   ]
  },
  {
   "cell_type": "code",
   "execution_count": 75,
   "metadata": {
    "collapsed": false
   },
   "outputs": [
    {
     "data": {
      "text/html": [
       "<div>\n",
       "<table border=\"1\" class=\"dataframe\">\n",
       "  <thead>\n",
       "    <tr style=\"text-align: right;\">\n",
       "      <th></th>\n",
       "      <th>x</th>\n",
       "      <th>y</th>\n",
       "    </tr>\n",
       "  </thead>\n",
       "  <tbody>\n",
       "    <tr>\n",
       "      <th>7</th>\n",
       "      <td>B</td>\n",
       "      <td>3</td>\n",
       "    </tr>\n",
       "    <tr>\n",
       "      <th>8</th>\n",
       "      <td>B</td>\n",
       "      <td>2</td>\n",
       "    </tr>\n",
       "    <tr>\n",
       "      <th>9</th>\n",
       "      <td>B</td>\n",
       "      <td>1</td>\n",
       "    </tr>\n",
       "  </tbody>\n",
       "</table>\n",
       "</div>"
      ],
      "text/plain": [
       "   x  y\n",
       "7  B  3\n",
       "8  B  2\n",
       "9  B  1"
      ]
     },
     "execution_count": 75,
     "metadata": {},
     "output_type": "execute_result"
    }
   ],
   "source": [
    "# http://pandas.pydata.org/pandas-docs/stable/generated/pandas.DataFrame.drop_duplicates.html\n",
    "\n",
    "# keep에는 first, last, False 옵션이 들어갈 수 있습니다.\n",
    "df.drop_duplicates(['y'], keep='last')"
   ]
  },
  {
   "cell_type": "markdown",
   "metadata": {},
   "source": [
    "## 데이터 시각화\n",
    "\n",
    "이제 matplotlib 패키지를 사용하여, 데이터를 시각화하는 방법에 대해 배워보겠습니다. pyplot은 matplotlib 패키지의 코어 모듈로 plotting framework을 제공합니다. \n",
    "\n",
    "- [pyplot 문서](http://matplotlib.org/api/pyplot_api.html#matplotlib.pyplot.plot)\n",
    "- [실제 matplotlib.pyplot 소스코드](https://github.com/matplotlib/matplotlib/blob/master/lib/matplotlib/pyplot.py)"
   ]
  },
  {
   "cell_type": "code",
   "execution_count": 264,
   "metadata": {
    "collapsed": true
   },
   "outputs": [],
   "source": [
    "import pandas as pd\n",
    "from pandas import DataFrame, Series\n",
    "import numpy as np\n",
    "\n",
    "# matplotlib의 pyplot은 plotting framework을 제공합니다.\n",
    "import matplotlib.pyplot as plt\n",
    "%matplotlib inline"
   ]
  },
  {
   "cell_type": "markdown",
   "metadata": {},
   "source": [
    "### 라인 차트 그리기"
   ]
  },
  {
   "cell_type": "code",
   "execution_count": 269,
   "metadata": {
    "collapsed": false
   },
   "outputs": [
    {
     "data": {
      "text/plain": [
       "[<matplotlib.lines.Line2D at 0x11711d490>]"
      ]
     },
     "execution_count": 269,
     "metadata": {},
     "output_type": "execute_result"
    },
    {
     "data": {
      "image/png": "[encoded data removed]",
      "text/plain": [
       "<matplotlib.figure.Figure at 0x1170dc450>"
      ]
     },
     "metadata": {},
     "output_type": "display_data"
    }
   ],
   "source": [
    "# 가장 기본적인 라인 차트를 그려보겠습니다.\n",
    "x = [1,2,3]\n",
    "y = [5,7,4]\n",
    "\n",
    "plt.plot(x,y)"
   ]
  },
  {
   "cell_type": "code",
   "execution_count": 271,
   "metadata": {
    "collapsed": false
   },
   "outputs": [
    {
     "data": {
      "text/plain": [
       "[<matplotlib.lines.Line2D at 0x113d0c590>]"
      ]
     },
     "execution_count": 271,
     "metadata": {},
     "output_type": "execute_result"
    },
    {
     "data": {
      "image/png": "[encoded data removed]",
      "text/plain": [
       "<matplotlib.figure.Figure at 0x113d0cb10>"
      ]
     },
     "metadata": {},
     "output_type": "display_data"
    }
   ],
   "source": [
    "# 여러개의 라인을 한꺼번에 그릴 수도 있습니다. \n",
    "# iPython에서는 Cell 단위로 랜더링을 한번에 해서, plt.show() 합니다.\n",
    "x = [1,2,3]\n",
    "y = [5,7,4]\n",
    "\n",
    "x2 = [1,2,3]\n",
    "y2 = [10,14,12]\n",
    "\n",
    "plt.plot(x,y)\n",
    "plt.plot(x2,y2)\n",
    "\n",
    "# plt.show() # pyCharm에서 보고 싶으면 plt.show() 명령어가 필요합니다."
   ]
  },
  {
   "cell_type": "code",
   "execution_count": 273,
   "metadata": {
    "collapsed": false
   },
   "outputs": [
    {
     "data": {
      "text/plain": [
       "<matplotlib.legend.Legend at 0x113b86550>"
      ]
     },
     "execution_count": 273,
     "metadata": {},
     "output_type": "execute_result"
    },
    {
     "data": {
      "image/png": "[encoded data removed]",
      "text/plain": [
       "<matplotlib.figure.Figure at 0x113d72190>"
      ]
     },
     "metadata": {},
     "output_type": "display_data"
    }
   ],
   "source": [
    "# 라인에 이름을 붙일 수 있습니다.\n",
    "# 한글을 적으려면 \n",
    "# 1. '한글'.decode('utf-8')\n",
    "# 2. matplotlib.rc('font', family='AppleGothic') # for 맥사용자\n",
    "plt.plot(x, y, label='First Line')\n",
    "plt.plot(x2, y2, label='Second Line')\n",
    "plt.legend()"
   ]
  },
  {
   "cell_type": "code",
   "execution_count": 274,
   "metadata": {
    "collapsed": false
   },
   "outputs": [
    {
     "data": {
      "text/plain": [
       "<matplotlib.legend.Legend at 0x1103e2190>"
      ]
     },
     "execution_count": 274,
     "metadata": {},
     "output_type": "execute_result"
    },
    {
     "data": {
      "image/png": "[encoded data removed]",
      "text/plain": [
       "<matplotlib.figure.Figure at 0x113ad17d0>"
      ]
     },
     "metadata": {},
     "output_type": "display_data"
    }
   ],
   "source": [
    "plt.plot(x,y,label='First Line')\n",
    "plt.plot(x2,y2,label='Second Line')\n",
    "\n",
    "# 축의 이름을 정하거나\n",
    "plt.xlabel(\"Plot number\")\n",
    "plt.ylabel(\"Important var\")\n",
    "\n",
    "# 차트의 제목을 정할 수 있습니다.\n",
    "plt.title(\"See this chart\")\n",
    "\n",
    "# default는 오른쪽 위고, 위치를 지정할 수 있습니다.\n",
    "plt.legend(loc='upper left')\n",
    "\n",
    "# \tright\n",
    "# \tcenter left\n",
    "# \tupper right\n",
    "# \tlower right\n",
    "# \tbest\n",
    "# \tcenter\n",
    "# \tlower left\n",
    "# \tcenter right\n",
    "# \tupper left\n",
    "# \tupper center\n",
    "# \tlower center"
   ]
  },
  {
   "cell_type": "markdown",
   "metadata": {},
   "source": [
    "### 해보기\n",
    "\n",
    "```\n",
    "line 1\n",
    "- x: 1~12 \n",
    "- y: get_random_numbers(...)\n",
    "\n",
    "line 2\n",
    "- x: 1~12\n",
    "- y: get_random_numbers(...)\n",
    "\n",
    "title: Criminals\n",
    "line 1 label: Seoul\n",
    "line 2 label: Pusan\n",
    "xlabel: Month\n",
    "ylabel: Number of Criminals\n",
    "legend: 오른쪽 아래\n",
    "```"
   ]
  },
  {
   "cell_type": "code",
   "execution_count": 275,
   "metadata": {
    "collapsed": true
   },
   "outputs": [],
   "source": [
    "# x1 = ...\n",
    "# y1 = ...\n",
    "\n",
    "# x2 = ...\n",
    "# y2 = ...\n",
    "\n",
    "# plt.plot(..)\n",
    "# plt.plot(..)\n",
    "\n",
    "# plt.title(..)\n",
    "# plt.xlabel(..)\n",
    "# plt.ylabel(..)\n",
    "# plt.legend()"
   ]
  },
  {
   "cell_type": "markdown",
   "metadata": {},
   "source": [
    "### 2015, 2016 강수량 랜덤 데이터를 생성해봅시다."
   ]
  },
  {
   "cell_type": "code",
   "execution_count": 400,
   "metadata": {
    "collapsed": false
   },
   "outputs": [
    {
     "data": {
      "text/plain": [
       "<matplotlib.legend.Legend at 0x118ab6690>"
      ]
     },
     "execution_count": 400,
     "metadata": {},
     "output_type": "execute_result"
    },
    {
     "data": {
      "image/png": "[encoded data removed]",
      "text/plain": [
       "<matplotlib.figure.Figure at 0x1174b0e90>"
      ]
     },
     "metadata": {},
     "output_type": "display_data"
    }
   ],
   "source": [
    "x = range(1,13)\n",
    "y1 = get_random_numbers(0,1800,12)\n",
    "y2 = get_random_numbers(0,1800,12)\n",
    "\n",
    "plt.plot(x,y1,label='2015')\n",
    "plt.plot(x,y2,label='2016')\n",
    "\n",
    "plt.title('Rainfall')\n",
    "plt.xlabel('Month')\n",
    "plt.ylabel('mm')\n",
    "plt.legend()"
   ]
  },
  {
   "cell_type": "markdown",
   "metadata": {},
   "source": [
    "### x,y 축 범위 지정 및 이미지 저장"
   ]
  },
  {
   "cell_type": "code",
   "execution_count": 401,
   "metadata": {
    "collapsed": false
   },
   "outputs": [
    {
     "data": {
      "image/png": "[encoded data removed]",
      "text/plain": [
       "<matplotlib.figure.Figure at 0x116e12f50>"
      ]
     },
     "metadata": {},
     "output_type": "display_data"
    }
   ],
   "source": [
    "plt.plot(x,y1,label='2015')\n",
    "plt.plot(x,y2,label='2016')\n",
    "\n",
    "plt.title('Rainfall')\n",
    "plt.xlabel('Month')\n",
    "plt.ylabel('mm')\n",
    "plt.legend()\n",
    "\n",
    "# X,Y축 범위를 조절합니다.\n",
    "plt.xlim([1,12])\n",
    "plt.ylim([0,2000])\n",
    "\n",
    "# savefig 합니다.\n",
    "plt.savefig('rainfall.png')"
   ]
  },
  {
   "cell_type": "markdown",
   "metadata": {},
   "source": [
    "### plot 색깔 및 속성 지정"
   ]
  },
  {
   "cell_type": "code",
   "execution_count": 402,
   "metadata": {
    "collapsed": false
   },
   "outputs": [
    {
     "data": {
      "text/plain": [
       "(0, 2000)"
      ]
     },
     "execution_count": 402,
     "metadata": {},
     "output_type": "execute_result"
    },
    {
     "data": {
      "image/png": "[encoded data removed]",
      "text/plain": [
       "<matplotlib.figure.Figure at 0x117f03f50>"
      ]
     },
     "metadata": {},
     "output_type": "display_data"
    }
   ],
   "source": [
    "# http://matplotlib.org/api/pyplot_api.html#matplotlib.pyplot.plot\n",
    "plt.plot(x,y1,'ro-',label='2015', color='#00a0c6')\n",
    "plt.plot(x,y2,'bo-',label='2016')\n",
    "\n",
    "plt.title('Rainfall')\n",
    "plt.xlabel('Month')\n",
    "plt.ylabel('mm')\n",
    "plt.legend()\n",
    "\n",
    "# X,Y축 범위를 조절합니다.\n",
    "plt.xlim([1,12])\n",
    "plt.ylim([0,2000])"
   ]
  },
  {
   "cell_type": "markdown",
   "metadata": {},
   "source": [
    "### x tick을 정해줍니다."
   ]
  },
  {
   "cell_type": "code",
   "execution_count": 403,
   "metadata": {
    "collapsed": false
   },
   "outputs": [
    {
     "data": {
      "image/png": "[encoded data removed]",
      "text/plain": [
       "<matplotlib.figure.Figure at 0x119132750>"
      ]
     },
     "metadata": {},
     "output_type": "display_data"
    }
   ],
   "source": [
    "plt.plot(x,y1,'ro-',label='2015', color='#00a0c6')\n",
    "plt.plot(x,y2,'bo-',label='2016')\n",
    "\n",
    "plt.title('Rainfall')\n",
    "plt.xlabel('Month')\n",
    "plt.ylabel('mm')\n",
    "plt.legend()\n",
    "\n",
    "# X,Y축 범위를 조절합니다.\n",
    "plt.xlim([1,12])\n",
    "plt.ylim([0,2000])\n",
    "\n",
    "# x tick을 정합니다.\n",
    "plt.xticks(x)\n",
    "\n",
    "# 다른 출력 결과를 보고 싶지 않으면 plt.show()하시면 됩니다.\n",
    "plt.show()"
   ]
  },
  {
   "cell_type": "markdown",
   "metadata": {},
   "source": [
    "### margin 조절"
   ]
  },
  {
   "cell_type": "code",
   "execution_count": 404,
   "metadata": {
    "collapsed": true
   },
   "outputs": [],
   "source": [
    "# 마이너스 부호(-)가 plot안에서 깨지는 경우가 있는데 아래와 같이 설정해주면 됩니다.\n",
    "matplotlib.rcParams['axes.unicode_minus'] = False"
   ]
  },
  {
   "cell_type": "code",
   "execution_count": 405,
   "metadata": {
    "collapsed": false
   },
   "outputs": [
    {
     "data": {
      "text/plain": [
       "(0.0, 13.0, -300.0, 2300.0)"
      ]
     },
     "execution_count": 405,
     "metadata": {},
     "output_type": "execute_result"
    },
    {
     "data": {
      "image/png": "[encoded data removed]",
      "text/plain": [
       "<matplotlib.figure.Figure at 0x118506790>"
      ]
     },
     "metadata": {},
     "output_type": "display_data"
    }
   ],
   "source": [
    "plt.plot(x,y1,'ro-',label='2015', color='#00a0c6')\n",
    "plt.plot(x,y2,'bo-',label='2016')\n",
    "\n",
    "plt.title('Rainfall')\n",
    "plt.xlabel('Month')\n",
    "plt.ylabel('mm')\n",
    "plt.legend()\n",
    "\n",
    "# X,Y축 범위를 조절합니다.\n",
    "plt.xlim([1,12])\n",
    "plt.ylim([0,2000])\n",
    "\n",
    "# x tick을 정합니다.\n",
    "plt.xticks(x)\n",
    "\n",
    "# margin을 정해줍니다.\n",
    "plot_x_margin = 1\n",
    "plot_y_margin = 300\n",
    "xl, xr, yl, yr = plt.axis()\n",
    "plt.axis((xl - plot_x_margin,\n",
    "          xr + plot_x_margin,\n",
    "          yl - plot_y_margin,\n",
    "          yr + plot_y_margin))"
   ]
  },
  {
   "cell_type": "markdown",
   "metadata": {},
   "source": [
    "### axes 라인(spines) 지우기"
   ]
  },
  {
   "cell_type": "code",
   "execution_count": 406,
   "metadata": {
    "collapsed": false
   },
   "outputs": [
    {
     "data": {
      "image/png": "[encoded data removed]",
      "text/plain": [
       "<matplotlib.figure.Figure at 0x116cc23d0>"
      ]
     },
     "metadata": {},
     "output_type": "display_data"
    }
   ],
   "source": [
    "plt.plot(x,y1,'ro-',label='2015', color='#00a0c6')\n",
    "plt.plot(x,y2,'bo-',label='2016')\n",
    "\n",
    "plt.title('Rainfall')\n",
    "plt.xlabel('Month')\n",
    "plt.ylabel('mm')\n",
    "plt.legend()\n",
    "\n",
    "# X,Y축 범위를 조절합니다.\n",
    "plt.xlim([1,12])\n",
    "plt.ylim([0,2000])\n",
    "\n",
    "# x tick을 정합니다.\n",
    "plt.xticks(x)\n",
    "\n",
    "# margin을 정해줍니다.\n",
    "plot_x_margin = 1\n",
    "plot_y_margin = 300\n",
    "xl, xr, yl, yr = plt.axis()\n",
    "plt.axis((xl - plot_x_margin,\n",
    "          xr + plot_x_margin,\n",
    "          yl - plot_y_margin,\n",
    "          yr + plot_y_margin))\n",
    "\n",
    "# spine 지우기\n",
    "ax = plt.subplot(111)    \n",
    "ax.spines[\"top\"].set_visible(False)    \n",
    "ax.spines[\"bottom\"].set_visible(False)    \n",
    "ax.spines[\"right\"].set_visible(False)    \n",
    "ax.spines[\"left\"].set_visible(False) \n",
    "\n",
    "# tick 지우기\n",
    "plt.tick_params(bottom=\"off\", top=\"off\", left=\"off\", right=\"off\",\n",
    "                labelbottom=\"on\", labelleft=\"on\")"
   ]
  },
  {
   "cell_type": "code",
   "execution_count": 409,
   "metadata": {
    "collapsed": false
   },
   "outputs": [
    {
     "data": {
      "image/png": "[encoded data removed]",
      "text/plain": [
       "<matplotlib.figure.Figure at 0x1151998d0>"
      ]
     },
     "metadata": {},
     "output_type": "display_data"
    }
   ],
   "source": [
    "# figure size => (w,h) in inch\n",
    "plt.figure(figsize=(10,5))\n",
    "\n",
    "# 색깔 및 다른 속성들도 조금 더 바꿔보죠.\n",
    "plt.plot(x,y1,'ro-',label='2015', color='#00a0c6', linewidth=3, alpha=0.5)\n",
    "plt.plot(x,y2,'bo-',label='2016', color='#0075ff', linewidth=3, alpha=0.5)\n",
    "\n",
    "plt.title('Rainfall')\n",
    "plt.xlabel('Month')\n",
    "plt.ylabel('mm')\n",
    "plt.legend(['2016','2015'])\n",
    "\n",
    "# X,Y축 범위를 조절합니다.\n",
    "plt.xlim([1,12])\n",
    "plt.ylim([0,2000])\n",
    "\n",
    "# x tick을 정합니다.\n",
    "plt.xticks(x)\n",
    "\n",
    "# margin을 정해줍니다.\n",
    "plot_x_margin = 1\n",
    "plot_y_margin = 300\n",
    "xl, xr, yl, yr = plt.axis()\n",
    "plt.axis((xl - plot_x_margin,\n",
    "          xr + plot_x_margin,\n",
    "          yl - plot_y_margin,\n",
    "          yr + plot_y_margin))\n",
    "\n",
    "# spine 지우기\n",
    "ax = plt.subplot(111)    \n",
    "ax.spines[\"top\"].set_visible(False)    \n",
    "ax.spines[\"bottom\"].set_visible(False)    \n",
    "ax.spines[\"right\"].set_visible(False)    \n",
    "ax.spines[\"left\"].set_visible(False) \n",
    "\n",
    "# grid 보여주기\n",
    "plt.grid()\n",
    "\n",
    "# tick 지우기\n",
    "plt.tick_params(bottom=\"off\", top=\"off\", left=\"off\", right=\"off\",\n",
    "                labelbottom=\"on\", labelleft=\"on\")"
   ]
  },
  {
   "cell_type": "markdown",
   "metadata": {},
   "source": [
    "### figure, subplot 이해하기\n",
    "\n",
    "http://matplotlib.org/api/pyplot_api.html#matplotlib.pyplot.subplot"
   ]
  },
  {
   "cell_type": "code",
   "execution_count": 387,
   "metadata": {
    "collapsed": false
   },
   "outputs": [
    {
     "data": {
      "image/png": "[encoded data removed]",
      "text/plain": [
       "<matplotlib.figure.Figure at 0x11899a390>"
      ]
     },
     "metadata": {},
     "output_type": "display_data"
    }
   ],
   "source": [
    "x1 = np.linspace(0.0, 5.0)\n",
    "x2 = np.linspace(0.0, 2.0)\n",
    "\n",
    "y1 = np.cos(2 * np.pi * x1) * np.exp(-x1)\n",
    "y2 = np.cos(2 * np.pi * x2)\n",
    "\n",
    "plt.subplot(2, 1, 1)\n",
    "plt.plot(x1, y1, 'yo-')\n",
    "plt.title('A tale of 2 subplots')\n",
    "plt.ylabel('Damped oscillation')\n",
    "\n",
    "plt.subplot(2, 1, 2)\n",
    "plt.plot(x2, y2, 'r.-')\n",
    "plt.xlabel('time (s)')\n",
    "plt.ylabel('Undamped')\n",
    "\n",
    "plt.show()"
   ]
  },
  {
   "cell_type": "markdown",
   "metadata": {},
   "source": [
    "### 날씨 데이터 받아서 라인 차트 만들기"
   ]
  },
  {
   "cell_type": "code",
   "execution_count": 414,
   "metadata": {
    "collapsed": false
   },
   "outputs": [],
   "source": [
    "# http://data.seoul.go.kr/openinf/linkview.jsp?infId=OA-11782\n",
    "# data를 받아옵니다.\n",
    "rain_df = pd.read_excel('./data/OctagonExcel.xls')"
   ]
  },
  {
   "cell_type": "code",
   "execution_count": 415,
   "metadata": {
    "collapsed": false
   },
   "outputs": [
    {
     "data": {
      "text/html": [
       "<div>\n",
       "<table border=\"1\" class=\"dataframe\">\n",
       "  <thead>\n",
       "    <tr style=\"text-align: right;\">\n",
       "      <th></th>\n",
       "      <th>기간</th>\n",
       "      <th>구분</th>\n",
       "      <th>계</th>\n",
       "      <th>1월</th>\n",
       "      <th>2월</th>\n",
       "      <th>3월</th>\n",
       "      <th>4월</th>\n",
       "      <th>5월</th>\n",
       "      <th>6월</th>\n",
       "      <th>7월</th>\n",
       "      <th>8월</th>\n",
       "      <th>9월</th>\n",
       "      <th>10월</th>\n",
       "      <th>11월</th>\n",
       "      <th>12월</th>\n",
       "    </tr>\n",
       "  </thead>\n",
       "  <tbody>\n",
       "    <tr>\n",
       "      <th>0</th>\n",
       "      <td>2008</td>\n",
       "      <td>강수량</td>\n",
       "      <td>1356.3</td>\n",
       "      <td>17.7</td>\n",
       "      <td>15.0</td>\n",
       "      <td>53.9</td>\n",
       "      <td>38.5</td>\n",
       "      <td>97.7</td>\n",
       "      <td>165.0</td>\n",
       "      <td>530.8</td>\n",
       "      <td>251.2</td>\n",
       "      <td>99.2</td>\n",
       "      <td>41.8</td>\n",
       "      <td>52.4</td>\n",
       "      <td>25.9</td>\n",
       "    </tr>\n",
       "    <tr>\n",
       "      <th>1</th>\n",
       "      <td>2009</td>\n",
       "      <td>강수량</td>\n",
       "      <td>1564.0</td>\n",
       "      <td>5.7</td>\n",
       "      <td>36.9</td>\n",
       "      <td>63.9</td>\n",
       "      <td>66.5</td>\n",
       "      <td>109.0</td>\n",
       "      <td>132.0</td>\n",
       "      <td>659.4</td>\n",
       "      <td>285.3</td>\n",
       "      <td>64.5</td>\n",
       "      <td>66.9</td>\n",
       "      <td>52.4</td>\n",
       "      <td>21.5</td>\n",
       "    </tr>\n",
       "    <tr>\n",
       "      <th>2</th>\n",
       "      <td>2010</td>\n",
       "      <td>강수량</td>\n",
       "      <td>2043.5</td>\n",
       "      <td>29.3</td>\n",
       "      <td>55.3</td>\n",
       "      <td>82.5</td>\n",
       "      <td>62.8</td>\n",
       "      <td>124.0</td>\n",
       "      <td>127.6</td>\n",
       "      <td>239.2</td>\n",
       "      <td>598.7</td>\n",
       "      <td>671.5</td>\n",
       "      <td>25.6</td>\n",
       "      <td>10.9</td>\n",
       "      <td>16.1</td>\n",
       "    </tr>\n",
       "    <tr>\n",
       "      <th>3</th>\n",
       "      <td>2011</td>\n",
       "      <td>강수량</td>\n",
       "      <td>2039.3</td>\n",
       "      <td>8.9</td>\n",
       "      <td>29.1</td>\n",
       "      <td>14.6</td>\n",
       "      <td>110.1</td>\n",
       "      <td>53.4</td>\n",
       "      <td>404.5</td>\n",
       "      <td>1131.0</td>\n",
       "      <td>166.8</td>\n",
       "      <td>25.6</td>\n",
       "      <td>32.0</td>\n",
       "      <td>56.2</td>\n",
       "      <td>7.1</td>\n",
       "    </tr>\n",
       "    <tr>\n",
       "      <th>4</th>\n",
       "      <td>2012</td>\n",
       "      <td>강수량</td>\n",
       "      <td>1646.3</td>\n",
       "      <td>6.7</td>\n",
       "      <td>0.8</td>\n",
       "      <td>47.4</td>\n",
       "      <td>157.0</td>\n",
       "      <td>8.2</td>\n",
       "      <td>91.9</td>\n",
       "      <td>448.9</td>\n",
       "      <td>464.9</td>\n",
       "      <td>212.0</td>\n",
       "      <td>99.3</td>\n",
       "      <td>67.8</td>\n",
       "      <td>41.4</td>\n",
       "    </tr>\n",
       "    <tr>\n",
       "      <th>5</th>\n",
       "      <td>2013</td>\n",
       "      <td>강수량</td>\n",
       "      <td>1403.8</td>\n",
       "      <td>22.1</td>\n",
       "      <td>74.1</td>\n",
       "      <td>27.3</td>\n",
       "      <td>71.7</td>\n",
       "      <td>132.0</td>\n",
       "      <td>28.3</td>\n",
       "      <td>676.2</td>\n",
       "      <td>148.6</td>\n",
       "      <td>138.5</td>\n",
       "      <td>13.5</td>\n",
       "      <td>46.8</td>\n",
       "      <td>24.7</td>\n",
       "    </tr>\n",
       "    <tr>\n",
       "      <th>6</th>\n",
       "      <td>2014</td>\n",
       "      <td>강수량</td>\n",
       "      <td>808.9</td>\n",
       "      <td>13.0</td>\n",
       "      <td>16.2</td>\n",
       "      <td>7.2</td>\n",
       "      <td>31.0</td>\n",
       "      <td>63.0</td>\n",
       "      <td>98.1</td>\n",
       "      <td>207.9</td>\n",
       "      <td>172.8</td>\n",
       "      <td>88.1</td>\n",
       "      <td>52.2</td>\n",
       "      <td>41.5</td>\n",
       "      <td>17.9</td>\n",
       "    </tr>\n",
       "    <tr>\n",
       "      <th>7</th>\n",
       "      <td>NaN</td>\n",
       "      <td>NaN</td>\n",
       "      <td>NaN</td>\n",
       "      <td>NaN</td>\n",
       "      <td>NaN</td>\n",
       "      <td>NaN</td>\n",
       "      <td>NaN</td>\n",
       "      <td>NaN</td>\n",
       "      <td>NaN</td>\n",
       "      <td>NaN</td>\n",
       "      <td>NaN</td>\n",
       "      <td>NaN</td>\n",
       "      <td>NaN</td>\n",
       "      <td>NaN</td>\n",
       "      <td>NaN</td>\n",
       "    </tr>\n",
       "  </tbody>\n",
       "</table>\n",
       "</div>"
      ],
      "text/plain": [
       "     기간   구분       계    1월    2월    3월     4월     5월     6월      7월     8월  \\\n",
       "0  2008  강수량  1356.3  17.7  15.0  53.9   38.5   97.7  165.0   530.8  251.2   \n",
       "1  2009  강수량  1564.0   5.7  36.9  63.9   66.5  109.0  132.0   659.4  285.3   \n",
       "2  2010  강수량  2043.5  29.3  55.3  82.5   62.8  124.0  127.6   239.2  598.7   \n",
       "3  2011  강수량  2039.3   8.9  29.1  14.6  110.1   53.4  404.5  1131.0  166.8   \n",
       "4  2012  강수량  1646.3   6.7   0.8  47.4  157.0    8.2   91.9   448.9  464.9   \n",
       "5  2013  강수량  1403.8  22.1  74.1  27.3   71.7  132.0   28.3   676.2  148.6   \n",
       "6  2014  강수량   808.9  13.0  16.2   7.2   31.0   63.0   98.1   207.9  172.8   \n",
       "7   NaN  NaN     NaN   NaN   NaN   NaN    NaN    NaN    NaN     NaN    NaN   \n",
       "\n",
       "      9월   10월   11월   12월  \n",
       "0   99.2  41.8  52.4  25.9  \n",
       "1   64.5  66.9  52.4  21.5  \n",
       "2  671.5  25.6  10.9  16.1  \n",
       "3   25.6  32.0  56.2   7.1  \n",
       "4  212.0  99.3  67.8  41.4  \n",
       "5  138.5  13.5  46.8  24.7  \n",
       "6   88.1  52.2  41.5  17.9  \n",
       "7    NaN   NaN   NaN   NaN  "
      ]
     },
     "execution_count": 415,
     "metadata": {},
     "output_type": "execute_result"
    }
   ],
   "source": [
    "rain_df"
   ]
  },
  {
   "cell_type": "code",
   "execution_count": 420,
   "metadata": {
    "collapsed": false
   },
   "outputs": [],
   "source": [
    "# nan인 row는 버립니다.\n",
    "rain_df.dropna(inplace=True)"
   ]
  },
  {
   "cell_type": "code",
   "execution_count": 421,
   "metadata": {
    "collapsed": false
   },
   "outputs": [
    {
     "data": {
      "text/html": [
       "<div>\n",
       "<table border=\"1\" class=\"dataframe\">\n",
       "  <thead>\n",
       "    <tr style=\"text-align: right;\">\n",
       "      <th></th>\n",
       "      <th>기간</th>\n",
       "      <th>구분</th>\n",
       "      <th>계</th>\n",
       "      <th>1월</th>\n",
       "      <th>2월</th>\n",
       "      <th>3월</th>\n",
       "      <th>4월</th>\n",
       "      <th>5월</th>\n",
       "      <th>6월</th>\n",
       "      <th>7월</th>\n",
       "      <th>8월</th>\n",
       "      <th>9월</th>\n",
       "      <th>10월</th>\n",
       "      <th>11월</th>\n",
       "      <th>12월</th>\n",
       "    </tr>\n",
       "  </thead>\n",
       "  <tbody>\n",
       "    <tr>\n",
       "      <th>0</th>\n",
       "      <td>2008</td>\n",
       "      <td>강수량</td>\n",
       "      <td>1356.3</td>\n",
       "      <td>17.7</td>\n",
       "      <td>15.0</td>\n",
       "      <td>53.9</td>\n",
       "      <td>38.5</td>\n",
       "      <td>97.7</td>\n",
       "      <td>165.0</td>\n",
       "      <td>530.8</td>\n",
       "      <td>251.2</td>\n",
       "      <td>99.2</td>\n",
       "      <td>41.8</td>\n",
       "      <td>52.4</td>\n",
       "      <td>25.9</td>\n",
       "    </tr>\n",
       "    <tr>\n",
       "      <th>1</th>\n",
       "      <td>2009</td>\n",
       "      <td>강수량</td>\n",
       "      <td>1564.0</td>\n",
       "      <td>5.7</td>\n",
       "      <td>36.9</td>\n",
       "      <td>63.9</td>\n",
       "      <td>66.5</td>\n",
       "      <td>109.0</td>\n",
       "      <td>132.0</td>\n",
       "      <td>659.4</td>\n",
       "      <td>285.3</td>\n",
       "      <td>64.5</td>\n",
       "      <td>66.9</td>\n",
       "      <td>52.4</td>\n",
       "      <td>21.5</td>\n",
       "    </tr>\n",
       "    <tr>\n",
       "      <th>2</th>\n",
       "      <td>2010</td>\n",
       "      <td>강수량</td>\n",
       "      <td>2043.5</td>\n",
       "      <td>29.3</td>\n",
       "      <td>55.3</td>\n",
       "      <td>82.5</td>\n",
       "      <td>62.8</td>\n",
       "      <td>124.0</td>\n",
       "      <td>127.6</td>\n",
       "      <td>239.2</td>\n",
       "      <td>598.7</td>\n",
       "      <td>671.5</td>\n",
       "      <td>25.6</td>\n",
       "      <td>10.9</td>\n",
       "      <td>16.1</td>\n",
       "    </tr>\n",
       "    <tr>\n",
       "      <th>3</th>\n",
       "      <td>2011</td>\n",
       "      <td>강수량</td>\n",
       "      <td>2039.3</td>\n",
       "      <td>8.9</td>\n",
       "      <td>29.1</td>\n",
       "      <td>14.6</td>\n",
       "      <td>110.1</td>\n",
       "      <td>53.4</td>\n",
       "      <td>404.5</td>\n",
       "      <td>1131.0</td>\n",
       "      <td>166.8</td>\n",
       "      <td>25.6</td>\n",
       "      <td>32.0</td>\n",
       "      <td>56.2</td>\n",
       "      <td>7.1</td>\n",
       "    </tr>\n",
       "    <tr>\n",
       "      <th>4</th>\n",
       "      <td>2012</td>\n",
       "      <td>강수량</td>\n",
       "      <td>1646.3</td>\n",
       "      <td>6.7</td>\n",
       "      <td>0.8</td>\n",
       "      <td>47.4</td>\n",
       "      <td>157.0</td>\n",
       "      <td>8.2</td>\n",
       "      <td>91.9</td>\n",
       "      <td>448.9</td>\n",
       "      <td>464.9</td>\n",
       "      <td>212.0</td>\n",
       "      <td>99.3</td>\n",
       "      <td>67.8</td>\n",
       "      <td>41.4</td>\n",
       "    </tr>\n",
       "    <tr>\n",
       "      <th>5</th>\n",
       "      <td>2013</td>\n",
       "      <td>강수량</td>\n",
       "      <td>1403.8</td>\n",
       "      <td>22.1</td>\n",
       "      <td>74.1</td>\n",
       "      <td>27.3</td>\n",
       "      <td>71.7</td>\n",
       "      <td>132.0</td>\n",
       "      <td>28.3</td>\n",
       "      <td>676.2</td>\n",
       "      <td>148.6</td>\n",
       "      <td>138.5</td>\n",
       "      <td>13.5</td>\n",
       "      <td>46.8</td>\n",
       "      <td>24.7</td>\n",
       "    </tr>\n",
       "    <tr>\n",
       "      <th>6</th>\n",
       "      <td>2014</td>\n",
       "      <td>강수량</td>\n",
       "      <td>808.9</td>\n",
       "      <td>13.0</td>\n",
       "      <td>16.2</td>\n",
       "      <td>7.2</td>\n",
       "      <td>31.0</td>\n",
       "      <td>63.0</td>\n",
       "      <td>98.1</td>\n",
       "      <td>207.9</td>\n",
       "      <td>172.8</td>\n",
       "      <td>88.1</td>\n",
       "      <td>52.2</td>\n",
       "      <td>41.5</td>\n",
       "      <td>17.9</td>\n",
       "    </tr>\n",
       "  </tbody>\n",
       "</table>\n",
       "</div>"
      ],
      "text/plain": [
       "     기간   구분       계    1월    2월    3월     4월     5월     6월      7월     8월  \\\n",
       "0  2008  강수량  1356.3  17.7  15.0  53.9   38.5   97.7  165.0   530.8  251.2   \n",
       "1  2009  강수량  1564.0   5.7  36.9  63.9   66.5  109.0  132.0   659.4  285.3   \n",
       "2  2010  강수량  2043.5  29.3  55.3  82.5   62.8  124.0  127.6   239.2  598.7   \n",
       "3  2011  강수량  2039.3   8.9  29.1  14.6  110.1   53.4  404.5  1131.0  166.8   \n",
       "4  2012  강수량  1646.3   6.7   0.8  47.4  157.0    8.2   91.9   448.9  464.9   \n",
       "5  2013  강수량  1403.8  22.1  74.1  27.3   71.7  132.0   28.3   676.2  148.6   \n",
       "6  2014  강수량   808.9  13.0  16.2   7.2   31.0   63.0   98.1   207.9  172.8   \n",
       "\n",
       "      9월   10월   11월   12월  \n",
       "0   99.2  41.8  52.4  25.9  \n",
       "1   64.5  66.9  52.4  21.5  \n",
       "2  671.5  25.6  10.9  16.1  \n",
       "3   25.6  32.0  56.2   7.1  \n",
       "4  212.0  99.3  67.8  41.4  \n",
       "5  138.5  13.5  46.8  24.7  \n",
       "6   88.1  52.2  41.5  17.9  "
      ]
     },
     "execution_count": 421,
     "metadata": {},
     "output_type": "execute_result"
    }
   ],
   "source": [
    "rain_df"
   ]
  },
  {
   "cell_type": "code",
   "execution_count": 436,
   "metadata": {
    "collapsed": false
   },
   "outputs": [
    {
     "data": {
      "text/plain": [
       "Index([u'1월', u'2월', u'3월', u'4월', u'5월', u'6월', u'7월', u'8월', u'9월', u'10월',\n",
       "       u'11월', u'12월'],\n",
       "      dtype='object')"
      ]
     },
     "execution_count": 436,
     "metadata": {},
     "output_type": "execute_result"
    }
   ],
   "source": [
    "# line chart에 표기할 column들을 가져옵니다.\n",
    "months = rain_df.columns[3:]\n",
    "months"
   ]
  },
  {
   "cell_type": "code",
   "execution_count": 437,
   "metadata": {
    "collapsed": false
   },
   "outputs": [
    {
     "data": {
      "text/plain": [
       "1월      17.7\n",
       "2월        15\n",
       "3월      53.9\n",
       "4월      38.5\n",
       "5월      97.7\n",
       "6월       165\n",
       "7월     530.8\n",
       "8월     251.2\n",
       "9월      99.2\n",
       "10월     41.8\n",
       "11월     52.4\n",
       "12월     25.9\n",
       "Name: 0, dtype: object"
      ]
     },
     "execution_count": 437,
     "metadata": {},
     "output_type": "execute_result"
    }
   ],
   "source": [
    "# 시험적으로 하나의 데이터만 가져와서 그려봅시다.\n",
    "data_2008 = rain_df.ix[0][months]\n",
    "data_2008"
   ]
  },
  {
   "cell_type": "code",
   "execution_count": 447,
   "metadata": {
    "collapsed": false
   },
   "outputs": [
    {
     "data": {
      "text/plain": [
       "[<matplotlib.lines.Line2D at 0x11780d290>]"
      ]
     },
     "execution_count": 447,
     "metadata": {},
     "output_type": "execute_result"
    },
    {
     "data": {
      "image/png": "[encoded data removed]",
      "text/plain": [
       "<matplotlib.figure.Figure at 0x11780b210>"
      ]
     },
     "metadata": {},
     "output_type": "display_data"
    }
   ],
   "source": [
    "# 1부터 12까지 찍습니다.\n",
    "plt.plot(range(1,13), data_2008.values)"
   ]
  },
  {
   "cell_type": "code",
   "execution_count": 454,
   "metadata": {
    "collapsed": false
   },
   "outputs": [
    {
     "name": "stdout",
     "output_type": "stream",
     "text": [
      "0\n",
      "======================\n",
      "기간       2008\n",
      "구분        강수량\n",
      "계      1356.3\n",
      "1월       17.7\n",
      "2월         15\n",
      "3월       53.9\n",
      "4월       38.5\n",
      "5월       97.7\n",
      "6월        165\n",
      "7월      530.8\n",
      "8월      251.2\n",
      "9월       99.2\n",
      "10월      41.8\n",
      "11월      52.4\n",
      "12월      25.9\n",
      "Name: 0, dtype: object\n"
     ]
    }
   ],
   "source": [
    "# DataFrame에 iterrows를 하면 row를 iteration할 수 있습니다.\n",
    "for index, row in rain_df.iterrows():\n",
    "    print index\n",
    "    print '======================'\n",
    "    print row\n",
    "    break"
   ]
  },
  {
   "cell_type": "code",
   "execution_count": 456,
   "metadata": {
    "collapsed": false
   },
   "outputs": [
    {
     "data": {
      "text/plain": [
       "<matplotlib.legend.Legend at 0x110355750>"
      ]
     },
     "execution_count": 456,
     "metadata": {},
     "output_type": "execute_result"
    },
    {
     "data": {
      "image/png": "[encoded data removed]",
      "text/plain": [
       "<matplotlib.figure.Figure at 0x116a8b990>"
      ]
     },
     "metadata": {},
     "output_type": "display_data"
    }
   ],
   "source": [
    "# for문을 돌면서 여러개를 모두 찍어봅시다.\n",
    "for index, row in rain_df.iterrows():\n",
    "    label = str(int(row[0]))\n",
    "    plt.plot(range(1,13), row[3:].values, label=label)\n",
    "plt.legend()"
   ]
  },
  {
   "cell_type": "code",
   "execution_count": 190,
   "metadata": {
    "collapsed": true
   },
   "outputs": [],
   "source": [
    "def get_hg(text):\n",
    "    return text.decode('utf-8')"
   ]
  },
  {
   "cell_type": "code",
   "execution_count": 478,
   "metadata": {
    "collapsed": false
   },
   "outputs": [],
   "source": [
    "# \"Tableau 20\" colors as RGB.    \n",
    "tableau20 = [(31, 119, 180), (174, 199, 232), (255, 127, 14), (255, 187, 120),    \n",
    "             (44, 160, 44), (152, 223, 138), (214, 39, 40), (255, 152, 150),    \n",
    "             (148, 103, 189), (197, 176, 213), (140, 86, 75), (196, 156, 148),    \n",
    "             (227, 119, 194), (247, 182, 210), (127, 127, 127), (199, 199, 199),    \n",
    "             (188, 189, 34), (219, 219, 141), (23, 190, 207), (158, 218, 229)]    \n",
    "  \n",
    "# Scale the RGB values to the [0, 1] range, which is the format matplotlib accepts.    \n",
    "for i in range(len(tableau20)):    \n",
    "    r, g, b = tableau20[i]    \n",
    "    tableau20[i] = (r / 255., g / 255., b / 255.)\n",
    "#     print tableau20[i]"
   ]
  },
  {
   "cell_type": "code",
   "execution_count": 488,
   "metadata": {
    "collapsed": false
   },
   "outputs": [
    {
     "data": {
      "image/png": "[encoded data removed]",
      "text/plain": [
       "<matplotlib.figure.Figure at 0x11c3e8690>"
      ]
     },
     "metadata": {},
     "output_type": "display_data"
    }
   ],
   "source": [
    "# figure size => (w,h) in inch\n",
    "plt.figure(figsize=(16,10))\n",
    "\n",
    "# 색깔 및 다른 속성들도 조금 더 바꿔보죠.\n",
    "for index, row in rain_df.iterrows():\n",
    "    label = str(int(row[0])) + '년'\n",
    "    plt.plot(range(1,13), row[3:].values, 'o-', label=label.decode('utf-8'), \\\n",
    "             linewidth=3, color=tableau20[index], alpha=0.5)\n",
    "    \n",
    "plt.title(get_hg('강수량'))\n",
    "plt.xticks(range(1,13), data_2008.index, rotation=45)\n",
    "plt.ylabel('mm', rotation=0)\n",
    "plt.legend(loc='upper left')\n",
    "\n",
    "# X,Y축 범위를 조절합니다.\n",
    "plt.xlim([1,12])\n",
    "plt.ylim([0,1200])\n",
    "\n",
    "# x tick을 정합니다.\n",
    "plt.xticks(x)\n",
    "\n",
    "# margin을 정해줍니다.\n",
    "plot_x_margin = 1\n",
    "plot_y_margin = 300\n",
    "xl, xr, yl, yr = plt.axis()\n",
    "plt.axis((xl - plot_x_margin,\n",
    "          xr + plot_x_margin,\n",
    "          yl - plot_y_margin,\n",
    "          yr + plot_y_margin))\n",
    "\n",
    "# spine 지우기\n",
    "ax = plt.subplot(111)    \n",
    "ax.spines[\"top\"].set_visible(False)    \n",
    "ax.spines[\"bottom\"].set_visible(False)    \n",
    "ax.spines[\"right\"].set_visible(False)    \n",
    "ax.spines[\"left\"].set_visible(False) \n",
    "\n",
    "# grid 보여주기\n",
    "plt.grid()\n",
    "\n",
    "# tick 지우기\n",
    "plt.tick_params(bottom=\"off\", top=\"off\", left=\"off\", right=\"off\",\n",
    "                labelbottom=\"on\", labelleft=\"on\")"
   ]
  },
  {
   "cell_type": "markdown",
   "metadata": {
    "collapsed": true
   },
   "source": [
    "### 참고\n",
    "- [matplotlib pyplot tutorial](http://matplotlib.org/users/pyplot_tutorial.html)\n",
    "- [matplotlib.pyplot.plot documentation](http://matplotlib.org/api/pyplot_api.html#matplotlib.pyplot.plot)\n",
    "- [An introduction to seaborn](http://stanford.edu/~mwaskom/software/seaborn/introduction.html#introduction)\n",
    "- [Example 보기](http://stanford.edu/~mwaskom/software/seaborn/examples/index.html#example-gallery)\n",
    "- [how-to-make-beautiful-data-visualizations-in-python-with-matplotlib](http://www.randalolson.com/2014/06/28/how-to-make-beautiful-data-visualizations-in-python-with-matplotlib/)\n"
   ]
  }
 ],
 "metadata": {
  "kernelspec": {
   "display_name": "Python 2",
   "language": "python",
   "name": "python2"
  },
  "language_info": {
   "codemirror_mode": {
    "name": "ipython",
    "version": 2
   },
   "file_extension": ".py",
   "mimetype": "text/x-python",
   "name": "python",
   "nbconvert_exporter": "python",
   "pygments_lexer": "ipython2",
   "version": "2.7.9"
  }
 },
 "nbformat": 4,
 "nbformat_minor": 0
}

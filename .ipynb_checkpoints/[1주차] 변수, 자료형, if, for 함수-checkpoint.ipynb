{
 "cells": [
  {
   "cell_type": "markdown",
   "metadata": {},
   "source": [
    "# 1주차 배운 내용\n",
    "\n",
    "### 파이썬\n",
    " - print 'Hello, world!'\n",
    " - 변수와 자료형\n",
    " - if, for, def(함수)\n",
    " - 커피 메뉴 만들기\n",
    "     \n",
    "### 개발 환경\n",
    " - Python 2.7 설치\n",
    " - 파이참(PyCharm) 설치"
   ]
  },
  {
   "cell_type": "markdown",
   "metadata": {},
   "source": [
    "## Print 'Hello, world!'"
   ]
  },
  {
   "cell_type": "code",
   "execution_count": 30,
   "metadata": {
    "collapsed": false
   },
   "outputs": [
    {
     "name": "stdout",
     "output_type": "stream",
     "text": [
      "Hello, world!\n"
     ]
    }
   ],
   "source": [
    "print 'Hello, world!'"
   ]
  },
  {
   "cell_type": "markdown",
   "metadata": {},
   "source": [
    "## 변수와 자료형"
   ]
  },
  {
   "cell_type": "code",
   "execution_count": 53,
   "metadata": {
    "collapsed": false
   },
   "outputs": [],
   "source": [
    "# string\n",
    "text = \"문자열입니다.\"\n",
    "\n",
    "# integer\n",
    "number_1 = 12\n",
    "\n",
    "# float\n",
    "number_2 = 2.0\n",
    "\n",
    "# dictionary\n",
    "americano = {'price': 4000, 'name':'아메리카노'}\n",
    "caffe_mocha = {'price': 6000, 'name': '카페모카'}\n",
    "\n",
    "# list\n",
    "coffee_menu = [americano, caffe_mocha]"
   ]
  },
  {
   "cell_type": "code",
   "execution_count": 54,
   "metadata": {
    "collapsed": false
   },
   "outputs": [
    {
     "name": "stdout",
     "output_type": "stream",
     "text": [
      "[{'price': 4000, 'name': '\\xec\\x95\\x84\\xeb\\xa9\\x94\\xeb\\xa6\\xac\\xec\\xb9\\xb4\\xeb\\x85\\xb8'}, {'price': 6000, 'name': '\\xec\\xb9\\xb4\\xed\\x8e\\x98\\xeb\\xaa\\xa8\\xec\\xb9\\xb4'}]\n"
     ]
    }
   ],
   "source": [
    "print coffee_menu"
   ]
  },
  {
   "cell_type": "code",
   "execution_count": 55,
   "metadata": {
    "collapsed": false
   },
   "outputs": [
    {
     "name": "stdout",
     "output_type": "stream",
     "text": [
      "<type 'dict'>\n",
      "<type 'list'>\n",
      "<type 'int'>\n",
      "<type 'float'>\n",
      "<type 'str'>\n"
     ]
    }
   ],
   "source": [
    "# python 기본 내장 함수인 type()을 활용하면, 변수가 어떤 자료형인지 알 수 있습니다.\n",
    "print type(americano)\n",
    "print type(coffee_menu)\n",
    "print type(1)\n",
    "print type(2.0)\n",
    "print type('문자열')"
   ]
  },
  {
   "cell_type": "markdown",
   "metadata": {},
   "source": [
    "## if"
   ]
  },
  {
   "cell_type": "code",
   "execution_count": 35,
   "metadata": {
    "collapsed": false
   },
   "outputs": [
    {
     "name": "stdout",
     "output_type": "stream",
     "text": [
      "3 입니다.\n"
     ]
    }
   ],
   "source": [
    "variable = 3\n",
    "if variable == 3:\n",
    "    print '3 입니다.'\n",
    "else:\n",
    "    print '3이 아닙니다.'"
   ]
  },
  {
   "cell_type": "markdown",
   "metadata": {},
   "source": [
    "## for"
   ]
  },
  {
   "cell_type": "code",
   "execution_count": 56,
   "metadata": {
    "collapsed": false
   },
   "outputs": [
    {
     "name": "stdout",
     "output_type": "stream",
     "text": [
      "5050\n"
     ]
    }
   ],
   "source": [
    "sum = 0\n",
    "for i in range(1,101):\n",
    "    sum = sum + i\n",
    "print sum"
   ]
  },
  {
   "cell_type": "code",
   "execution_count": 58,
   "metadata": {
    "collapsed": false
   },
   "outputs": [
    {
     "name": "stdout",
     "output_type": "stream",
     "text": [
      "3628800\n"
     ]
    }
   ],
   "source": [
    "result = 1\n",
    "for i in range(1,11):\n",
    "    result = result * i\n",
    "print result"
   ]
  },
  {
   "cell_type": "markdown",
   "metadata": {},
   "source": [
    "## def (함수)"
   ]
  },
  {
   "cell_type": "code",
   "execution_count": 40,
   "metadata": {
    "collapsed": false
   },
   "outputs": [
    {
     "name": "stdout",
     "output_type": "stream",
     "text": [
      "-1\n"
     ]
    }
   ],
   "source": [
    "def calculate(one, two, operator):\n",
    "    if operator == \"+\":\n",
    "        print one + two\n",
    "    elif operator == \"-\":\n",
    "        print one - two\n",
    "    else:\n",
    "        print \"정의되지 않은 연산입니다.\"\n",
    "\n",
    "calculate(4,5,\"-\")"
   ]
  },
  {
   "cell_type": "markdown",
   "metadata": {},
   "source": [
    "## 커피 메뉴 만들기"
   ]
  },
  {
   "cell_type": "code",
   "execution_count": 44,
   "metadata": {
    "collapsed": true
   },
   "outputs": [],
   "source": [
    "# coffee_menu list 선언\n",
    "coffee_menu = []\n",
    "\n",
    "# 오늘 배운 함수를 이용하여, 이렇게 dictionary 객체를 만들 수도 있습니다.\n",
    "def create_coffee(name, price):\n",
    "    coffee = {}\n",
    "    coffee['name'] = name\n",
    "    coffee['price'] = price\n",
    "    return coffee\n",
    "\n",
    "# list에 append를 하면, \n",
    "coffee_menu.append(create_coffee(\"카페라떼\", 5000))\n",
    "coffee_menu.append(create_coffee(\"아메리카노\", 4000))\n",
    "coffee_menu.append(create_coffee(\"카페모카\", 6000))\n",
    "coffee_menu.append(create_coffee(\"프라프치노\", 7000))"
   ]
  },
  {
   "cell_type": "code",
   "execution_count": 45,
   "metadata": {
    "collapsed": false
   },
   "outputs": [
    {
     "name": "stdout",
     "output_type": "stream",
     "text": [
      "5000 카페라떼\n",
      "4000 아메리카노\n",
      "6000 카페모카\n",
      "7000 프라프치노\n"
     ]
    }
   ],
   "source": [
    "for coffee in coffee_menu:\n",
    "    print coffee['price'], coffee['name']"
   ]
  },
  {
   "cell_type": "code",
   "execution_count": 50,
   "metadata": {
    "collapsed": true
   },
   "outputs": [],
   "source": [
    "def get_coffee_price_under(price):\n",
    "    for coffee in coffee_menu:\n",
    "        if coffee['price'] < price:\n",
    "            print coffee['name']"
   ]
  },
  {
   "cell_type": "code",
   "execution_count": 51,
   "metadata": {
    "collapsed": false
   },
   "outputs": [
    {
     "name": "stdout",
     "output_type": "stream",
     "text": [
      "카페라떼\n",
      "아메리카노\n"
     ]
    }
   ],
   "source": [
    "get_coffee_price_under(5500)"
   ]
  }
 ],
 "metadata": {
  "kernelspec": {
   "display_name": "Python 2",
   "language": "python",
   "name": "python2"
  },
  "language_info": {
   "codemirror_mode": {
    "name": "ipython",
    "version": 2
   },
   "file_extension": ".py",
   "mimetype": "text/x-python",
   "name": "python",
   "nbconvert_exporter": "python",
   "pygments_lexer": "ipython2",
   "version": "2.7.9"
  }
 },
 "nbformat": 4,
 "nbformat_minor": 0
}
